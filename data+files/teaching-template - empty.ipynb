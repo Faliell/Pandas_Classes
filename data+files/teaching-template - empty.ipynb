{
 "cells": [
  {
   "cell_type": "code",
   "execution_count": 12,
   "id": "39cfbfd2-1e18-4fd9-a453-5645fdd04a8f",
   "metadata": {},
   "outputs": [],
   "source": [
    "import pandas as pd\n",
    "import numpy as np"
   ]
  },
  {
   "cell_type": "code",
   "execution_count": 22,
   "id": "747beabe-1f41-4c3d-9c8a-440088e1bf79",
   "metadata": {},
   "outputs": [],
   "source": [
    "personal_data = pd.read_csv(\"personal_data.csv\")\n",
    "sales = pd.read_csv(\"sales.csv\")\n",
    "BS = pd.read_parquet(\"balance_sheet.parquet\")"
   ]
  }
 ],
 "metadata": {
  "kernelspec": {
   "display_name": "Python 3 (ipykernel)",
   "language": "python",
   "name": "python3"
  },
  "language_info": {
   "codemirror_mode": {
    "name": "ipython",
    "version": 3
   },
   "file_extension": ".py",
   "mimetype": "text/x-python",
   "name": "python",
   "nbconvert_exporter": "python",
   "pygments_lexer": "ipython3",
   "version": "3.11.4"
  }
 },
 "nbformat": 4,
 "nbformat_minor": 5
}
