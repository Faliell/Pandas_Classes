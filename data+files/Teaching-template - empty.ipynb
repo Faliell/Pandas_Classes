{
 "cells": [
  {
   "cell_type": "markdown",
   "id": "cffd3f35-897d-4383-a985-b5c5bd5f61ef",
   "metadata": {},
   "source": [
    "# Stock Momentum Case Study"
   ]
  },
  {
   "cell_type": "code",
   "execution_count": 1,
   "id": "5d12a960-9f8c-45f9-a96c-36cf9daee7ba",
   "metadata": {},
   "outputs": [],
   "source": [
    "import pandas as pd\n",
    "import numpy as np"
   ]
  },
  {
   "cell_type": "markdown",
   "id": "ff729529-1432-4a44-ab49-18b60d741c94",
   "metadata": {},
   "source": [
    "## Step 1: Import Datasets"
   ]
  },
  {
   "cell_type": "code",
   "execution_count": 2,
   "id": "56b30846-62ae-4473-9b10-979819545cb6",
   "metadata": {},
   "outputs": [],
   "source": [
    "FF = pd.read_csv(\"Fama_French_daily.csv\") # Fama-French Dataset\n",
    "daily_prices = pd.read_parquet(\"sp500_daily_prices.parquet\")"
   ]
  },
  {
   "cell_type": "code",
   "execution_count": null,
   "id": "8b230c72-a2b6-4e0b-a82d-c0c00a4e3aba",
   "metadata": {},
   "outputs": [],
   "source": []
  },
  {
   "cell_type": "code",
   "execution_count": null,
   "id": "307271f4-ef40-4d37-9b32-eb45013a2c15",
   "metadata": {},
   "outputs": [],
   "source": []
  },
  {
   "cell_type": "code",
   "execution_count": null,
   "id": "a8d60c76-b860-4882-9237-506335267aab",
   "metadata": {},
   "outputs": [],
   "source": []
  }
 ],
 "metadata": {
  "kernelspec": {
   "display_name": "Python 3 (ipykernel)",
   "language": "python",
   "name": "python3"
  },
  "language_info": {
   "codemirror_mode": {
    "name": "ipython",
    "version": 3
   },
   "file_extension": ".py",
   "mimetype": "text/x-python",
   "name": "python",
   "nbconvert_exporter": "python",
   "pygments_lexer": "ipython3",
   "version": "3.11.4"
  }
 },
 "nbformat": 4,
 "nbformat_minor": 5
}
