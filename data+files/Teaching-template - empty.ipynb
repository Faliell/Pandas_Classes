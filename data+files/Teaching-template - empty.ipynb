{
 "cells": [
  {
   "cell_type": "code",
   "execution_count": 6,
   "id": "76926d1b-5317-4dda-b420-960c2d61c73a",
   "metadata": {},
   "outputs": [],
   "source": [
    "import pandas as pd\n",
    "import numpy as np\n",
    "import matplotlib.pyplot as plt"
   ]
  },
  {
   "cell_type": "code",
   "execution_count": 7,
   "id": "aec41876-e08d-4267-a6dd-83140b02d289",
   "metadata": {},
   "outputs": [],
   "source": [
    "daily_prices = pd.read_parquet(\"sp500_daily_prices.parquet\")"
   ]
  },
  {
   "cell_type": "code",
   "execution_count": 9,
   "id": "1d7974f8-e656-4bf4-bbf1-6b5b8169c84e",
   "metadata": {},
   "outputs": [
    {
     "data": {
      "text/html": [
       "<div>\n",
       "<style scoped>\n",
       "    .dataframe tbody tr th:only-of-type {\n",
       "        vertical-align: middle;\n",
       "    }\n",
       "\n",
       "    .dataframe tbody tr th {\n",
       "        vertical-align: top;\n",
       "    }\n",
       "\n",
       "    .dataframe thead th {\n",
       "        text-align: right;\n",
       "    }\n",
       "</style>\n",
       "<table border=\"1\" class=\"dataframe\">\n",
       "  <thead>\n",
       "    <tr style=\"text-align: right;\">\n",
       "      <th></th>\n",
       "      <th>date</th>\n",
       "      <th>close</th>\n",
       "      <th>symbol</th>\n",
       "    </tr>\n",
       "  </thead>\n",
       "  <tbody>\n",
       "    <tr>\n",
       "      <th>2544</th>\n",
       "      <td>2010-01-04</td>\n",
       "      <td>31.30</td>\n",
       "      <td>A</td>\n",
       "    </tr>\n",
       "    <tr>\n",
       "      <th>2545</th>\n",
       "      <td>2010-01-05</td>\n",
       "      <td>30.96</td>\n",
       "      <td>A</td>\n",
       "    </tr>\n",
       "  </tbody>\n",
       "</table>\n",
       "</div>"
      ],
      "text/plain": [
       "           date  close symbol\n",
       "2544 2010-01-04  31.30      A\n",
       "2545 2010-01-05  30.96      A"
      ]
     },
     "execution_count": 9,
     "metadata": {},
     "output_type": "execute_result"
    }
   ],
   "source": [
    "daily_prices.head(2)"
   ]
  },
  {
   "cell_type": "code",
   "execution_count": 10,
   "id": "d56cffc8-f76e-45b4-af95-ca80d5b26037",
   "metadata": {},
   "outputs": [],
   "source": [
    "apple = daily_prices.loc[daily_prices.symbol == \"AAPL\"]"
   ]
  },
  {
   "cell_type": "code",
   "execution_count": 12,
   "id": "eaf4dbce-520d-4433-b06b-5e57fd3bd1ab",
   "metadata": {},
   "outputs": [
    {
     "data": {
      "text/html": [
       "<div>\n",
       "<style scoped>\n",
       "    .dataframe tbody tr th:only-of-type {\n",
       "        vertical-align: middle;\n",
       "    }\n",
       "\n",
       "    .dataframe tbody tr th {\n",
       "        vertical-align: top;\n",
       "    }\n",
       "\n",
       "    .dataframe thead th {\n",
       "        text-align: right;\n",
       "    }\n",
       "</style>\n",
       "<table border=\"1\" class=\"dataframe\">\n",
       "  <thead>\n",
       "    <tr style=\"text-align: right;\">\n",
       "      <th></th>\n",
       "      <th>date</th>\n",
       "      <th>close</th>\n",
       "      <th>symbol</th>\n",
       "    </tr>\n",
       "  </thead>\n",
       "  <tbody>\n",
       "    <tr>\n",
       "      <th>83068</th>\n",
       "      <td>2023-08-04</td>\n",
       "      <td>181.99</td>\n",
       "      <td>AAPL</td>\n",
       "    </tr>\n",
       "    <tr>\n",
       "      <th>83069</th>\n",
       "      <td>2023-08-07</td>\n",
       "      <td>179.32</td>\n",
       "      <td>AAPL</td>\n",
       "    </tr>\n",
       "  </tbody>\n",
       "</table>\n",
       "</div>"
      ],
      "text/plain": [
       "            date   close symbol\n",
       "83068 2023-08-04  181.99   AAPL\n",
       "83069 2023-08-07  179.32   AAPL"
      ]
     },
     "execution_count": 12,
     "metadata": {},
     "output_type": "execute_result"
    }
   ],
   "source": [
    "apple.tail(2)"
   ]
  },
  {
   "cell_type": "code",
   "execution_count": 13,
   "id": "6e0cc633-0256-4705-af23-1bb3f2d5f68a",
   "metadata": {},
   "outputs": [],
   "source": [
    "stocks = ( daily_prices\n",
    "          .loc[daily_prices.symbol.isin([\"AAPL\", \"IBM\", \"BA\", \"NVDA\"])] \n",
    "          .pivot(index=\"date\", columns=\"symbol\", values=\"close\")\n",
    "         )"
   ]
  },
  {
   "cell_type": "code",
   "execution_count": 14,
   "id": "71f67822-5d86-4831-8328-0a8b64dbb514",
   "metadata": {},
   "outputs": [
    {
     "data": {
      "text/html": [
       "<div>\n",
       "<style scoped>\n",
       "    .dataframe tbody tr th:only-of-type {\n",
       "        vertical-align: middle;\n",
       "    }\n",
       "\n",
       "    .dataframe tbody tr th {\n",
       "        vertical-align: top;\n",
       "    }\n",
       "\n",
       "    .dataframe thead th {\n",
       "        text-align: right;\n",
       "    }\n",
       "</style>\n",
       "<table border=\"1\" class=\"dataframe\">\n",
       "  <thead>\n",
       "    <tr style=\"text-align: right;\">\n",
       "      <th>symbol</th>\n",
       "      <th>AAPL</th>\n",
       "      <th>BA</th>\n",
       "      <th>IBM</th>\n",
       "      <th>NVDA</th>\n",
       "    </tr>\n",
       "    <tr>\n",
       "      <th>date</th>\n",
       "      <th></th>\n",
       "      <th></th>\n",
       "      <th></th>\n",
       "      <th></th>\n",
       "    </tr>\n",
       "  </thead>\n",
       "  <tbody>\n",
       "    <tr>\n",
       "      <th>2010-01-04</th>\n",
       "      <td>7.6432</td>\n",
       "      <td>56.18</td>\n",
       "      <td>132.45</td>\n",
       "      <td>4.6225</td>\n",
       "    </tr>\n",
       "    <tr>\n",
       "      <th>2010-01-05</th>\n",
       "      <td>7.6564</td>\n",
       "      <td>58.02</td>\n",
       "      <td>130.85</td>\n",
       "      <td>4.6900</td>\n",
       "    </tr>\n",
       "    <tr>\n",
       "      <th>2010-01-06</th>\n",
       "      <td>7.5346</td>\n",
       "      <td>59.78</td>\n",
       "      <td>130.00</td>\n",
       "      <td>4.7200</td>\n",
       "    </tr>\n",
       "    <tr>\n",
       "      <th>2010-01-07</th>\n",
       "      <td>7.5207</td>\n",
       "      <td>62.20</td>\n",
       "      <td>129.55</td>\n",
       "      <td>4.6275</td>\n",
       "    </tr>\n",
       "    <tr>\n",
       "      <th>2010-01-08</th>\n",
       "      <td>7.5707</td>\n",
       "      <td>61.60</td>\n",
       "      <td>130.85</td>\n",
       "      <td>4.6375</td>\n",
       "    </tr>\n",
       "    <tr>\n",
       "      <th>...</th>\n",
       "      <td>...</td>\n",
       "      <td>...</td>\n",
       "      <td>...</td>\n",
       "      <td>...</td>\n",
       "    </tr>\n",
       "    <tr>\n",
       "      <th>2023-08-01</th>\n",
       "      <td>195.6050</td>\n",
       "      <td>238.01</td>\n",
       "      <td>143.33</td>\n",
       "      <td>465.0700</td>\n",
       "    </tr>\n",
       "    <tr>\n",
       "      <th>2023-08-02</th>\n",
       "      <td>192.5800</td>\n",
       "      <td>231.38</td>\n",
       "      <td>144.17</td>\n",
       "      <td>442.6900</td>\n",
       "    </tr>\n",
       "    <tr>\n",
       "      <th>2023-08-03</th>\n",
       "      <td>191.1700</td>\n",
       "      <td>231.36</td>\n",
       "      <td>144.45</td>\n",
       "      <td>445.1500</td>\n",
       "    </tr>\n",
       "    <tr>\n",
       "      <th>2023-08-04</th>\n",
       "      <td>181.9900</td>\n",
       "      <td>231.36</td>\n",
       "      <td>144.24</td>\n",
       "      <td>446.8000</td>\n",
       "    </tr>\n",
       "    <tr>\n",
       "      <th>2023-08-07</th>\n",
       "      <td>179.3200</td>\n",
       "      <td>236.56</td>\n",
       "      <td>145.91</td>\n",
       "      <td>453.5800</td>\n",
       "    </tr>\n",
       "  </tbody>\n",
       "</table>\n",
       "<p>3421 rows × 4 columns</p>\n",
       "</div>"
      ],
      "text/plain": [
       "symbol          AAPL      BA     IBM      NVDA\n",
       "date                                          \n",
       "2010-01-04    7.6432   56.18  132.45    4.6225\n",
       "2010-01-05    7.6564   58.02  130.85    4.6900\n",
       "2010-01-06    7.5346   59.78  130.00    4.7200\n",
       "2010-01-07    7.5207   62.20  129.55    4.6275\n",
       "2010-01-08    7.5707   61.60  130.85    4.6375\n",
       "...              ...     ...     ...       ...\n",
       "2023-08-01  195.6050  238.01  143.33  465.0700\n",
       "2023-08-02  192.5800  231.38  144.17  442.6900\n",
       "2023-08-03  191.1700  231.36  144.45  445.1500\n",
       "2023-08-04  181.9900  231.36  144.24  446.8000\n",
       "2023-08-07  179.3200  236.56  145.91  453.5800\n",
       "\n",
       "[3421 rows x 4 columns]"
      ]
     },
     "execution_count": 14,
     "metadata": {},
     "output_type": "execute_result"
    }
   ],
   "source": [
    "stocks"
   ]
  },
  {
   "cell_type": "markdown",
   "id": "f4a11029-e2b8-4186-b527-68a9e315f987",
   "metadata": {},
   "source": [
    "### 1) Line Plots"
   ]
  },
  {
   "cell_type": "code",
   "execution_count": null,
   "id": "cc6a86eb-d21c-45b7-b7ed-71bf41d5eecc",
   "metadata": {},
   "outputs": [],
   "source": []
  }
 ],
 "metadata": {
  "kernelspec": {
   "display_name": "Python 3 (ipykernel)",
   "language": "python",
   "name": "python3"
  },
  "language_info": {
   "codemirror_mode": {
    "name": "ipython",
    "version": 3
   },
   "file_extension": ".py",
   "mimetype": "text/x-python",
   "name": "python",
   "nbconvert_exporter": "python",
   "pygments_lexer": "ipython3",
   "version": "3.11.4"
  }
 },
 "nbformat": 4,
 "nbformat_minor": 5
}
