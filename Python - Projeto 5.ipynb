{
 "cells": [
  {
   "cell_type": "markdown",
   "metadata": {},
   "source": [
    "Tarefa 1: Extração de Dados\n",
    "\n",
    "Escreva em Python os comandos para ligar à base de dados SQL e extrair dados das tabelas relevantes usando comandos SQL embebidos em Python. Use o código SQL adequado aos dados a extrair. Use libraries como SQLAlchemy e Pandas para interação com a base de dados."
   ]
  },
  {
   "cell_type": "code",
   "execution_count": null,
   "metadata": {},
   "outputs": [],
   "source": [
    "#Importar os módulos e funções necessárias\n",
    "\n",
    "import pandas as pd\n",
    "from sqlalchemy import create_engine\n",
    "import getpass"
   ]
  },
  {
   "cell_type": "code",
   "execution_count": null,
   "metadata": {},
   "outputs": [],
   "source": [
    "#Criação das variáveis necessárias para ligar ao servidor da base de dados de DDM\n",
    "\n",
    "server = 'se-dbm-4b.database.windows.net'\n",
    "database = 'dbm-4b'\n",
    "username = 'g02'\n",
    "password = getpass.getpass('Please provide the password for group 2')\n",
    "driver = 'SQL Server'"
   ]
  },
  {
   "cell_type": "code",
   "execution_count": null,
   "metadata": {},
   "outputs": [],
   "source": [
    "#Definição da connection string com as variáveis anteriormente criadas\n",
    "\n",
    "connection_string = f'mssql+pyodbc://{username}:{password}@{server}/{database}?driver={driver}'"
   ]
  },
  {
   "cell_type": "code",
   "execution_count": null,
   "metadata": {},
   "outputs": [],
   "source": [
    "#Criação da variável engine com a connection à base de dados\n",
    "\n",
    "engine = create_engine(connection_string)"
   ]
  },
  {
   "cell_type": "code",
   "execution_count": null,
   "metadata": {},
   "outputs": [],
   "source": [
    "#Tabela + dataframe com a informação dos produtos e vendas\n",
    "\n",
    "p_query = 'SELECT sod.productID, sod.orderqty, sod.unitprice, sod.unitpricediscount, sod.linetotal, p.name, p.standardcost, p.color, \\\n",
    "    soh.orderdate FROM SalesOrderDetail sod \\\n",
    "        LEFT JOIN product p ON p.ProductID = sod.ProductID \\\n",
    "            LEFT JOIN SalesOrderHeader soh ON soh.SalesOrderID = sod.SalesOrderID'\n",
    "\n",
    "dfp = pd.read_sql(p_query, engine)"
   ]
  },
  {
   "cell_type": "code",
   "execution_count": 90,
   "metadata": {},
   "outputs": [],
   "source": [
    "#Tabela + dataframe  com informação das categorias dos clientes e vendas\n",
    "\n",
    "pc_query = 'SELECT c.CustomerID, c.CompanyName, c.FirstName, c.LastName, a.city, a.countryregion, soh.salesorderid, sod.linetotal \\\n",
    "        FROM Customer c \\\n",
    "            LEFT JOIN CustomerAddress ca on ca.customerID = c.CustomerID \\\n",
    "                LEFT JOIN Address a ON a.AddressID = ca.addressID \\\n",
    "                    LEFT JOIN SalesOrderHeader soh ON soh.CustomerID = c.CustomerID \\\n",
    "                        LEFT JOIN SalesOrderDetail sod ON sod.salesorderid = soh.salesorderid'\n",
    "\n",
    "dfpc = pd.read_sql(pc_query, engine)"
   ]
  },
  {
   "cell_type": "code",
   "execution_count": null,
   "metadata": {},
   "outputs": [],
   "source": [
    "engine.dispose()"
   ]
  },
  {
   "cell_type": "markdown",
   "metadata": {},
   "source": [
    "Tarefa 2: Data Cleaning and Preprocessing\n",
    "\n",
    " Execute, se necessário, tarefas de limpeza de dados para lidar com quaisquer valores ausentes ou \n",
    "anomalias (ex. Tipos de dados inadequados) para garantir que os tipos de dados estejam corretos e \n",
    "adequados para análise.\n"
   ]
  },
  {
   "cell_type": "markdown",
   "metadata": {},
   "source": [
    "Criámos funções de fácil uso para analisar as datagrames"
   ]
  },
  {
   "cell_type": "code",
   "execution_count": null,
   "metadata": {},
   "outputs": [],
   "source": [
    "#Verificar se existem nulls e onde estão\n",
    "def columns_with_nulls(df):\n",
    "    return [col for col in df.columns if df[col].isnull().any()]\n",
    "\n",
    "#Contar os nulls nas colunas\n",
    "\n",
    "def columns_nulls_total(df):\n",
    "    print(df.isnull().sum())\n",
    "\n",
    "# Verificar os data types das colunas\n",
    "def check_column_types(df):\n",
    "    return df.dtypes\n"
   ]
  },
  {
   "cell_type": "markdown",
   "metadata": {},
   "source": [
    "Analisar e tratar informação do Dataframe DFP"
   ]
  },
  {
   "cell_type": "markdown",
   "metadata": {},
   "source": [
    " - Analisar de forma geral toda a info do dataframe"
   ]
  },
  {
   "cell_type": "code",
   "execution_count": 89,
   "metadata": {},
   "outputs": [
    {
     "name": "stdout",
     "output_type": "stream",
     "text": [
      "        productID    orderqty    unitprice  unitpricediscount     linetotal  \\\n",
      "count  542.000000  542.000000   542.000000         542.000000    542.000000   \n",
      "mean   882.732472    3.850554   382.870079           0.015498   1307.546408   \n",
      "std     88.079302    3.297592   472.204091           0.073791   2348.085470   \n",
      "min    707.000000    1.000000     1.374000           0.000000      2.994000   \n",
      "25%    810.750000    2.000000    32.394000           0.000000     89.982000   \n",
      "50%    893.000000    3.000000   149.874000           0.000000    316.860000   \n",
      "75%    958.000000    5.000000   602.346000           0.000000   1390.266000   \n",
      "max    999.000000   25.000000  1466.010000           0.400000  19136.137500   \n",
      "\n",
      "       standardcost  \n",
      "count    542.000000  \n",
      "mean     385.514897  \n",
      "std      473.079908  \n",
      "min        0.856500  \n",
      "25%       26.176300  \n",
      "50%      144.593800  \n",
      "75%      601.743700  \n",
      "max     1554.947900  \n"
     ]
    }
   ],
   "source": [
    "\n",
    "print(dfp.describe())"
   ]
  },
  {
   "cell_type": "code",
   "execution_count": 94,
   "metadata": {},
   "outputs": [
    {
     "name": "stdout",
     "output_type": "stream",
     "text": [
      "   productID  orderqty  unitprice  unitpricediscount  linetotal  \\\n",
      "0        836         1    356.898                0.0    356.898   \n",
      "1        822         1    356.898                0.0    356.898   \n",
      "2        907         1     63.900                0.0     63.900   \n",
      "3        905         4    218.454                0.0    873.816   \n",
      "4        983         2    461.694                0.0    923.388   \n",
      "\n",
      "                               name  standardcost   color  \n",
      "0      ML Road Frame-W - Yellow, 48      360.9428  Yellow  \n",
      "1      ML Road Frame-W - Yellow, 38      360.9428  Yellow  \n",
      "2                       Rear Brakes       47.2860  Silver  \n",
      "3  ML Mountain Frame-W - Silver, 42      199.3757  Silver  \n",
      "4         Mountain-400-W Silver, 46      419.7784  Silver  \n"
     ]
    }
   ],
   "source": [
    "print(dfp.head())"
   ]
  },
  {
   "cell_type": "markdown",
   "metadata": {},
   "source": [
    " - Apagar coluna que não necessitamos"
   ]
  },
  {
   "cell_type": "code",
   "execution_count": null,
   "metadata": {},
   "outputs": [],
   "source": [
    "dfp = dfp.drop(columns=['orderdate'])"
   ]
  },
  {
   "cell_type": "markdown",
   "metadata": {},
   "source": [
    "- Descobrir nome das colunas com nulls"
   ]
  },
  {
   "cell_type": "code",
   "execution_count": null,
   "metadata": {},
   "outputs": [],
   "source": [
    "print(columns_with_nulls(dfp))"
   ]
  },
  {
   "cell_type": "markdown",
   "metadata": {},
   "source": [
    "- Verificar quantidade de nulls para ver a sua relevância"
   ]
  },
  {
   "cell_type": "code",
   "execution_count": null,
   "metadata": {},
   "outputs": [],
   "source": [
    "print(columns_nulls_total(dfp))"
   ]
  },
  {
   "cell_type": "markdown",
   "metadata": {},
   "source": [
    "- Alterar os nulls por outro valor na df\n"
   ]
  },
  {
   "cell_type": "code",
   "execution_count": null,
   "metadata": {},
   "outputs": [],
   "source": [
    "#Existe 64 nulls em 'color' da df, como não sabemos a cor substituimos por 'Not_Defined'\n",
    "\n",
    "dfp.fillna('NotDefined', inplace=True)"
   ]
  },
  {
   "cell_type": "markdown",
   "metadata": {},
   "source": [
    "- Analisar datatypes de cada coluna - o tipo de dados está ok para nós"
   ]
  },
  {
   "cell_type": "code",
   "execution_count": null,
   "metadata": {},
   "outputs": [],
   "source": [
    "print(check_column_types(dfpc))"
   ]
  },
  {
   "cell_type": "markdown",
   "metadata": {},
   "source": [
    "- Mudar nomes de colunas da dataframe para algo mais legível"
   ]
  },
  {
   "cell_type": "code",
   "execution_count": null,
   "metadata": {},
   "outputs": [],
   "source": [
    "dfp.rename(columns={'linetotal': 'totalsales'}, inplace=True)\n"
   ]
  },
  {
   "cell_type": "markdown",
   "metadata": {},
   "source": [
    "Analisar e tratar informação do Dataframe DFPC"
   ]
  },
  {
   "cell_type": "markdown",
   "metadata": {},
   "source": [
    " - Analisar de forma geral toda a info do dataframe"
   ]
  },
  {
   "cell_type": "code",
   "execution_count": 92,
   "metadata": {},
   "outputs": [
    {
     "name": "stdout",
     "output_type": "stream",
     "text": [
      "         CustomerID  salesorderid     linetotal\n",
      "count   1367.000000    542.000000    542.000000\n",
      "mean   20332.318947  71848.097786   1307.546408\n",
      "std    13775.758629     60.577654   2348.085470\n",
      "min        1.000000  71774.000000      2.994000\n",
      "25%      539.500000  71784.000000     89.982000\n",
      "50%    29660.000000  71845.000000    316.860000\n",
      "75%    29929.000000  71902.000000   1390.266000\n",
      "max    30118.000000  71946.000000  19136.137500\n"
     ]
    }
   ],
   "source": [
    "\n",
    "print(dfpc.describe())"
   ]
  },
  {
   "cell_type": "code",
   "execution_count": 95,
   "metadata": {},
   "outputs": [
    {
     "name": "stdout",
     "output_type": "stream",
     "text": [
      "   CustomerID                 CompanyName FirstName    LastName  city  \\\n",
      "0           1                A Bike Store   Orlando         Gee  None   \n",
      "1           2          Progressive Sports     Keith      Harris  None   \n",
      "2           3    Advanced Bike Components     Donna    Carreras  None   \n",
      "3           4       Modular Cycle Systems     Janet       Gates  None   \n",
      "4           5  Metropolitan Sports Supply      Lucy  Harrington  None   \n",
      "\n",
      "  countryregion  salesorderid  linetotal  \n",
      "0          None           NaN        NaN  \n",
      "1          None           NaN        NaN  \n",
      "2          None           NaN        NaN  \n",
      "3          None           NaN        NaN  \n",
      "4          None           NaN        NaN  \n"
     ]
    }
   ],
   "source": [
    "print(dfpc.head())"
   ]
  },
  {
   "cell_type": "markdown",
   "metadata": {},
   "source": [
    " - Apagar coluna que não necessitamos"
   ]
  },
  {
   "cell_type": "code",
   "execution_count": 99,
   "metadata": {},
   "outputs": [],
   "source": [
    "dfpc = dfpc.drop(columns=['FirstName','LastName'])"
   ]
  },
  {
   "cell_type": "markdown",
   "metadata": {},
   "source": [
    "- Descobrir nome das colunas com nulls"
   ]
  },
  {
   "cell_type": "code",
   "execution_count": 100,
   "metadata": {},
   "outputs": [
    {
     "name": "stdout",
     "output_type": "stream",
     "text": [
      "[]\n"
     ]
    }
   ],
   "source": [
    "print(columns_with_nulls(dfp))"
   ]
  },
  {
   "cell_type": "markdown",
   "metadata": {},
   "source": [
    "- Verificar quantidade de nulls para ver a sua relevância"
   ]
  },
  {
   "cell_type": "code",
   "execution_count": 101,
   "metadata": {},
   "outputs": [
    {
     "name": "stdout",
     "output_type": "stream",
     "text": [
      "productID            0\n",
      "orderqty             0\n",
      "unitprice            0\n",
      "unitpricediscount    0\n",
      "linetotal            0\n",
      "name                 0\n",
      "standardcost         0\n",
      "color                0\n",
      "dtype: int64\n",
      "None\n"
     ]
    }
   ],
   "source": [
    "print(columns_nulls_total(dfp))"
   ]
  },
  {
   "cell_type": "markdown",
   "metadata": {},
   "source": [
    "- Alterar \"NaN\" e \"None\" por outro valor na df\n"
   ]
  },
  {
   "cell_type": "code",
   "execution_count": 107,
   "metadata": {},
   "outputs": [],
   "source": [
    "dfpc['linetotal'] = dfpc['linetotal'].replace('NaN',0)\n",
    "dfpc['salesorderid'] = dfpc['salesorderid'].replace('NaN','no sales')\n",
    "dfpc['city'] = dfpc['city'].replace('None','not defined')\n",
    "dfpc['countryregion'] = dfpc['countryregion'].replace('None','not defined')"
   ]
  },
  {
   "cell_type": "markdown",
   "metadata": {},
   "source": [
    "- Analisar datatypes de cada coluna - o tipo de dados está ok para nós"
   ]
  },
  {
   "cell_type": "code",
   "execution_count": 108,
   "metadata": {},
   "outputs": [
    {
     "name": "stdout",
     "output_type": "stream",
     "text": [
      "CustomerID         int64\n",
      "CompanyName       object\n",
      "city              object\n",
      "countryregion     object\n",
      "salesorderid     float64\n",
      "linetotal        float64\n",
      "dtype: object\n"
     ]
    }
   ],
   "source": [
    "print(check_column_types(dfpc))"
   ]
  },
  {
   "cell_type": "markdown",
   "metadata": {},
   "source": [
    "- Mudar nomes de colunas da dataframe para algo mais legível"
   ]
  },
  {
   "cell_type": "code",
   "execution_count": 109,
   "metadata": {},
   "outputs": [],
   "source": [
    "dfpc.rename(columns={'linetotal': 'totalsales'}, inplace=True)\n",
    "dfpc.rename(columns={'countryregion': 'country'}, inplace=True)\n"
   ]
  },
  {
   "cell_type": "markdown",
   "metadata": {},
   "source": [
    "Tarefa 3:  Exploratory Data Analysis (EDA)\n",
    "\n",
    " Calcule estatísticas básicas, como vendas totais, vendas médias por dia e vendas médias por categoria de produto.\n",
    " Identifique os produtos e categorias mais vendidos.\n",
    " Analise as tendências de vendas ao longo do tempo, como as tendências de vendas mensais.\n"
   ]
  },
  {
   "cell_type": "markdown",
   "metadata": {},
   "source": [
    "- temos de ter análise para:\n",
    "    - quantidade vendida por produto\n",
    "    - valor vendido por produto\n",
    "    - margem de cada produto (preço venda - custo)\n",
    "    - vendas por company name\n",
    "    - vendas por pais\n",
    "\n",
    "É só colocar isto no excel e formatar as colunas para ficarem bonitas, aparentemente ele vai dar valor a isso\n",
    "\n",
    "Temos de criar pelo menos 2 sheets, podemos ter duas com as análises acima, mas podiamos criar uma primeira, como ele sugere, com todas as alterações que fizemos acima"
   ]
  },
  {
   "cell_type": "markdown",
   "metadata": {},
   "source": [
    "Tarefa 4: Grave os dados num ficheiro Excel\n",
    "\n",
    "Guarde os dados resultantes das suas análises num ficheiro Excel com diferentes Sheets."
   ]
  },
  {
   "cell_type": "code",
   "execution_count": null,
   "metadata": {},
   "outputs": [],
   "source": [
    "#Definição do nome do meu ficheiro\n",
    "\n",
    "my_Excel_file ='ProjetoPPL_Grupo2.xlsx'"
   ]
  },
  {
   "cell_type": "code",
   "execution_count": null,
   "metadata": {},
   "outputs": [],
   "source": [
    "#Criação do ficheiro excel\n",
    "\n",
    "my_writer = pd.ExcelWriter(my_Excel_file, datetime_format='YYYY-MM-DD')"
   ]
  },
  {
   "cell_type": "code",
   "execution_count": null,
   "metadata": {},
   "outputs": [],
   "source": [
    "#Colocar as tablelas por sheets no excel\n",
    "\n",
    "#dfp.to_excel(my_writer, sheet_name='First Query', index=False)"
   ]
  },
  {
   "cell_type": "code",
   "execution_count": null,
   "metadata": {},
   "outputs": [],
   "source": [
    "#Fecha o ficheiro Excel\n",
    "\n",
    "my_writer.close()"
   ]
  }
 ],
 "metadata": {
  "kernelspec": {
   "display_name": "base",
   "language": "python",
   "name": "python3"
  },
  "language_info": {
   "codemirror_mode": {
    "name": "ipython",
    "version": 3
   },
   "file_extension": ".py",
   "mimetype": "text/x-python",
   "name": "python",
   "nbconvert_exporter": "python",
   "pygments_lexer": "ipython3",
   "version": "3.11.5"
  }
 },
 "nbformat": 4,
 "nbformat_minor": 2
}
