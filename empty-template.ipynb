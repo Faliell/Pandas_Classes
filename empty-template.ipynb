{
 "cells": [
  {
   "cell_type": "code",
   "execution_count": 11,
   "id": "8a559136-bf4d-4e3d-8fb1-152b6ed0f9bf",
   "metadata": {},
   "outputs": [],
   "source": [
    "import pandas as pd\n",
    "import numpy as np"
   ]
  },
  {
   "cell_type": "code",
   "execution_count": 12,
   "id": "e812929e-1cc5-4686-94d4-bbacdac0172c",
   "metadata": {},
   "outputs": [
    {
     "data": {
      "text/html": [
       "<div>\n",
       "<style scoped>\n",
       "    .dataframe tbody tr th:only-of-type {\n",
       "        vertical-align: middle;\n",
       "    }\n",
       "\n",
       "    .dataframe tbody tr th {\n",
       "        vertical-align: top;\n",
       "    }\n",
       "\n",
       "    .dataframe thead th {\n",
       "        text-align: right;\n",
       "    }\n",
       "</style>\n",
       "<table border=\"1\" class=\"dataframe\">\n",
       "  <thead>\n",
       "    <tr style=\"text-align: right;\">\n",
       "      <th></th>\n",
       "      <th>A</th>\n",
       "      <th>B</th>\n",
       "      <th>C</th>\n",
       "      <th>D</th>\n",
       "      <th>E</th>\n",
       "    </tr>\n",
       "  </thead>\n",
       "  <tbody>\n",
       "    <tr>\n",
       "      <th>0</th>\n",
       "      <td>x</td>\n",
       "      <td>ab_ab_0</td>\n",
       "      <td>pre_hello</td>\n",
       "      <td>1_x</td>\n",
       "      <td>1</td>\n",
       "    </tr>\n",
       "    <tr>\n",
       "      <th>1</th>\n",
       "      <td>y1</td>\n",
       "      <td>c_d_a</td>\n",
       "      <td>pre_world</td>\n",
       "      <td>2_x</td>\n",
       "      <td>10</td>\n",
       "    </tr>\n",
       "    <tr>\n",
       "      <th>2</th>\n",
       "      <td>z 90</td>\n",
       "      <td>NaN</td>\n",
       "      <td>pre_love</td>\n",
       "      <td>3_x</td>\n",
       "      <td>34</td>\n",
       "    </tr>\n",
       "    <tr>\n",
       "      <th>3</th>\n",
       "      <td>1.0</td>\n",
       "      <td>g_h</td>\n",
       "      <td>pre_python</td>\n",
       "      <td>4_x</td>\n",
       "      <td>5689</td>\n",
       "    </tr>\n",
       "  </tbody>\n",
       "</table>\n",
       "</div>"
      ],
      "text/plain": [
       "        A        B           C    D     E\n",
       "0       x  ab_ab_0   pre_hello  1_x     1\n",
       "1     y1     c_d_a   pre_world  2_x    10\n",
       "2   z 90       NaN    pre_love  3_x    34\n",
       "3     1.0      g_h  pre_python  4_x  5689"
      ]
     },
     "execution_count": 12,
     "metadata": {},
     "output_type": "execute_result"
    }
   ],
   "source": [
    "df = pd.DataFrame({\n",
    "    \"A\":[\" x\", \"y1 \", \" z 90 \", 1.0],\n",
    "    \"B\":[\"ab_ab_0\", \"c_d_a\", np.nan, \"g_h\"],\n",
    "    \"C\":[\"pre_hello\", \"pre_world\", \"pre_love\", \"pre_python\"],\n",
    "    \"D\":[\"1_x\", \"2_x\", \"3_x\", \"4_x\"],\n",
    "    \"E\":[1, 10, 34, 5689]\n",
    "})\n",
    "df"
   ]
  },
  {
   "cell_type": "code",
   "execution_count": null,
   "id": "58b44f3e-110a-4aaf-ada8-c9affc154fa3",
   "metadata": {},
   "outputs": [],
   "source": []
  },
  {
   "cell_type": "code",
   "execution_count": null,
   "id": "df1b0453-56fb-4176-9d3f-e674bae1abb6",
   "metadata": {},
   "outputs": [],
   "source": []
  }
 ],
 "metadata": {
  "kernelspec": {
   "display_name": "Python 3 (ipykernel)",
   "language": "python",
   "name": "python3"
  },
  "language_info": {
   "codemirror_mode": {
    "name": "ipython",
    "version": 3
   },
   "file_extension": ".py",
   "mimetype": "text/x-python",
   "name": "python",
   "nbconvert_exporter": "python",
   "pygments_lexer": "ipython3",
   "version": "3.11.4"
  }
 },
 "nbformat": 4,
 "nbformat_minor": 5
}
