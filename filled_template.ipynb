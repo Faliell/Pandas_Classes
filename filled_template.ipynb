{
 "cells": [
  {
   "cell_type": "code",
   "execution_count": 11,
   "id": "8a559136-bf4d-4e3d-8fb1-152b6ed0f9bf",
   "metadata": {},
   "outputs": [],
   "source": [
    "import pandas as pd\n",
    "import numpy as np"
   ]
  },
  {
   "cell_type": "code",
   "execution_count": 12,
   "id": "e812929e-1cc5-4686-94d4-bbacdac0172c",
   "metadata": {},
   "outputs": [
    {
     "data": {
      "text/html": [
       "<div>\n",
       "<style scoped>\n",
       "    .dataframe tbody tr th:only-of-type {\n",
       "        vertical-align: middle;\n",
       "    }\n",
       "\n",
       "    .dataframe tbody tr th {\n",
       "        vertical-align: top;\n",
       "    }\n",
       "\n",
       "    .dataframe thead th {\n",
       "        text-align: right;\n",
       "    }\n",
       "</style>\n",
       "<table border=\"1\" class=\"dataframe\">\n",
       "  <thead>\n",
       "    <tr style=\"text-align: right;\">\n",
       "      <th></th>\n",
       "      <th>A</th>\n",
       "      <th>B</th>\n",
       "      <th>C</th>\n",
       "      <th>D</th>\n",
       "      <th>E</th>\n",
       "    </tr>\n",
       "  </thead>\n",
       "  <tbody>\n",
       "    <tr>\n",
       "      <th>0</th>\n",
       "      <td>x</td>\n",
       "      <td>ab_ab_0</td>\n",
       "      <td>pre_hello</td>\n",
       "      <td>1_x</td>\n",
       "      <td>1</td>\n",
       "    </tr>\n",
       "    <tr>\n",
       "      <th>1</th>\n",
       "      <td>y1</td>\n",
       "      <td>c_d_a</td>\n",
       "      <td>pre_world</td>\n",
       "      <td>2_x</td>\n",
       "      <td>10</td>\n",
       "    </tr>\n",
       "    <tr>\n",
       "      <th>2</th>\n",
       "      <td>z 90</td>\n",
       "      <td>NaN</td>\n",
       "      <td>pre_love</td>\n",
       "      <td>3_x</td>\n",
       "      <td>34</td>\n",
       "    </tr>\n",
       "    <tr>\n",
       "      <th>3</th>\n",
       "      <td>1.0</td>\n",
       "      <td>g_h</td>\n",
       "      <td>pre_python</td>\n",
       "      <td>4_x</td>\n",
       "      <td>5689</td>\n",
       "    </tr>\n",
       "  </tbody>\n",
       "</table>\n",
       "</div>"
      ],
      "text/plain": [
       "        A        B           C    D     E\n",
       "0       x  ab_ab_0   pre_hello  1_x     1\n",
       "1     y1     c_d_a   pre_world  2_x    10\n",
       "2   z 90       NaN    pre_love  3_x    34\n",
       "3     1.0      g_h  pre_python  4_x  5689"
      ]
     },
     "execution_count": 12,
     "metadata": {},
     "output_type": "execute_result"
    }
   ],
   "source": [
    "df = pd.DataFrame({\n",
    "    \"A\":[\" x\", \"y1 \", \" z 90 \", 1.0],\n",
    "    \"B\":[\"ab_ab_0\", \"c_d_a\", np.nan, \"g_h\"],\n",
    "    \"C\":[\"pre_hello\", \"pre_world\", \"pre_love\", \"pre_python\"],\n",
    "    \"D\":[\"1_x\", \"2_x\", \"3_x\", \"4_x\"],\n",
    "    \"E\":[1, 10, 34, 5689]\n",
    "})\n",
    "df"
   ]
  },
  {
   "cell_type": "markdown",
   "id": "3afb3da8-d7e7-4d72-b02a-8317f1e61a15",
   "metadata": {},
   "source": [
    "## 1) New and experimental \"string\" datatype instead of \"object\"\n",
    "\n"
   ]
  },
  {
   "cell_type": "code",
   "execution_count": 13,
   "id": "66bf6432-b9f6-4aa0-9747-ded8b14eefd5",
   "metadata": {},
   "outputs": [
    {
     "name": "stdout",
     "output_type": "stream",
     "text": [
      "<class 'pandas.core.frame.DataFrame'>\n",
      "RangeIndex: 4 entries, 0 to 3\n",
      "Data columns (total 5 columns):\n",
      " #   Column  Non-Null Count  Dtype \n",
      "---  ------  --------------  ----- \n",
      " 0   A       4 non-null      object\n",
      " 1   B       3 non-null      object\n",
      " 2   C       4 non-null      object\n",
      " 3   D       4 non-null      object\n",
      " 4   E       4 non-null      int64 \n",
      "dtypes: int64(1), object(4)\n",
      "memory usage: 292.0+ bytes\n"
     ]
    }
   ],
   "source": [
    "df.info()"
   ]
  },
  {
   "cell_type": "code",
   "execution_count": 17,
   "id": "925b557a-2365-4824-b968-c02b0989c0f8",
   "metadata": {},
   "outputs": [
    {
     "data": {
      "text/plain": [
       "str"
      ]
     },
     "execution_count": 17,
     "metadata": {},
     "output_type": "execute_result"
    }
   ],
   "source": [
    "type(df.A[1])"
   ]
  },
  {
   "cell_type": "code",
   "execution_count": 18,
   "id": "27446f4d-af09-4690-9f13-272662aa23c0",
   "metadata": {},
   "outputs": [
    {
     "name": "stdout",
     "output_type": "stream",
     "text": [
      "<class 'pandas.core.frame.DataFrame'>\n",
      "RangeIndex: 4 entries, 0 to 3\n",
      "Data columns (total 5 columns):\n",
      " #   Column  Non-Null Count  Dtype \n",
      "---  ------  --------------  ----- \n",
      " 0   A       4 non-null      string\n",
      " 1   B       3 non-null      string\n",
      " 2   C       4 non-null      string\n",
      " 3   D       4 non-null      string\n",
      " 4   E       4 non-null      string\n",
      "dtypes: string(5)\n",
      "memory usage: 292.0 bytes\n"
     ]
    }
   ],
   "source": [
    "df1 = df.astype(\"string\")\n",
    "df1.info()"
   ]
  },
  {
   "cell_type": "code",
   "execution_count": 22,
   "id": "92999631-71a8-4607-b479-fe52e0f190c4",
   "metadata": {},
   "outputs": [
    {
     "data": {
      "text/html": [
       "<div>\n",
       "<style scoped>\n",
       "    .dataframe tbody tr th:only-of-type {\n",
       "        vertical-align: middle;\n",
       "    }\n",
       "\n",
       "    .dataframe tbody tr th {\n",
       "        vertical-align: top;\n",
       "    }\n",
       "\n",
       "    .dataframe thead th {\n",
       "        text-align: right;\n",
       "    }\n",
       "</style>\n",
       "<table border=\"1\" class=\"dataframe\">\n",
       "  <thead>\n",
       "    <tr style=\"text-align: right;\">\n",
       "      <th></th>\n",
       "      <th>A</th>\n",
       "      <th>B</th>\n",
       "      <th>C</th>\n",
       "      <th>D</th>\n",
       "      <th>E</th>\n",
       "    </tr>\n",
       "  </thead>\n",
       "  <tbody>\n",
       "    <tr>\n",
       "      <th>0</th>\n",
       "      <td>x</td>\n",
       "      <td>ab_ab_0</td>\n",
       "      <td>pre_hello</td>\n",
       "      <td>1_x</td>\n",
       "      <td>1</td>\n",
       "    </tr>\n",
       "    <tr>\n",
       "      <th>1</th>\n",
       "      <td>y1</td>\n",
       "      <td>c_d_a</td>\n",
       "      <td>pre_world</td>\n",
       "      <td>2_x</td>\n",
       "      <td>10</td>\n",
       "    </tr>\n",
       "    <tr>\n",
       "      <th>2</th>\n",
       "      <td>z 90</td>\n",
       "      <td>&lt;NA&gt;</td>\n",
       "      <td>pre_love</td>\n",
       "      <td>3_x</td>\n",
       "      <td>34</td>\n",
       "    </tr>\n",
       "    <tr>\n",
       "      <th>3</th>\n",
       "      <td>1.0</td>\n",
       "      <td>g_h</td>\n",
       "      <td>pre_python</td>\n",
       "      <td>4_x</td>\n",
       "      <td>5689</td>\n",
       "    </tr>\n",
       "  </tbody>\n",
       "</table>\n",
       "</div>"
      ],
      "text/plain": [
       "        A        B           C    D     E\n",
       "0       x  ab_ab_0   pre_hello  1_x     1\n",
       "1     y1     c_d_a   pre_world  2_x    10\n",
       "2   z 90      <NA>    pre_love  3_x    34\n",
       "3     1.0      g_h  pre_python  4_x  5689"
      ]
     },
     "execution_count": 22,
     "metadata": {},
     "output_type": "execute_result"
    }
   ],
   "source": [
    "df1"
   ]
  },
  {
   "cell_type": "code",
   "execution_count": null,
   "id": "423b0583-7e07-4483-9a2c-70d150168ffd",
   "metadata": {},
   "outputs": [],
   "source": []
  },
  {
   "cell_type": "markdown",
   "id": "5dd8df4e-5fd0-423c-96f4-b9f55e27cef3",
   "metadata": {},
   "source": [
    "## 2) Capitalize, lowercase, uppercase\n",
    "\n"
   ]
  },
  {
   "cell_type": "code",
   "execution_count": 25,
   "id": "72005b1a-d88f-4e00-8dc9-06e4e4d260c0",
   "metadata": {},
   "outputs": [
    {
     "data": {
      "text/plain": [
       "0         x\n",
       "1       Y1 \n",
       "2     z 90 \n",
       "3       NaN\n",
       "Name: A, dtype: object"
      ]
     },
     "execution_count": 25,
     "metadata": {},
     "output_type": "execute_result"
    }
   ],
   "source": [
    "df.A.str.capitalize()"
   ]
  },
  {
   "cell_type": "code",
   "execution_count": 28,
   "id": "d802fa83-8cf2-4136-9455-47500c977e6e",
   "metadata": {},
   "outputs": [
    {
     "data": {
      "text/plain": [
       "0     PRE_HELLO\n",
       "1     PRE_WORLD\n",
       "2      PRE_LOVE\n",
       "3    PRE_PYTHON\n",
       "Name: C, dtype: object"
      ]
     },
     "execution_count": 28,
     "metadata": {},
     "output_type": "execute_result"
    }
   ],
   "source": [
    "df.C.str.upper()"
   ]
  },
  {
   "cell_type": "code",
   "execution_count": 30,
   "id": "8213398c-f9f9-434b-9e52-728f2b78536a",
   "metadata": {},
   "outputs": [
    {
     "data": {
      "text/plain": [
       "0    1_X\n",
       "1    2_X\n",
       "2    3_X\n",
       "3    4_X\n",
       "Name: D, dtype: object"
      ]
     },
     "execution_count": 30,
     "metadata": {},
     "output_type": "execute_result"
    }
   ],
   "source": [
    "df.D.str.upper()"
   ]
  },
  {
   "cell_type": "code",
   "execution_count": null,
   "id": "a055d4bd-17d3-4226-ad8f-620933cbf7ba",
   "metadata": {},
   "outputs": [],
   "source": []
  },
  {
   "cell_type": "code",
   "execution_count": null,
   "id": "256b06da-ef3b-4bd6-a9a0-4a96042da539",
   "metadata": {},
   "outputs": [],
   "source": []
  },
  {
   "cell_type": "code",
   "execution_count": null,
   "id": "85a827d9-57c9-40c1-b271-6491470ce8ec",
   "metadata": {},
   "outputs": [],
   "source": []
  },
  {
   "cell_type": "code",
   "execution_count": null,
   "id": "705c1a11-95fd-4eaa-bca8-99a2e59af700",
   "metadata": {},
   "outputs": [],
   "source": []
  },
  {
   "cell_type": "markdown",
   "id": "c97ab2fc-4084-4134-ac25-3cb29fbc405e",
   "metadata": {},
   "source": [
    "## 3) concatenate\n",
    "\n"
   ]
  },
  {
   "cell_type": "code",
   "execution_count": 35,
   "id": "be3b4e4d-8e3c-41a4-9fd5-b70fa532bce5",
   "metadata": {},
   "outputs": [
    {
     "data": {
      "text/html": [
       "<div>\n",
       "<style scoped>\n",
       "    .dataframe tbody tr th:only-of-type {\n",
       "        vertical-align: middle;\n",
       "    }\n",
       "\n",
       "    .dataframe tbody tr th {\n",
       "        vertical-align: top;\n",
       "    }\n",
       "\n",
       "    .dataframe thead th {\n",
       "        text-align: right;\n",
       "    }\n",
       "</style>\n",
       "<table border=\"1\" class=\"dataframe\">\n",
       "  <thead>\n",
       "    <tr style=\"text-align: right;\">\n",
       "      <th></th>\n",
       "      <th>A</th>\n",
       "      <th>B</th>\n",
       "      <th>C</th>\n",
       "      <th>D</th>\n",
       "      <th>E</th>\n",
       "    </tr>\n",
       "  </thead>\n",
       "  <tbody>\n",
       "    <tr>\n",
       "      <th>0</th>\n",
       "      <td>x</td>\n",
       "      <td>ab_ab_0</td>\n",
       "      <td>pre_hello</td>\n",
       "      <td>1_x</td>\n",
       "      <td>1</td>\n",
       "    </tr>\n",
       "    <tr>\n",
       "      <th>1</th>\n",
       "      <td>y1</td>\n",
       "      <td>c_d_a</td>\n",
       "      <td>pre_world</td>\n",
       "      <td>2_x</td>\n",
       "      <td>10</td>\n",
       "    </tr>\n",
       "    <tr>\n",
       "      <th>2</th>\n",
       "      <td>z 90</td>\n",
       "      <td>NaN</td>\n",
       "      <td>pre_love</td>\n",
       "      <td>3_x</td>\n",
       "      <td>34</td>\n",
       "    </tr>\n",
       "    <tr>\n",
       "      <th>3</th>\n",
       "      <td>1.0</td>\n",
       "      <td>g_h</td>\n",
       "      <td>pre_python</td>\n",
       "      <td>4_x</td>\n",
       "      <td>5689</td>\n",
       "    </tr>\n",
       "  </tbody>\n",
       "</table>\n",
       "</div>"
      ],
      "text/plain": [
       "        A        B           C    D     E\n",
       "0       x  ab_ab_0   pre_hello  1_x     1\n",
       "1     y1     c_d_a   pre_world  2_x    10\n",
       "2   z 90       NaN    pre_love  3_x    34\n",
       "3     1.0      g_h  pre_python  4_x  5689"
      ]
     },
     "execution_count": 35,
     "metadata": {},
     "output_type": "execute_result"
    }
   ],
   "source": [
    "df"
   ]
  },
  {
   "cell_type": "code",
   "execution_count": 37,
   "id": "1284e317-2a28-48e2-8723-e8fa2d3ab4af",
   "metadata": {},
   "outputs": [
    {
     "data": {
      "text/plain": [
       "0     pre_hello 1_x\n",
       "1     pre_world 2_x\n",
       "2      pre_love 3_x\n",
       "3    pre_python 4_x\n",
       "dtype: object"
      ]
     },
     "execution_count": 37,
     "metadata": {},
     "output_type": "execute_result"
    }
   ],
   "source": [
    "# method 1\n",
    "df.C + \" \"+ df.D"
   ]
  },
  {
   "cell_type": "code",
   "execution_count": 38,
   "id": "17aa6496-c152-4f5f-836a-ec661ca2d62a",
   "metadata": {},
   "outputs": [
    {
     "data": {
      "text/plain": [
       "0     pre_hello1_x\n",
       "1     pre_world2_x\n",
       "2      pre_love3_x\n",
       "3    pre_python4_x\n",
       "Name: C, dtype: object"
      ]
     },
     "execution_count": 38,
     "metadata": {},
     "output_type": "execute_result"
    }
   ],
   "source": [
    "# method 2\n",
    "df.C.str.cat(df.D)"
   ]
  },
  {
   "cell_type": "code",
   "execution_count": null,
   "id": "f44ac54c-f5a7-4258-8129-6d304737d367",
   "metadata": {},
   "outputs": [],
   "source": []
  },
  {
   "cell_type": "code",
   "execution_count": null,
   "id": "f9a4be77-b7f4-4b0a-a8b1-1c7c9767b862",
   "metadata": {},
   "outputs": [],
   "source": []
  },
  {
   "cell_type": "code",
   "execution_count": null,
   "id": "dc1a2f49-b553-428d-8832-2c671d441a72",
   "metadata": {},
   "outputs": [],
   "source": []
  },
  {
   "cell_type": "markdown",
   "id": "a4ecc464-e5eb-4d31-861e-43cde5bed3ec",
   "metadata": {},
   "source": [
    "## 4) Split\n",
    "\n"
   ]
  },
  {
   "cell_type": "code",
   "execution_count": 39,
   "id": "2505c292-06bd-400f-a0fa-8fcd4b2a1fbe",
   "metadata": {},
   "outputs": [
    {
     "data": {
      "text/html": [
       "<div>\n",
       "<style scoped>\n",
       "    .dataframe tbody tr th:only-of-type {\n",
       "        vertical-align: middle;\n",
       "    }\n",
       "\n",
       "    .dataframe tbody tr th {\n",
       "        vertical-align: top;\n",
       "    }\n",
       "\n",
       "    .dataframe thead th {\n",
       "        text-align: right;\n",
       "    }\n",
       "</style>\n",
       "<table border=\"1\" class=\"dataframe\">\n",
       "  <thead>\n",
       "    <tr style=\"text-align: right;\">\n",
       "      <th></th>\n",
       "      <th>A</th>\n",
       "      <th>B</th>\n",
       "      <th>C</th>\n",
       "      <th>D</th>\n",
       "      <th>E</th>\n",
       "    </tr>\n",
       "  </thead>\n",
       "  <tbody>\n",
       "    <tr>\n",
       "      <th>0</th>\n",
       "      <td>x</td>\n",
       "      <td>ab_ab_0</td>\n",
       "      <td>pre_hello</td>\n",
       "      <td>1_x</td>\n",
       "      <td>1</td>\n",
       "    </tr>\n",
       "    <tr>\n",
       "      <th>1</th>\n",
       "      <td>y1</td>\n",
       "      <td>c_d_a</td>\n",
       "      <td>pre_world</td>\n",
       "      <td>2_x</td>\n",
       "      <td>10</td>\n",
       "    </tr>\n",
       "    <tr>\n",
       "      <th>2</th>\n",
       "      <td>z 90</td>\n",
       "      <td>NaN</td>\n",
       "      <td>pre_love</td>\n",
       "      <td>3_x</td>\n",
       "      <td>34</td>\n",
       "    </tr>\n",
       "    <tr>\n",
       "      <th>3</th>\n",
       "      <td>1.0</td>\n",
       "      <td>g_h</td>\n",
       "      <td>pre_python</td>\n",
       "      <td>4_x</td>\n",
       "      <td>5689</td>\n",
       "    </tr>\n",
       "  </tbody>\n",
       "</table>\n",
       "</div>"
      ],
      "text/plain": [
       "        A        B           C    D     E\n",
       "0       x  ab_ab_0   pre_hello  1_x     1\n",
       "1     y1     c_d_a   pre_world  2_x    10\n",
       "2   z 90       NaN    pre_love  3_x    34\n",
       "3     1.0      g_h  pre_python  4_x  5689"
      ]
     },
     "execution_count": 39,
     "metadata": {},
     "output_type": "execute_result"
    }
   ],
   "source": [
    "df"
   ]
  },
  {
   "cell_type": "code",
   "execution_count": 40,
   "id": "438f3c69-bcaa-4395-b36d-e266c1028d26",
   "metadata": {},
   "outputs": [
    {
     "data": {
      "text/plain": [
       "0    [ab, ab, 0]\n",
       "1      [c, d, a]\n",
       "2            NaN\n",
       "3         [g, h]\n",
       "Name: B, dtype: object"
      ]
     },
     "execution_count": 40,
     "metadata": {},
     "output_type": "execute_result"
    }
   ],
   "source": [
    "df.B.str.split(\"_\")"
   ]
  },
  {
   "cell_type": "code",
   "execution_count": 46,
   "id": "83db9312-ce2a-4729-84d1-36c46a6166b2",
   "metadata": {},
   "outputs": [
    {
     "data": {
      "text/html": [
       "<div>\n",
       "<style scoped>\n",
       "    .dataframe tbody tr th:only-of-type {\n",
       "        vertical-align: middle;\n",
       "    }\n",
       "\n",
       "    .dataframe tbody tr th {\n",
       "        vertical-align: top;\n",
       "    }\n",
       "\n",
       "    .dataframe thead th {\n",
       "        text-align: right;\n",
       "    }\n",
       "</style>\n",
       "<table border=\"1\" class=\"dataframe\">\n",
       "  <thead>\n",
       "    <tr style=\"text-align: right;\">\n",
       "      <th></th>\n",
       "      <th>0</th>\n",
       "      <th>1</th>\n",
       "      <th>2</th>\n",
       "    </tr>\n",
       "  </thead>\n",
       "  <tbody>\n",
       "    <tr>\n",
       "      <th>0</th>\n",
       "      <td>ab</td>\n",
       "      <td>ab</td>\n",
       "      <td>0</td>\n",
       "    </tr>\n",
       "    <tr>\n",
       "      <th>1</th>\n",
       "      <td>c</td>\n",
       "      <td>d</td>\n",
       "      <td>a</td>\n",
       "    </tr>\n",
       "    <tr>\n",
       "      <th>2</th>\n",
       "      <td>NaN</td>\n",
       "      <td>NaN</td>\n",
       "      <td>NaN</td>\n",
       "    </tr>\n",
       "    <tr>\n",
       "      <th>3</th>\n",
       "      <td>g</td>\n",
       "      <td>h</td>\n",
       "      <td>None</td>\n",
       "    </tr>\n",
       "  </tbody>\n",
       "</table>\n",
       "</div>"
      ],
      "text/plain": [
       "     0    1     2\n",
       "0   ab   ab     0\n",
       "1    c    d     a\n",
       "2  NaN  NaN   NaN\n",
       "3    g    h  None"
      ]
     },
     "execution_count": 46,
     "metadata": {},
     "output_type": "execute_result"
    }
   ],
   "source": [
    "df.B.str.split(\"_\", expand=True)"
   ]
  },
  {
   "cell_type": "code",
   "execution_count": null,
   "id": "62680b16-c86d-450f-b0c9-35508f3d498c",
   "metadata": {},
   "outputs": [],
   "source": []
  },
  {
   "cell_type": "code",
   "execution_count": null,
   "id": "3a918808-a36b-4594-97cc-95e34ec4ee0e",
   "metadata": {},
   "outputs": [],
   "source": []
  },
  {
   "cell_type": "code",
   "execution_count": null,
   "id": "2cec166c-6e93-4205-afea-ab368e810ced",
   "metadata": {},
   "outputs": [],
   "source": []
  },
  {
   "cell_type": "code",
   "execution_count": null,
   "id": "06f5c842-798a-42cd-9aed-742835486d30",
   "metadata": {},
   "outputs": [],
   "source": []
  },
  {
   "cell_type": "markdown",
   "id": "3d4cfc83-d7d1-4ffb-85bc-ce97afe1d404",
   "metadata": {},
   "source": [
    "## 5) Replace parts of a string\n",
    "\n"
   ]
  },
  {
   "cell_type": "code",
   "execution_count": 47,
   "id": "0875d547-1d83-4453-8df2-3a2b7420943d",
   "metadata": {},
   "outputs": [
    {
     "data": {
      "text/html": [
       "<div>\n",
       "<style scoped>\n",
       "    .dataframe tbody tr th:only-of-type {\n",
       "        vertical-align: middle;\n",
       "    }\n",
       "\n",
       "    .dataframe tbody tr th {\n",
       "        vertical-align: top;\n",
       "    }\n",
       "\n",
       "    .dataframe thead th {\n",
       "        text-align: right;\n",
       "    }\n",
       "</style>\n",
       "<table border=\"1\" class=\"dataframe\">\n",
       "  <thead>\n",
       "    <tr style=\"text-align: right;\">\n",
       "      <th></th>\n",
       "      <th>A</th>\n",
       "      <th>B</th>\n",
       "      <th>C</th>\n",
       "      <th>D</th>\n",
       "      <th>E</th>\n",
       "    </tr>\n",
       "  </thead>\n",
       "  <tbody>\n",
       "    <tr>\n",
       "      <th>0</th>\n",
       "      <td>x</td>\n",
       "      <td>ab_ab_0</td>\n",
       "      <td>pre_hello</td>\n",
       "      <td>1_x</td>\n",
       "      <td>1</td>\n",
       "    </tr>\n",
       "    <tr>\n",
       "      <th>1</th>\n",
       "      <td>y1</td>\n",
       "      <td>c_d_a</td>\n",
       "      <td>pre_world</td>\n",
       "      <td>2_x</td>\n",
       "      <td>10</td>\n",
       "    </tr>\n",
       "    <tr>\n",
       "      <th>2</th>\n",
       "      <td>z 90</td>\n",
       "      <td>&lt;NA&gt;</td>\n",
       "      <td>pre_love</td>\n",
       "      <td>3_x</td>\n",
       "      <td>34</td>\n",
       "    </tr>\n",
       "    <tr>\n",
       "      <th>3</th>\n",
       "      <td>1.0</td>\n",
       "      <td>g_h</td>\n",
       "      <td>pre_python</td>\n",
       "      <td>4_x</td>\n",
       "      <td>5689</td>\n",
       "    </tr>\n",
       "  </tbody>\n",
       "</table>\n",
       "</div>"
      ],
      "text/plain": [
       "        A        B           C    D     E\n",
       "0       x  ab_ab_0   pre_hello  1_x     1\n",
       "1     y1     c_d_a   pre_world  2_x    10\n",
       "2   z 90      <NA>    pre_love  3_x    34\n",
       "3     1.0      g_h  pre_python  4_x  5689"
      ]
     },
     "execution_count": 47,
     "metadata": {},
     "output_type": "execute_result"
    }
   ],
   "source": [
    "df1"
   ]
  },
  {
   "cell_type": "code",
   "execution_count": 49,
   "id": "f9a6d10f-dc17-46de-ac67-7ecab1c898fd",
   "metadata": {},
   "outputs": [],
   "source": [
    "df1.B = df1[\"B\"].str.replace(\"_\", \"-\")"
   ]
  },
  {
   "cell_type": "code",
   "execution_count": 50,
   "id": "7397ef1f-6afb-403c-bd14-06c7661ab9c2",
   "metadata": {},
   "outputs": [
    {
     "data": {
      "text/html": [
       "<div>\n",
       "<style scoped>\n",
       "    .dataframe tbody tr th:only-of-type {\n",
       "        vertical-align: middle;\n",
       "    }\n",
       "\n",
       "    .dataframe tbody tr th {\n",
       "        vertical-align: top;\n",
       "    }\n",
       "\n",
       "    .dataframe thead th {\n",
       "        text-align: right;\n",
       "    }\n",
       "</style>\n",
       "<table border=\"1\" class=\"dataframe\">\n",
       "  <thead>\n",
       "    <tr style=\"text-align: right;\">\n",
       "      <th></th>\n",
       "      <th>A</th>\n",
       "      <th>B</th>\n",
       "      <th>C</th>\n",
       "      <th>D</th>\n",
       "      <th>E</th>\n",
       "    </tr>\n",
       "  </thead>\n",
       "  <tbody>\n",
       "    <tr>\n",
       "      <th>0</th>\n",
       "      <td>x</td>\n",
       "      <td>ab-ab-0</td>\n",
       "      <td>pre_hello</td>\n",
       "      <td>1_x</td>\n",
       "      <td>1</td>\n",
       "    </tr>\n",
       "    <tr>\n",
       "      <th>1</th>\n",
       "      <td>y1</td>\n",
       "      <td>c-d-a</td>\n",
       "      <td>pre_world</td>\n",
       "      <td>2_x</td>\n",
       "      <td>10</td>\n",
       "    </tr>\n",
       "    <tr>\n",
       "      <th>2</th>\n",
       "      <td>z 90</td>\n",
       "      <td>&lt;NA&gt;</td>\n",
       "      <td>pre_love</td>\n",
       "      <td>3_x</td>\n",
       "      <td>34</td>\n",
       "    </tr>\n",
       "    <tr>\n",
       "      <th>3</th>\n",
       "      <td>1.0</td>\n",
       "      <td>g-h</td>\n",
       "      <td>pre_python</td>\n",
       "      <td>4_x</td>\n",
       "      <td>5689</td>\n",
       "    </tr>\n",
       "  </tbody>\n",
       "</table>\n",
       "</div>"
      ],
      "text/plain": [
       "        A        B           C    D     E\n",
       "0       x  ab-ab-0   pre_hello  1_x     1\n",
       "1     y1     c-d-a   pre_world  2_x    10\n",
       "2   z 90      <NA>    pre_love  3_x    34\n",
       "3     1.0      g-h  pre_python  4_x  5689"
      ]
     },
     "execution_count": 50,
     "metadata": {},
     "output_type": "execute_result"
    }
   ],
   "source": [
    "df1"
   ]
  },
  {
   "cell_type": "code",
   "execution_count": null,
   "id": "ff1a0272-82cc-4e74-9692-ee358d0d412a",
   "metadata": {},
   "outputs": [],
   "source": []
  },
  {
   "cell_type": "code",
   "execution_count": null,
   "id": "da588798-f260-4b7f-8743-dd4d51c9fc9a",
   "metadata": {},
   "outputs": [],
   "source": []
  },
  {
   "cell_type": "code",
   "execution_count": null,
   "id": "ba3748aa-e62e-4c0f-a18d-fc289b23261c",
   "metadata": {},
   "outputs": [],
   "source": []
  },
  {
   "cell_type": "code",
   "execution_count": null,
   "id": "b10c3d06-7ba4-407e-a647-43655e355585",
   "metadata": {},
   "outputs": [],
   "source": []
  },
  {
   "cell_type": "markdown",
   "id": "46ef4afc-cb4a-4b79-8e0c-e6c1fc66ffe1",
   "metadata": {},
   "source": [
    "## 6) Strip empty spaces\n",
    "\n"
   ]
  },
  {
   "cell_type": "code",
   "execution_count": 53,
   "id": "e9e3a743-8de5-4fe9-88c6-b515c27bf522",
   "metadata": {},
   "outputs": [
    {
     "data": {
      "text/plain": [
       "[' x', 'y1 ', ' z 90 ', '1.0']"
      ]
     },
     "execution_count": 53,
     "metadata": {},
     "output_type": "execute_result"
    }
   ],
   "source": [
    "df1.A.to_list()"
   ]
  },
  {
   "cell_type": "code",
   "execution_count": 56,
   "id": "76e6b94f-5e67-4ef4-a3dd-11da546262de",
   "metadata": {},
   "outputs": [
    {
     "data": {
      "text/plain": [
       "['x', 'y1', 'z 90', '1.0']"
      ]
     },
     "execution_count": 56,
     "metadata": {},
     "output_type": "execute_result"
    }
   ],
   "source": [
    "df1.A.str.strip().to_list()"
   ]
  },
  {
   "cell_type": "code",
   "execution_count": 57,
   "id": "998bdd6a-5ee4-4cb0-9749-36ad686c3692",
   "metadata": {},
   "outputs": [
    {
     "data": {
      "text/plain": [
       "['x', 'y1 ', 'z 90 ', '1.0']"
      ]
     },
     "execution_count": 57,
     "metadata": {},
     "output_type": "execute_result"
    }
   ],
   "source": [
    "df1.A.str.lstrip().to_list()"
   ]
  },
  {
   "cell_type": "code",
   "execution_count": 58,
   "id": "4556e5bc-2268-46db-931b-63081a935e71",
   "metadata": {},
   "outputs": [
    {
     "data": {
      "text/plain": [
       "[' x', 'y1', ' z 90', '1.0']"
      ]
     },
     "execution_count": 58,
     "metadata": {},
     "output_type": "execute_result"
    }
   ],
   "source": [
    "df1.A.str.rstrip().to_list()"
   ]
  },
  {
   "cell_type": "code",
   "execution_count": null,
   "id": "44dcf281-8a3f-417f-ad9c-dfc0490cf5c1",
   "metadata": {},
   "outputs": [],
   "source": []
  },
  {
   "cell_type": "code",
   "execution_count": null,
   "id": "b0b63914-541b-401d-9cb5-ad4ef82a4634",
   "metadata": {},
   "outputs": [],
   "source": []
  },
  {
   "cell_type": "markdown",
   "id": "5aabeff7-2fab-492b-8dcc-d03c1b980c75",
   "metadata": {},
   "source": [
    "## 7) Pad\n",
    "\n"
   ]
  },
  {
   "cell_type": "code",
   "execution_count": 59,
   "id": "df934218-e590-4b7d-8165-a4a181a67c08",
   "metadata": {},
   "outputs": [
    {
     "data": {
      "text/html": [
       "<div>\n",
       "<style scoped>\n",
       "    .dataframe tbody tr th:only-of-type {\n",
       "        vertical-align: middle;\n",
       "    }\n",
       "\n",
       "    .dataframe tbody tr th {\n",
       "        vertical-align: top;\n",
       "    }\n",
       "\n",
       "    .dataframe thead th {\n",
       "        text-align: right;\n",
       "    }\n",
       "</style>\n",
       "<table border=\"1\" class=\"dataframe\">\n",
       "  <thead>\n",
       "    <tr style=\"text-align: right;\">\n",
       "      <th></th>\n",
       "      <th>A</th>\n",
       "      <th>B</th>\n",
       "      <th>C</th>\n",
       "      <th>D</th>\n",
       "      <th>E</th>\n",
       "    </tr>\n",
       "  </thead>\n",
       "  <tbody>\n",
       "    <tr>\n",
       "      <th>0</th>\n",
       "      <td>x</td>\n",
       "      <td>ab-ab-0</td>\n",
       "      <td>pre_hello</td>\n",
       "      <td>1_x</td>\n",
       "      <td>1</td>\n",
       "    </tr>\n",
       "    <tr>\n",
       "      <th>1</th>\n",
       "      <td>y1</td>\n",
       "      <td>c-d-a</td>\n",
       "      <td>pre_world</td>\n",
       "      <td>2_x</td>\n",
       "      <td>10</td>\n",
       "    </tr>\n",
       "    <tr>\n",
       "      <th>2</th>\n",
       "      <td>z 90</td>\n",
       "      <td>&lt;NA&gt;</td>\n",
       "      <td>pre_love</td>\n",
       "      <td>3_x</td>\n",
       "      <td>34</td>\n",
       "    </tr>\n",
       "    <tr>\n",
       "      <th>3</th>\n",
       "      <td>1.0</td>\n",
       "      <td>g-h</td>\n",
       "      <td>pre_python</td>\n",
       "      <td>4_x</td>\n",
       "      <td>5689</td>\n",
       "    </tr>\n",
       "  </tbody>\n",
       "</table>\n",
       "</div>"
      ],
      "text/plain": [
       "        A        B           C    D     E\n",
       "0       x  ab-ab-0   pre_hello  1_x     1\n",
       "1     y1     c-d-a   pre_world  2_x    10\n",
       "2   z 90      <NA>    pre_love  3_x    34\n",
       "3     1.0      g-h  pre_python  4_x  5689"
      ]
     },
     "execution_count": 59,
     "metadata": {},
     "output_type": "execute_result"
    }
   ],
   "source": [
    "df1"
   ]
  },
  {
   "cell_type": "code",
   "execution_count": 65,
   "id": "df46df5b-077d-4e6f-b58e-a867439f9078",
   "metadata": {},
   "outputs": [
    {
     "data": {
      "text/plain": [
       "0    0001\n",
       "1    0010\n",
       "2    0034\n",
       "3    5689\n",
       "Name: E, dtype: string"
      ]
     },
     "execution_count": 65,
     "metadata": {},
     "output_type": "execute_result"
    }
   ],
   "source": [
    "df1.E.str.pad(width=4, fillchar=\"0\")"
   ]
  },
  {
   "cell_type": "code",
   "execution_count": 66,
   "id": "40d9abf6-96e2-400f-a5a2-1a92b3f2cd8d",
   "metadata": {},
   "outputs": [
    {
     "data": {
      "text/plain": [
       "0    ---ab-ab-0\n",
       "1    -----c-d-a\n",
       "2          <NA>\n",
       "3    -------g-h\n",
       "Name: B, dtype: string"
      ]
     },
     "execution_count": 66,
     "metadata": {},
     "output_type": "execute_result"
    }
   ],
   "source": [
    "df1.B.str.pad(width=10, fillchar=\"-\")"
   ]
  },
  {
   "cell_type": "code",
   "execution_count": null,
   "id": "fdb53066-04b5-4009-bc05-2d1dd771cee5",
   "metadata": {},
   "outputs": [],
   "source": []
  },
  {
   "cell_type": "code",
   "execution_count": null,
   "id": "00389d53-1c25-4e03-b392-2ec78f4908ce",
   "metadata": {},
   "outputs": [],
   "source": []
  },
  {
   "cell_type": "code",
   "execution_count": null,
   "id": "0832d118-682e-414f-a0db-59fa3a3b9d6f",
   "metadata": {},
   "outputs": [],
   "source": []
  },
  {
   "cell_type": "markdown",
   "id": "12623b17-297a-4286-8ba3-c8be629efd52",
   "metadata": {},
   "source": [
    "## 8) zero fill (zfill)\n",
    "\n"
   ]
  },
  {
   "cell_type": "code",
   "execution_count": 69,
   "id": "d006074d-9b06-4a1f-8f00-2fde02e7c524",
   "metadata": {},
   "outputs": [
    {
     "name": "stdout",
     "output_type": "stream",
     "text": [
      "<class 'pandas.core.frame.DataFrame'>\n",
      "RangeIndex: 4 entries, 0 to 3\n",
      "Data columns (total 5 columns):\n",
      " #   Column  Non-Null Count  Dtype \n",
      "---  ------  --------------  ----- \n",
      " 0   A       4 non-null      object\n",
      " 1   B       3 non-null      object\n",
      " 2   C       4 non-null      object\n",
      " 3   D       4 non-null      object\n",
      " 4   E       4 non-null      int64 \n",
      "dtypes: int64(1), object(4)\n",
      "memory usage: 292.0+ bytes\n"
     ]
    }
   ],
   "source": [
    "df.info()"
   ]
  },
  {
   "cell_type": "code",
   "execution_count": 70,
   "id": "82b3dc19-cb40-4373-a63c-a7f8de3e0b8e",
   "metadata": {},
   "outputs": [
    {
     "data": {
      "text/plain": [
       "0    0001\n",
       "1    0010\n",
       "2    0034\n",
       "3    5689\n",
       "Name: E, dtype: string"
      ]
     },
     "execution_count": 70,
     "metadata": {},
     "output_type": "execute_result"
    }
   ],
   "source": [
    "df.E.astype(\"string\").str.zfill(width=4)"
   ]
  },
  {
   "cell_type": "code",
   "execution_count": 71,
   "id": "0b7da20a-4acc-4689-84a7-f9fc2cbc7f99",
   "metadata": {},
   "outputs": [
    {
     "name": "stdout",
     "output_type": "stream",
     "text": [
      "<class 'pandas.core.frame.DataFrame'>\n",
      "RangeIndex: 4 entries, 0 to 3\n",
      "Data columns (total 5 columns):\n",
      " #   Column  Non-Null Count  Dtype \n",
      "---  ------  --------------  ----- \n",
      " 0   A       4 non-null      string\n",
      " 1   B       3 non-null      string\n",
      " 2   C       4 non-null      string\n",
      " 3   D       4 non-null      string\n",
      " 4   E       4 non-null      string\n",
      "dtypes: string(5)\n",
      "memory usage: 292.0 bytes\n"
     ]
    }
   ],
   "source": [
    "df1.info()"
   ]
  },
  {
   "cell_type": "code",
   "execution_count": null,
   "id": "9cc6a052-379e-4cfb-96af-bf41f99bef6a",
   "metadata": {},
   "outputs": [],
   "source": []
  },
  {
   "cell_type": "code",
   "execution_count": null,
   "id": "8e493dd6-2488-4e38-8021-b76c4e90679d",
   "metadata": {},
   "outputs": [],
   "source": []
  },
  {
   "cell_type": "code",
   "execution_count": null,
   "id": "2d1d1deb-1eb6-4648-b068-512022e443c5",
   "metadata": {},
   "outputs": [],
   "source": []
  },
  {
   "cell_type": "code",
   "execution_count": null,
   "id": "79b43f4a-3b92-47f9-bc71-ea30eab82a5c",
   "metadata": {},
   "outputs": [],
   "source": []
  },
  {
   "cell_type": "markdown",
   "id": "094cce37-1cf0-4bce-8ea4-b41374c2e1e7",
   "metadata": {},
   "source": [
    "## 9) Remove prefix and/or suffix\n",
    "\n"
   ]
  },
  {
   "cell_type": "code",
   "execution_count": 72,
   "id": "4fce46c5-419c-4011-b320-549328d9c4dd",
   "metadata": {},
   "outputs": [
    {
     "data": {
      "text/html": [
       "<div>\n",
       "<style scoped>\n",
       "    .dataframe tbody tr th:only-of-type {\n",
       "        vertical-align: middle;\n",
       "    }\n",
       "\n",
       "    .dataframe tbody tr th {\n",
       "        vertical-align: top;\n",
       "    }\n",
       "\n",
       "    .dataframe thead th {\n",
       "        text-align: right;\n",
       "    }\n",
       "</style>\n",
       "<table border=\"1\" class=\"dataframe\">\n",
       "  <thead>\n",
       "    <tr style=\"text-align: right;\">\n",
       "      <th></th>\n",
       "      <th>A</th>\n",
       "      <th>B</th>\n",
       "      <th>C</th>\n",
       "      <th>D</th>\n",
       "      <th>E</th>\n",
       "    </tr>\n",
       "  </thead>\n",
       "  <tbody>\n",
       "    <tr>\n",
       "      <th>0</th>\n",
       "      <td>x</td>\n",
       "      <td>ab-ab-0</td>\n",
       "      <td>pre_hello</td>\n",
       "      <td>1_x</td>\n",
       "      <td>1</td>\n",
       "    </tr>\n",
       "    <tr>\n",
       "      <th>1</th>\n",
       "      <td>y1</td>\n",
       "      <td>c-d-a</td>\n",
       "      <td>pre_world</td>\n",
       "      <td>2_x</td>\n",
       "      <td>10</td>\n",
       "    </tr>\n",
       "    <tr>\n",
       "      <th>2</th>\n",
       "      <td>z 90</td>\n",
       "      <td>&lt;NA&gt;</td>\n",
       "      <td>pre_love</td>\n",
       "      <td>3_x</td>\n",
       "      <td>34</td>\n",
       "    </tr>\n",
       "    <tr>\n",
       "      <th>3</th>\n",
       "      <td>1.0</td>\n",
       "      <td>g-h</td>\n",
       "      <td>pre_python</td>\n",
       "      <td>4_x</td>\n",
       "      <td>5689</td>\n",
       "    </tr>\n",
       "  </tbody>\n",
       "</table>\n",
       "</div>"
      ],
      "text/plain": [
       "        A        B           C    D     E\n",
       "0       x  ab-ab-0   pre_hello  1_x     1\n",
       "1     y1     c-d-a   pre_world  2_x    10\n",
       "2   z 90      <NA>    pre_love  3_x    34\n",
       "3     1.0      g-h  pre_python  4_x  5689"
      ]
     },
     "execution_count": 72,
     "metadata": {},
     "output_type": "execute_result"
    }
   ],
   "source": [
    "df1"
   ]
  },
  {
   "cell_type": "code",
   "execution_count": 73,
   "id": "0f4e1afc-e0b6-4e21-bdce-982cdc9dc433",
   "metadata": {},
   "outputs": [
    {
     "data": {
      "text/plain": [
       "0     hello\n",
       "1     world\n",
       "2      love\n",
       "3    python\n",
       "Name: C, dtype: string"
      ]
     },
     "execution_count": 73,
     "metadata": {},
     "output_type": "execute_result"
    }
   ],
   "source": [
    "df1.C.str.removeprefix(\"pre_\")"
   ]
  },
  {
   "cell_type": "code",
   "execution_count": 74,
   "id": "510430e3-435c-4dba-98c5-7078d551bce3",
   "metadata": {},
   "outputs": [
    {
     "data": {
      "text/plain": [
       "0    1\n",
       "1    2\n",
       "2    3\n",
       "3    4\n",
       "Name: D, dtype: string"
      ]
     },
     "execution_count": 74,
     "metadata": {},
     "output_type": "execute_result"
    }
   ],
   "source": [
    "df1.D.str.removesuffix(\"_x\")"
   ]
  },
  {
   "cell_type": "code",
   "execution_count": null,
   "id": "456494ca-15f6-4246-9e40-90ca9164475f",
   "metadata": {},
   "outputs": [],
   "source": []
  },
  {
   "cell_type": "markdown",
   "id": "129172f1-6996-44c1-a7f9-f725fa4be363",
   "metadata": {},
   "source": [
    "## 10) Slice each string: (forward and backward)\n",
    "\n"
   ]
  },
  {
   "cell_type": "code",
   "execution_count": 77,
   "id": "86b07b60-7f06-49cd-9e38-5dd956777656",
   "metadata": {},
   "outputs": [
    {
     "data": {
      "text/html": [
       "<div>\n",
       "<style scoped>\n",
       "    .dataframe tbody tr th:only-of-type {\n",
       "        vertical-align: middle;\n",
       "    }\n",
       "\n",
       "    .dataframe tbody tr th {\n",
       "        vertical-align: top;\n",
       "    }\n",
       "\n",
       "    .dataframe thead th {\n",
       "        text-align: right;\n",
       "    }\n",
       "</style>\n",
       "<table border=\"1\" class=\"dataframe\">\n",
       "  <thead>\n",
       "    <tr style=\"text-align: right;\">\n",
       "      <th></th>\n",
       "      <th>A</th>\n",
       "      <th>B</th>\n",
       "      <th>C</th>\n",
       "      <th>D</th>\n",
       "      <th>E</th>\n",
       "    </tr>\n",
       "  </thead>\n",
       "  <tbody>\n",
       "    <tr>\n",
       "      <th>0</th>\n",
       "      <td>x</td>\n",
       "      <td>ab-ab-0</td>\n",
       "      <td>pre_hello</td>\n",
       "      <td>1_x</td>\n",
       "      <td>1</td>\n",
       "    </tr>\n",
       "    <tr>\n",
       "      <th>1</th>\n",
       "      <td>y1</td>\n",
       "      <td>c-d-a</td>\n",
       "      <td>pre_world</td>\n",
       "      <td>2_x</td>\n",
       "      <td>10</td>\n",
       "    </tr>\n",
       "    <tr>\n",
       "      <th>2</th>\n",
       "      <td>z 90</td>\n",
       "      <td>&lt;NA&gt;</td>\n",
       "      <td>pre_love</td>\n",
       "      <td>3_x</td>\n",
       "      <td>34</td>\n",
       "    </tr>\n",
       "    <tr>\n",
       "      <th>3</th>\n",
       "      <td>1.0</td>\n",
       "      <td>g-h</td>\n",
       "      <td>pre_python</td>\n",
       "      <td>4_x</td>\n",
       "      <td>5689</td>\n",
       "    </tr>\n",
       "  </tbody>\n",
       "</table>\n",
       "</div>"
      ],
      "text/plain": [
       "        A        B           C    D     E\n",
       "0       x  ab-ab-0   pre_hello  1_x     1\n",
       "1     y1     c-d-a   pre_world  2_x    10\n",
       "2   z 90      <NA>    pre_love  3_x    34\n",
       "3     1.0      g-h  pre_python  4_x  5689"
      ]
     },
     "execution_count": 77,
     "metadata": {},
     "output_type": "execute_result"
    }
   ],
   "source": [
    "df1"
   ]
  },
  {
   "cell_type": "code",
   "execution_count": 80,
   "id": "4064a793-092f-427a-bcfd-cf65cd941230",
   "metadata": {},
   "outputs": [
    {
     "data": {
      "text/plain": [
       "0    e_hel\n",
       "1    e_wor\n",
       "2    e_lov\n",
       "3    e_pyt\n",
       "Name: C, dtype: string"
      ]
     },
     "execution_count": 80,
     "metadata": {},
     "output_type": "execute_result"
    }
   ],
   "source": [
    "df1.C.str.slice(2, 7)"
   ]
  },
  {
   "cell_type": "code",
   "execution_count": 85,
   "id": "8390e32f-2962-49d9-babe-c4f3fd69f99b",
   "metadata": {},
   "outputs": [
    {
     "data": {
      "text/plain": [
       "0    hello\n",
       "1    world\n",
       "2    _love\n",
       "3    ython\n",
       "Name: C, dtype: string"
      ]
     },
     "execution_count": 85,
     "metadata": {},
     "output_type": "execute_result"
    }
   ],
   "source": [
    "df1.C.str.slice(-5,)"
   ]
  },
  {
   "cell_type": "code",
   "execution_count": null,
   "id": "da9ae89e-577c-4b70-a394-1518691c7aa0",
   "metadata": {},
   "outputs": [],
   "source": []
  },
  {
   "cell_type": "code",
   "execution_count": null,
   "id": "2e4df65e-a80c-4007-825d-1cb2accf8721",
   "metadata": {},
   "outputs": [],
   "source": []
  },
  {
   "cell_type": "code",
   "execution_count": null,
   "id": "7395946c-14ec-4a4b-90a2-b218251d6d9d",
   "metadata": {},
   "outputs": [],
   "source": []
  },
  {
   "cell_type": "code",
   "execution_count": null,
   "id": "8e6e43bf-1ee7-40fa-898b-fc564807772e",
   "metadata": {},
   "outputs": [],
   "source": []
  },
  {
   "cell_type": "markdown",
   "id": "5ba4c09e-be5c-4efb-b413-c192f059cef8",
   "metadata": {},
   "source": [
    "## 11) len() vs count(\"pattern\")\n",
    "\n"
   ]
  },
  {
   "cell_type": "code",
   "execution_count": 86,
   "id": "2f45962b-f22f-4e2f-a94a-099e7683c3e0",
   "metadata": {},
   "outputs": [
    {
     "data": {
      "text/html": [
       "<div>\n",
       "<style scoped>\n",
       "    .dataframe tbody tr th:only-of-type {\n",
       "        vertical-align: middle;\n",
       "    }\n",
       "\n",
       "    .dataframe tbody tr th {\n",
       "        vertical-align: top;\n",
       "    }\n",
       "\n",
       "    .dataframe thead th {\n",
       "        text-align: right;\n",
       "    }\n",
       "</style>\n",
       "<table border=\"1\" class=\"dataframe\">\n",
       "  <thead>\n",
       "    <tr style=\"text-align: right;\">\n",
       "      <th></th>\n",
       "      <th>A</th>\n",
       "      <th>B</th>\n",
       "      <th>C</th>\n",
       "      <th>D</th>\n",
       "      <th>E</th>\n",
       "    </tr>\n",
       "  </thead>\n",
       "  <tbody>\n",
       "    <tr>\n",
       "      <th>0</th>\n",
       "      <td>x</td>\n",
       "      <td>ab_ab_0</td>\n",
       "      <td>pre_hello</td>\n",
       "      <td>1_x</td>\n",
       "      <td>1</td>\n",
       "    </tr>\n",
       "    <tr>\n",
       "      <th>1</th>\n",
       "      <td>y1</td>\n",
       "      <td>c_d_a</td>\n",
       "      <td>pre_world</td>\n",
       "      <td>2_x</td>\n",
       "      <td>10</td>\n",
       "    </tr>\n",
       "    <tr>\n",
       "      <th>2</th>\n",
       "      <td>z 90</td>\n",
       "      <td>NaN</td>\n",
       "      <td>pre_love</td>\n",
       "      <td>3_x</td>\n",
       "      <td>34</td>\n",
       "    </tr>\n",
       "    <tr>\n",
       "      <th>3</th>\n",
       "      <td>1.0</td>\n",
       "      <td>g_h</td>\n",
       "      <td>pre_python</td>\n",
       "      <td>4_x</td>\n",
       "      <td>5689</td>\n",
       "    </tr>\n",
       "  </tbody>\n",
       "</table>\n",
       "</div>"
      ],
      "text/plain": [
       "        A        B           C    D     E\n",
       "0       x  ab_ab_0   pre_hello  1_x     1\n",
       "1     y1     c_d_a   pre_world  2_x    10\n",
       "2   z 90       NaN    pre_love  3_x    34\n",
       "3     1.0      g_h  pre_python  4_x  5689"
      ]
     },
     "execution_count": 86,
     "metadata": {},
     "output_type": "execute_result"
    }
   ],
   "source": [
    "df"
   ]
  },
  {
   "cell_type": "code",
   "execution_count": 87,
   "id": "0ffbdb3f-0379-4e88-9adb-b8cc97dbe4ce",
   "metadata": {},
   "outputs": [
    {
     "data": {
      "text/plain": [
       "0    7.0\n",
       "1    5.0\n",
       "2    NaN\n",
       "3    3.0\n",
       "Name: B, dtype: float64"
      ]
     },
     "execution_count": 87,
     "metadata": {},
     "output_type": "execute_result"
    }
   ],
   "source": [
    "df.B.str.len()"
   ]
  },
  {
   "cell_type": "code",
   "execution_count": 88,
   "id": "062aae65-4368-4ce9-9c59-50cc26b9294e",
   "metadata": {},
   "outputs": [
    {
     "data": {
      "text/plain": [
       "0    2.0\n",
       "1    1.0\n",
       "2    NaN\n",
       "3    0.0\n",
       "Name: B, dtype: float64"
      ]
     },
     "execution_count": 88,
     "metadata": {},
     "output_type": "execute_result"
    }
   ],
   "source": [
    "df.B.str.count(\"a\")"
   ]
  },
  {
   "cell_type": "code",
   "execution_count": null,
   "id": "58b44f3e-110a-4aaf-ada8-c9affc154fa3",
   "metadata": {},
   "outputs": [],
   "source": []
  },
  {
   "cell_type": "code",
   "execution_count": null,
   "id": "df1b0453-56fb-4176-9d3f-e674bae1abb6",
   "metadata": {},
   "outputs": [],
   "source": []
  }
 ],
 "metadata": {
  "kernelspec": {
   "display_name": "Python 3 (ipykernel)",
   "language": "python",
   "name": "python3"
  },
  "language_info": {
   "codemirror_mode": {
    "name": "ipython",
    "version": 3
   },
   "file_extension": ".py",
   "mimetype": "text/x-python",
   "name": "python",
   "nbconvert_exporter": "python",
   "pygments_lexer": "ipython3",
   "version": "3.11.4"
  }
 },
 "nbformat": 4,
 "nbformat_minor": 5
}
