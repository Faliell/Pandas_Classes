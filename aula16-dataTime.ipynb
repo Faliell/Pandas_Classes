{
 "cells": [
  {
   "cell_type": "code",
   "execution_count": 2,
   "metadata": {},
   "outputs": [],
   "source": [
    "import pandas as pd\n",
    "import numpy as np\n",
    "import datetime"
   ]
  },
  {
   "cell_type": "code",
   "execution_count": 3,
   "metadata": {},
   "outputs": [
    {
     "data": {
      "text/plain": [
       "Timestamp('2024-06-16 04:30:10')"
      ]
     },
     "execution_count": 3,
     "metadata": {},
     "output_type": "execute_result"
    }
   ],
   "source": [
    "ts = pd.Timestamp(\"2024-06-16 04:30:10\") # objeto timestamp\n",
    "ts"
   ]
  },
  {
   "cell_type": "code",
   "execution_count": 4,
   "metadata": {},
   "outputs": [
    {
     "data": {
      "text/plain": [
       "datetime.datetime(2024, 6, 1, 4, 30, 10)"
      ]
     },
     "execution_count": 4,
     "metadata": {},
     "output_type": "execute_result"
    }
   ],
   "source": [
    "datetime.datetime(2024,6,1,4,30,10) # objeto datetime"
   ]
  },
  {
   "cell_type": "code",
   "execution_count": 5,
   "metadata": {},
   "outputs": [
    {
     "data": {
      "text/plain": [
       "Timestamp('2024-06-24 06:43:08.915812')"
      ]
     },
     "execution_count": 5,
     "metadata": {},
     "output_type": "execute_result"
    }
   ],
   "source": [
    "now = pd.Timestamp.now()\n",
    "now"
   ]
  },
  {
   "cell_type": "code",
   "execution_count": 6,
   "metadata": {},
   "outputs": [
    {
     "data": {
      "text/plain": [
       "Timestamp('2024-06-24 06:43:08.925466')"
      ]
     },
     "execution_count": 6,
     "metadata": {},
     "output_type": "execute_result"
    }
   ],
   "source": [
    "# converter datatime em timestamp\n",
    "pd.Timestamp(datetime.datetime.now())"
   ]
  },
  {
   "cell_type": "code",
   "execution_count": 7,
   "metadata": {},
   "outputs": [],
   "source": [
    "data = pd.read_parquet(\"data+files/stock_data.parquet\")"
   ]
  },
  {
   "cell_type": "code",
   "execution_count": 8,
   "metadata": {},
   "outputs": [
    {
     "data": {
      "text/html": [
       "<div>\n",
       "<style scoped>\n",
       "    .dataframe tbody tr th:only-of-type {\n",
       "        vertical-align: middle;\n",
       "    }\n",
       "\n",
       "    .dataframe tbody tr th {\n",
       "        vertical-align: top;\n",
       "    }\n",
       "\n",
       "    .dataframe thead th {\n",
       "        text-align: right;\n",
       "    }\n",
       "</style>\n",
       "<table border=\"1\" class=\"dataframe\">\n",
       "  <thead>\n",
       "    <tr style=\"text-align: right;\">\n",
       "      <th></th>\n",
       "      <th>date</th>\n",
       "      <th>close</th>\n",
       "      <th>symbol</th>\n",
       "    </tr>\n",
       "  </thead>\n",
       "  <tbody>\n",
       "    <tr>\n",
       "      <th>0</th>\n",
       "      <td>2023-09-05</td>\n",
       "      <td>189.585</td>\n",
       "      <td>AAPL</td>\n",
       "    </tr>\n",
       "    <tr>\n",
       "      <th>1</th>\n",
       "      <td>2023-09-01</td>\n",
       "      <td>189.460</td>\n",
       "      <td>AAPL</td>\n",
       "    </tr>\n",
       "    <tr>\n",
       "      <th>2</th>\n",
       "      <td>2023-08-31</td>\n",
       "      <td>187.870</td>\n",
       "      <td>AAPL</td>\n",
       "    </tr>\n",
       "    <tr>\n",
       "      <th>3</th>\n",
       "      <td>2023-08-30</td>\n",
       "      <td>187.650</td>\n",
       "      <td>AAPL</td>\n",
       "    </tr>\n",
       "    <tr>\n",
       "      <th>4</th>\n",
       "      <td>2023-08-29</td>\n",
       "      <td>184.120</td>\n",
       "      <td>AAPL</td>\n",
       "    </tr>\n",
       "    <tr>\n",
       "      <th>...</th>\n",
       "      <td>...</td>\n",
       "      <td>...</td>\n",
       "      <td>...</td>\n",
       "    </tr>\n",
       "    <tr>\n",
       "      <th>61078</th>\n",
       "      <td>1980-03-21</td>\n",
       "      <td>290.000</td>\n",
       "      <td>BRK.A</td>\n",
       "    </tr>\n",
       "    <tr>\n",
       "      <th>61079</th>\n",
       "      <td>1980-03-20</td>\n",
       "      <td>290.000</td>\n",
       "      <td>BRK.A</td>\n",
       "    </tr>\n",
       "    <tr>\n",
       "      <th>61080</th>\n",
       "      <td>1980-03-19</td>\n",
       "      <td>290.000</td>\n",
       "      <td>BRK.A</td>\n",
       "    </tr>\n",
       "    <tr>\n",
       "      <th>61081</th>\n",
       "      <td>1980-03-18</td>\n",
       "      <td>290.000</td>\n",
       "      <td>BRK.A</td>\n",
       "    </tr>\n",
       "    <tr>\n",
       "      <th>61082</th>\n",
       "      <td>1980-03-17</td>\n",
       "      <td>290.000</td>\n",
       "      <td>BRK.A</td>\n",
       "    </tr>\n",
       "  </tbody>\n",
       "</table>\n",
       "<p>61083 rows × 3 columns</p>\n",
       "</div>"
      ],
      "text/plain": [
       "             date    close symbol\n",
       "0      2023-09-05  189.585   AAPL\n",
       "1      2023-09-01  189.460   AAPL\n",
       "2      2023-08-31  187.870   AAPL\n",
       "3      2023-08-30  187.650   AAPL\n",
       "4      2023-08-29  184.120   AAPL\n",
       "...           ...      ...    ...\n",
       "61078  1980-03-21  290.000  BRK.A\n",
       "61079  1980-03-20  290.000  BRK.A\n",
       "61080  1980-03-19  290.000  BRK.A\n",
       "61081  1980-03-18  290.000  BRK.A\n",
       "61082  1980-03-17  290.000  BRK.A\n",
       "\n",
       "[61083 rows x 3 columns]"
      ]
     },
     "execution_count": 8,
     "metadata": {},
     "output_type": "execute_result"
    }
   ],
   "source": [
    "data"
   ]
  },
  {
   "cell_type": "code",
   "execution_count": 9,
   "metadata": {},
   "outputs": [
    {
     "name": "stdout",
     "output_type": "stream",
     "text": [
      "<class 'pandas.core.frame.DataFrame'>\n",
      "RangeIndex: 61083 entries, 0 to 61082\n",
      "Data columns (total 3 columns):\n",
      " #   Column  Non-Null Count  Dtype  \n",
      "---  ------  --------------  -----  \n",
      " 0   date    61083 non-null  object \n",
      " 1   close   61083 non-null  float64\n",
      " 2   symbol  61083 non-null  object \n",
      "dtypes: float64(1), object(2)\n",
      "memory usage: 1.4+ MB\n"
     ]
    }
   ],
   "source": [
    "data.info() # a data está em string"
   ]
  },
  {
   "cell_type": "code",
   "execution_count": 10,
   "metadata": {},
   "outputs": [
    {
     "name": "stdout",
     "output_type": "stream",
     "text": [
      "<class 'pandas.core.frame.DataFrame'>\n",
      "RangeIndex: 61083 entries, 0 to 61082\n",
      "Data columns (total 3 columns):\n",
      " #   Column  Non-Null Count  Dtype         \n",
      "---  ------  --------------  -----         \n",
      " 0   date    61083 non-null  datetime64[ns]\n",
      " 1   close   61083 non-null  float64       \n",
      " 2   symbol  61083 non-null  object        \n",
      "dtypes: datetime64[ns](1), float64(1), object(1)\n",
      "memory usage: 1.4+ MB\n"
     ]
    }
   ],
   "source": [
    "data.date =pd.to_datetime(data.date)\n",
    "data.info()"
   ]
  },
  {
   "cell_type": "code",
   "execution_count": 11,
   "metadata": {},
   "outputs": [
    {
     "data": {
      "text/html": [
       "<div>\n",
       "<style scoped>\n",
       "    .dataframe tbody tr th:only-of-type {\n",
       "        vertical-align: middle;\n",
       "    }\n",
       "\n",
       "    .dataframe tbody tr th {\n",
       "        vertical-align: top;\n",
       "    }\n",
       "\n",
       "    .dataframe thead th {\n",
       "        text-align: right;\n",
       "    }\n",
       "</style>\n",
       "<table border=\"1\" class=\"dataframe\">\n",
       "  <thead>\n",
       "    <tr style=\"text-align: right;\">\n",
       "      <th></th>\n",
       "      <th>date</th>\n",
       "      <th>close</th>\n",
       "      <th>symbol</th>\n",
       "    </tr>\n",
       "  </thead>\n",
       "  <tbody>\n",
       "    <tr>\n",
       "      <th>17117</th>\n",
       "      <td>1998-06-17</td>\n",
       "      <td>53.06</td>\n",
       "      <td>IBM</td>\n",
       "    </tr>\n",
       "    <tr>\n",
       "      <th>25033</th>\n",
       "      <td>1967-01-06</td>\n",
       "      <td>9.03</td>\n",
       "      <td>IBM</td>\n",
       "    </tr>\n",
       "  </tbody>\n",
       "</table>\n",
       "</div>"
      ],
      "text/plain": [
       "            date  close symbol\n",
       "17117 1998-06-17  53.06    IBM\n",
       "25033 1967-01-06   9.03    IBM"
      ]
     },
     "execution_count": 11,
     "metadata": {},
     "output_type": "execute_result"
    }
   ],
   "source": [
    "data.sample(2)"
   ]
  },
  {
   "cell_type": "markdown",
   "metadata": {},
   "source": [
    "Frequencias de tempo\n",
    "\n",
    "- B - Dias úteis (exclui finais de semana)\n",
    "- C - Dias úteis personalizados\n",
    "- D - Dias calendários\n",
    "- W - Semanas\n",
    "- M - Fim do mês\n",
    "- MS - Início do mês\n",
    "- Q - Fim do trimestre (março, junho, setembro, dezembro)\n",
    "- QS - Início do trimestre\n",
    "- A ou Y - Fim do ano\n",
    "- AS ou YS - Início do ano\n",
    "- BA - Fim do ano comercial (fim do mês de abril, junho, setembro ou dezembro)\n",
    "- BAS - Início do ano comercial\n",
    "- H - Horas\n",
    "- T ou min - Minutos\n",
    "- S - Segundos\n",
    "- L ou ms - Milissegundos\n",
    "- U ou us - Microssegundos\n",
    "- N - Nanosegundos\n"
   ]
  },
  {
   "cell_type": "code",
   "execution_count": 12,
   "metadata": {},
   "outputs": [
    {
     "data": {
      "text/plain": [
       "DatetimeIndex(['2023-01-01 00:00:00', '2023-01-01 00:00:01',\n",
       "               '2023-01-01 00:00:02', '2023-01-01 00:00:03',\n",
       "               '2023-01-01 00:00:04', '2023-01-01 00:00:05',\n",
       "               '2023-01-01 00:00:06', '2023-01-01 00:00:07',\n",
       "               '2023-01-01 00:00:08', '2023-01-01 00:00:09',\n",
       "               ...\n",
       "               '2023-01-01 00:16:30', '2023-01-01 00:16:31',\n",
       "               '2023-01-01 00:16:32', '2023-01-01 00:16:33',\n",
       "               '2023-01-01 00:16:34', '2023-01-01 00:16:35',\n",
       "               '2023-01-01 00:16:36', '2023-01-01 00:16:37',\n",
       "               '2023-01-01 00:16:38', '2023-01-01 00:16:39'],\n",
       "              dtype='datetime64[ns]', length=1000, freq='S')"
      ]
     },
     "execution_count": 12,
     "metadata": {},
     "output_type": "execute_result"
    }
   ],
   "source": [
    "# criar um range de data\n",
    "\n",
    "pd.date_range(\"2023-01-01\", periods=1000, freq=\"S\")"
   ]
  },
  {
   "cell_type": "code",
   "execution_count": 13,
   "metadata": {},
   "outputs": [
    {
     "data": {
      "text/plain": [
       "DatetimeIndex(['2023-01-01 00:00:00', '2023-01-01 00:01:00',\n",
       "               '2023-01-01 00:02:00', '2023-01-01 00:03:00',\n",
       "               '2023-01-01 00:04:00', '2023-01-01 00:05:00',\n",
       "               '2023-01-01 00:06:00', '2023-01-01 00:07:00',\n",
       "               '2023-01-01 00:08:00', '2023-01-01 00:09:00',\n",
       "               ...\n",
       "               '2023-01-01 16:30:00', '2023-01-01 16:31:00',\n",
       "               '2023-01-01 16:32:00', '2023-01-01 16:33:00',\n",
       "               '2023-01-01 16:34:00', '2023-01-01 16:35:00',\n",
       "               '2023-01-01 16:36:00', '2023-01-01 16:37:00',\n",
       "               '2023-01-01 16:38:00', '2023-01-01 16:39:00'],\n",
       "              dtype='datetime64[ns]', length=1000, freq='T')"
      ]
     },
     "execution_count": 13,
     "metadata": {},
     "output_type": "execute_result"
    }
   ],
   "source": [
    "pd.date_range(\"2023-01-01\", periods=1000, freq=\"min\")"
   ]
  },
  {
   "cell_type": "code",
   "execution_count": 14,
   "metadata": {},
   "outputs": [
    {
     "data": {
      "text/plain": [
       "DatetimeIndex(['2023-01-01 00:00:00', '2023-01-01 00:05:00',\n",
       "               '2023-01-01 00:10:00', '2023-01-01 00:15:00',\n",
       "               '2023-01-01 00:20:00', '2023-01-01 00:25:00',\n",
       "               '2023-01-01 00:30:00', '2023-01-01 00:35:00',\n",
       "               '2023-01-01 00:40:00', '2023-01-01 00:45:00',\n",
       "               ...\n",
       "               '2023-01-04 10:30:00', '2023-01-04 10:35:00',\n",
       "               '2023-01-04 10:40:00', '2023-01-04 10:45:00',\n",
       "               '2023-01-04 10:50:00', '2023-01-04 10:55:00',\n",
       "               '2023-01-04 11:00:00', '2023-01-04 11:05:00',\n",
       "               '2023-01-04 11:10:00', '2023-01-04 11:15:00'],\n",
       "              dtype='datetime64[ns]', length=1000, freq='5T')"
      ]
     },
     "execution_count": 14,
     "metadata": {},
     "output_type": "execute_result"
    }
   ],
   "source": [
    "pd.date_range(\"2023-01-01\", periods=1000, freq=\"5min\")"
   ]
  },
  {
   "cell_type": "code",
   "execution_count": 15,
   "metadata": {},
   "outputs": [
    {
     "data": {
      "text/plain": [
       "DatetimeIndex(['2023-01-01', '2023-01-02', '2023-01-03', '2023-01-04',\n",
       "               '2023-01-05', '2023-01-06', '2023-01-07', '2023-01-08',\n",
       "               '2023-01-09', '2023-01-10',\n",
       "               ...\n",
       "               '2025-09-17', '2025-09-18', '2025-09-19', '2025-09-20',\n",
       "               '2025-09-21', '2025-09-22', '2025-09-23', '2025-09-24',\n",
       "               '2025-09-25', '2025-09-26'],\n",
       "              dtype='datetime64[ns]', length=1000, freq='D')"
      ]
     },
     "execution_count": 15,
     "metadata": {},
     "output_type": "execute_result"
    }
   ],
   "source": [
    "pd.date_range(\"2023-01-01\", periods=1000, freq=\"D\")"
   ]
  },
  {
   "cell_type": "code",
   "execution_count": 16,
   "metadata": {},
   "outputs": [
    {
     "data": {
      "text/plain": [
       "DatetimeIndex(['2023-01-02', '2023-01-03', '2023-01-04', '2023-01-05',\n",
       "               '2023-01-06', '2023-01-09', '2023-01-10', '2023-01-11',\n",
       "               '2023-01-12', '2023-01-13',\n",
       "               ...\n",
       "               '2026-10-19', '2026-10-20', '2026-10-21', '2026-10-22',\n",
       "               '2026-10-23', '2026-10-26', '2026-10-27', '2026-10-28',\n",
       "               '2026-10-29', '2026-10-30'],\n",
       "              dtype='datetime64[ns]', length=1000, freq='B')"
      ]
     },
     "execution_count": 16,
     "metadata": {},
     "output_type": "execute_result"
    }
   ],
   "source": [
    "pd.date_range(\"2023-01-01\", periods=1000, freq=\"B\") # exclui feriados"
   ]
  },
  {
   "cell_type": "code",
   "execution_count": 17,
   "metadata": {},
   "outputs": [
    {
     "data": {
      "text/plain": [
       "DatetimeIndex(['2023-01-09', '2023-01-16', '2023-01-23', '2023-01-30',\n",
       "               '2023-02-06', '2023-02-13', '2023-02-20', '2023-02-27',\n",
       "               '2023-03-06', '2023-03-13',\n",
       "               ...\n",
       "               '2041-12-30', '2042-01-06', '2042-01-13', '2042-01-20',\n",
       "               '2042-01-27', '2042-02-03', '2042-02-10', '2042-02-17',\n",
       "               '2042-02-24', '2042-03-03'],\n",
       "              dtype='datetime64[ns]', length=1000, freq='W-MON')"
      ]
     },
     "execution_count": 17,
     "metadata": {},
     "output_type": "execute_result"
    }
   ],
   "source": [
    "pd.date_range(\"2023-01-03\", periods=1000, freq=\"W-MON\")\n",
    "# semanal- ultimo dia da semana, domingo  - \"W-MON\"segunda, 2W-SAT"
   ]
  },
  {
   "cell_type": "code",
   "execution_count": 18,
   "metadata": {},
   "outputs": [
    {
     "data": {
      "text/plain": [
       "DatetimeIndex(['2023-01-01', '2023-02-01', '2023-03-01', '2023-04-01',\n",
       "               '2023-05-01', '2023-06-01', '2023-07-01', '2023-08-01',\n",
       "               '2023-09-01', '2023-10-01',\n",
       "               ...\n",
       "               '2105-07-01', '2105-08-01', '2105-09-01', '2105-10-01',\n",
       "               '2105-11-01', '2105-12-01', '2106-01-01', '2106-02-01',\n",
       "               '2106-03-01', '2106-04-01'],\n",
       "              dtype='datetime64[ns]', length=1000, freq='MS')"
      ]
     },
     "execution_count": 18,
     "metadata": {},
     "output_type": "execute_result"
    }
   ],
   "source": [
    "pd.date_range(\"2023-01-01\", periods=1000, freq=\"MS\")\n",
    "# M ultimo dia do mes,MS mes start"
   ]
  },
  {
   "cell_type": "code",
   "execution_count": 19,
   "metadata": {},
   "outputs": [
    {
     "data": {
      "text/plain": [
       "DatetimeIndex(['2023-01-31', '2023-07-31', '2024-01-31', '2024-07-31',\n",
       "               '2025-01-31', '2025-07-31', '2026-01-31', '2026-07-31',\n",
       "               '2027-01-31', '2027-07-31',\n",
       "               ...\n",
       "               '2518-01-31', '2518-07-31', '2519-01-31', '2519-07-31',\n",
       "               '2520-01-31', '2520-07-31', '2521-01-31', '2521-07-31',\n",
       "               '2522-01-31', '2522-07-31'],\n",
       "              dtype='datetime64[s]', length=1000, freq='6M')"
      ]
     },
     "execution_count": 19,
     "metadata": {},
     "output_type": "execute_result"
    }
   ],
   "source": [
    "pd.date_range(\"2023-01-01\", periods=1000, freq=\"6M\", unit = \"s\")\n",
    "# unit = \"s\", por usar nano segundos quebra o timestamp"
   ]
  },
  {
   "cell_type": "code",
   "execution_count": 20,
   "metadata": {},
   "outputs": [
    {
     "data": {
      "text/plain": [
       "DatetimeIndex(['2023-01-31', '2023-02-28', '2023-03-31', '2023-04-28',\n",
       "               '2023-05-31', '2023-06-30', '2023-07-31', '2023-08-31',\n",
       "               '2023-09-29', '2023-10-31',\n",
       "               ...\n",
       "               '2105-07-31', '2105-08-31', '2105-09-30', '2105-10-30',\n",
       "               '2105-11-30', '2105-12-31', '2106-01-29', '2106-02-26',\n",
       "               '2106-03-31', '2106-04-30'],\n",
       "              dtype='datetime64[ns]', length=1000, freq='BM')"
      ]
     },
     "execution_count": 20,
     "metadata": {},
     "output_type": "execute_result"
    }
   ],
   "source": [
    "pd.date_range(\"2023-01-01\", periods=1000, freq=\"BM\")\n",
    "# ultimo dia util da semana mensalmente -BMS primeiro dia util"
   ]
  },
  {
   "cell_type": "code",
   "execution_count": 21,
   "metadata": {},
   "outputs": [
    {
     "data": {
      "text/plain": [
       "DatetimeIndex(['2023-12-31', '2024-12-31', '2025-12-31', '2026-12-31',\n",
       "               '2027-12-31', '2028-12-31', '2029-12-31', '2030-12-31',\n",
       "               '2031-12-31', '2032-12-31',\n",
       "               ...\n",
       "               '3013-12-31', '3014-12-31', '3015-12-31', '3016-12-31',\n",
       "               '3017-12-31', '3018-12-31', '3019-12-31', '3020-12-31',\n",
       "               '3021-12-31', '3022-12-31'],\n",
       "              dtype='datetime64[s]', length=1000, freq='A-DEC')"
      ]
     },
     "execution_count": 21,
     "metadata": {},
     "output_type": "execute_result"
    }
   ],
   "source": [
    "pd.date_range(\"2023-01-01\", periods=1000, freq=\"A\", unit = \"s\")\n",
    "# anual"
   ]
  },
  {
   "cell_type": "markdown",
   "metadata": {},
   "source": [
    "Datatime Acessor dt."
   ]
  },
  {
   "cell_type": "code",
   "execution_count": 22,
   "metadata": {},
   "outputs": [
    {
     "data": {
      "text/plain": [
       "0     2023-01-01\n",
       "1     2023-01-02\n",
       "2     2023-01-03\n",
       "3     2023-01-04\n",
       "4     2023-01-05\n",
       "         ...    \n",
       "995   2025-09-22\n",
       "996   2025-09-23\n",
       "997   2025-09-24\n",
       "998   2025-09-25\n",
       "999   2025-09-26\n",
       "Length: 1000, dtype: datetime64[ns]"
      ]
     },
     "execution_count": 22,
     "metadata": {},
     "output_type": "execute_result"
    }
   ],
   "source": [
    "s1 = pd.Series(pd.date_range(\"2023-01-01\", periods=1000, freq=\"D\"))\n",
    "s1"
   ]
  },
  {
   "cell_type": "code",
   "execution_count": 23,
   "metadata": {},
   "outputs": [
    {
     "data": {
      "text/plain": [
       "0         Sunday\n",
       "1         Monday\n",
       "2        Tuesday\n",
       "3      Wednesday\n",
       "4       Thursday\n",
       "         ...    \n",
       "995       Monday\n",
       "996      Tuesday\n",
       "997    Wednesday\n",
       "998     Thursday\n",
       "999       Friday\n",
       "Length: 1000, dtype: object"
      ]
     },
     "execution_count": 23,
     "metadata": {},
     "output_type": "execute_result"
    }
   ],
   "source": [
    "s1.dt.day_name()"
   ]
  },
  {
   "cell_type": "code",
   "execution_count": 24,
   "metadata": {},
   "outputs": [
    {
     "data": {
      "text/plain": [
       "0        1\n",
       "1        2\n",
       "2        3\n",
       "3        4\n",
       "4        5\n",
       "      ... \n",
       "995    265\n",
       "996    266\n",
       "997    267\n",
       "998    268\n",
       "999    269\n",
       "Length: 1000, dtype: int32"
      ]
     },
     "execution_count": 24,
     "metadata": {},
     "output_type": "execute_result"
    }
   ],
   "source": [
    "s1.dt.dayofyear"
   ]
  },
  {
   "cell_type": "code",
   "execution_count": 25,
   "metadata": {},
   "outputs": [
    {
     "data": {
      "text/html": [
       "<div>\n",
       "<style scoped>\n",
       "    .dataframe tbody tr th:only-of-type {\n",
       "        vertical-align: middle;\n",
       "    }\n",
       "\n",
       "    .dataframe tbody tr th {\n",
       "        vertical-align: top;\n",
       "    }\n",
       "\n",
       "    .dataframe thead th {\n",
       "        text-align: right;\n",
       "    }\n",
       "</style>\n",
       "<table border=\"1\" class=\"dataframe\">\n",
       "  <thead>\n",
       "    <tr style=\"text-align: right;\">\n",
       "      <th></th>\n",
       "      <th>date</th>\n",
       "      <th>close</th>\n",
       "      <th>symbol</th>\n",
       "    </tr>\n",
       "  </thead>\n",
       "  <tbody>\n",
       "    <tr>\n",
       "      <th>130</th>\n",
       "      <td>2023-02-28</td>\n",
       "      <td>147.41</td>\n",
       "      <td>AAPL</td>\n",
       "    </tr>\n",
       "    <tr>\n",
       "      <th>131</th>\n",
       "      <td>2023-02-27</td>\n",
       "      <td>147.92</td>\n",
       "      <td>AAPL</td>\n",
       "    </tr>\n",
       "    <tr>\n",
       "      <th>132</th>\n",
       "      <td>2023-02-24</td>\n",
       "      <td>146.71</td>\n",
       "      <td>AAPL</td>\n",
       "    </tr>\n",
       "    <tr>\n",
       "      <th>133</th>\n",
       "      <td>2023-02-23</td>\n",
       "      <td>149.40</td>\n",
       "      <td>AAPL</td>\n",
       "    </tr>\n",
       "    <tr>\n",
       "      <th>134</th>\n",
       "      <td>2023-02-22</td>\n",
       "      <td>148.91</td>\n",
       "      <td>AAPL</td>\n",
       "    </tr>\n",
       "    <tr>\n",
       "      <th>...</th>\n",
       "      <td>...</td>\n",
       "      <td>...</td>\n",
       "      <td>...</td>\n",
       "    </tr>\n",
       "    <tr>\n",
       "      <th>60856</th>\n",
       "      <td>1981-02-06</td>\n",
       "      <td>430.00</td>\n",
       "      <td>BRK.A</td>\n",
       "    </tr>\n",
       "    <tr>\n",
       "      <th>60857</th>\n",
       "      <td>1981-02-05</td>\n",
       "      <td>430.00</td>\n",
       "      <td>BRK.A</td>\n",
       "    </tr>\n",
       "    <tr>\n",
       "      <th>60858</th>\n",
       "      <td>1981-02-04</td>\n",
       "      <td>430.00</td>\n",
       "      <td>BRK.A</td>\n",
       "    </tr>\n",
       "    <tr>\n",
       "      <th>60859</th>\n",
       "      <td>1981-02-03</td>\n",
       "      <td>430.00</td>\n",
       "      <td>BRK.A</td>\n",
       "    </tr>\n",
       "    <tr>\n",
       "      <th>60860</th>\n",
       "      <td>1981-02-02</td>\n",
       "      <td>430.00</td>\n",
       "      <td>BRK.A</td>\n",
       "    </tr>\n",
       "  </tbody>\n",
       "</table>\n",
       "<p>4635 rows × 3 columns</p>\n",
       "</div>"
      ],
      "text/plain": [
       "            date   close symbol\n",
       "130   2023-02-28  147.41   AAPL\n",
       "131   2023-02-27  147.92   AAPL\n",
       "132   2023-02-24  146.71   AAPL\n",
       "133   2023-02-23  149.40   AAPL\n",
       "134   2023-02-22  148.91   AAPL\n",
       "...          ...     ...    ...\n",
       "60856 1981-02-06  430.00  BRK.A\n",
       "60857 1981-02-05  430.00  BRK.A\n",
       "60858 1981-02-04  430.00  BRK.A\n",
       "60859 1981-02-03  430.00  BRK.A\n",
       "60860 1981-02-02  430.00  BRK.A\n",
       "\n",
       "[4635 rows x 3 columns]"
      ]
     },
     "execution_count": 25,
     "metadata": {},
     "output_type": "execute_result"
    }
   ],
   "source": [
    "data.loc[data.date.dt.month==2]\n",
    "# busco o mes 2 em um dataframe"
   ]
  },
  {
   "cell_type": "code",
   "execution_count": 26,
   "metadata": {},
   "outputs": [
    {
     "data": {
      "text/plain": [
       "0      2023-01-01\n",
       "1      2023-01-02\n",
       "2      2023-01-03\n",
       "3      2023-01-04\n",
       "4      2023-01-05\n",
       "          ...    \n",
       "995    2025-09-22\n",
       "996    2025-09-23\n",
       "997    2025-09-24\n",
       "998    2025-09-25\n",
       "999    2025-09-26\n",
       "Length: 1000, dtype: object"
      ]
     },
     "execution_count": 26,
     "metadata": {},
     "output_type": "execute_result"
    }
   ],
   "source": [
    "s1.dt.strftime(\"%Y-%m-%d\")"
   ]
  },
  {
   "cell_type": "markdown",
   "metadata": {},
   "source": [
    "# Datatime arithmetic e offsets\n",
    "Offsets olha para o calendário\n"
   ]
  },
  {
   "cell_type": "code",
   "execution_count": 27,
   "metadata": {},
   "outputs": [
    {
     "data": {
      "text/plain": [
       "Timestamp('2024-01-01 00:00:00')"
      ]
     },
     "execution_count": 27,
     "metadata": {},
     "output_type": "execute_result"
    }
   ],
   "source": [
    "ts = pd.Timestamp(\"2024-01-01\")\n",
    "ts"
   ]
  },
  {
   "cell_type": "code",
   "execution_count": 28,
   "metadata": {},
   "outputs": [
    {
     "data": {
      "text/plain": [
       "Timestamp('2024-01-14 20:13:40')"
      ]
     },
     "execution_count": 28,
     "metadata": {},
     "output_type": "execute_result"
    }
   ],
   "source": [
    "# somar - usar Timedelta - semanas é o maior, nao tem ano e mes\n",
    "ts+pd.Timedelta(weeks=1, days=6, hours=20, minutes=13, seconds=40)"
   ]
  },
  {
   "cell_type": "code",
   "execution_count": 29,
   "metadata": {},
   "outputs": [
    {
     "data": {
      "text/plain": [
       "Timestamp('2024-01-03 10:00:00')"
      ]
     },
     "execution_count": 29,
     "metadata": {},
     "output_type": "execute_result"
    }
   ],
   "source": [
    "# offsets\n",
    "ts+pd.offsets.Day(2)+10 *pd.offsets.Hour(1)"
   ]
  },
  {
   "cell_type": "code",
   "execution_count": 30,
   "metadata": {},
   "outputs": [],
   "source": [
    "now = pd.Timestamp.now()"
   ]
  },
  {
   "cell_type": "code",
   "execution_count": 31,
   "metadata": {},
   "outputs": [
    {
     "data": {
      "text/plain": [
       "Timestamp('2024-06-30 06:43:10.033559')"
      ]
     },
     "execution_count": 31,
     "metadata": {},
     "output_type": "execute_result"
    }
   ],
   "source": [
    "now+pd.offsets.MonthEnd(1)"
   ]
  },
  {
   "cell_type": "code",
   "execution_count": 32,
   "metadata": {},
   "outputs": [
    {
     "data": {
      "text/plain": [
       "Timestamp('2024-05-31 06:43:10.033559')"
      ]
     },
     "execution_count": 32,
     "metadata": {},
     "output_type": "execute_result"
    }
   ],
   "source": [
    "now-pd.offsets.BusinessMonthEnd(1)"
   ]
  },
  {
   "cell_type": "markdown",
   "metadata": {},
   "source": [
    "# Resampling"
   ]
  },
  {
   "cell_type": "code",
   "execution_count": 33,
   "metadata": {},
   "outputs": [
    {
     "name": "stdout",
     "output_type": "stream",
     "text": [
      "<class 'pandas.core.frame.DataFrame'>\n",
      "RangeIndex: 61083 entries, 0 to 61082\n",
      "Data columns (total 3 columns):\n",
      " #   Column  Non-Null Count  Dtype  \n",
      "---  ------  --------------  -----  \n",
      " 0   date    61083 non-null  object \n",
      " 1   close   61083 non-null  float64\n",
      " 2   symbol  61083 non-null  object \n",
      "dtypes: float64(1), object(2)\n",
      "memory usage: 1.4+ MB\n"
     ]
    }
   ],
   "source": [
    "stock_data=pd.read_parquet(\"data+files/stock_data.parquet\")\n",
    "stock_data.info()"
   ]
  },
  {
   "cell_type": "code",
   "execution_count": 34,
   "metadata": {},
   "outputs": [
    {
     "name": "stdout",
     "output_type": "stream",
     "text": [
      "<class 'pandas.core.frame.DataFrame'>\n",
      "RangeIndex: 61083 entries, 0 to 61082\n",
      "Data columns (total 3 columns):\n",
      " #   Column  Non-Null Count  Dtype         \n",
      "---  ------  --------------  -----         \n",
      " 0   date    61083 non-null  datetime64[ns]\n",
      " 1   close   61083 non-null  float64       \n",
      " 2   symbol  61083 non-null  object        \n",
      "dtypes: datetime64[ns](1), float64(1), object(1)\n",
      "memory usage: 1.4+ MB\n"
     ]
    }
   ],
   "source": [
    "stock_data.date=pd.to_datetime(stock_data.date)\n",
    "stock_data.info()"
   ]
  },
  {
   "cell_type": "code",
   "execution_count": 35,
   "metadata": {},
   "outputs": [
    {
     "data": {
      "text/html": [
       "<div>\n",
       "<style scoped>\n",
       "    .dataframe tbody tr th:only-of-type {\n",
       "        vertical-align: middle;\n",
       "    }\n",
       "\n",
       "    .dataframe tbody tr th {\n",
       "        vertical-align: top;\n",
       "    }\n",
       "\n",
       "    .dataframe thead th {\n",
       "        text-align: right;\n",
       "    }\n",
       "</style>\n",
       "<table border=\"1\" class=\"dataframe\">\n",
       "  <thead>\n",
       "    <tr style=\"text-align: right;\">\n",
       "      <th></th>\n",
       "      <th>data_time</th>\n",
       "      <th>A</th>\n",
       "    </tr>\n",
       "  </thead>\n",
       "  <tbody>\n",
       "    <tr>\n",
       "      <th>0</th>\n",
       "      <td>2023-01-01 00:00:00</td>\n",
       "      <td>1</td>\n",
       "    </tr>\n",
       "    <tr>\n",
       "      <th>1</th>\n",
       "      <td>2023-01-01 00:00:01</td>\n",
       "      <td>2</td>\n",
       "    </tr>\n",
       "    <tr>\n",
       "      <th>2</th>\n",
       "      <td>2023-01-01 00:00:02</td>\n",
       "      <td>3</td>\n",
       "    </tr>\n",
       "    <tr>\n",
       "      <th>3</th>\n",
       "      <td>2023-01-01 00:00:03</td>\n",
       "      <td>4</td>\n",
       "    </tr>\n",
       "    <tr>\n",
       "      <th>4</th>\n",
       "      <td>2023-01-01 00:00:04</td>\n",
       "      <td>5</td>\n",
       "    </tr>\n",
       "    <tr>\n",
       "      <th>...</th>\n",
       "      <td>...</td>\n",
       "      <td>...</td>\n",
       "    </tr>\n",
       "    <tr>\n",
       "      <th>9995</th>\n",
       "      <td>2023-01-01 02:46:35</td>\n",
       "      <td>9996</td>\n",
       "    </tr>\n",
       "    <tr>\n",
       "      <th>9996</th>\n",
       "      <td>2023-01-01 02:46:36</td>\n",
       "      <td>9997</td>\n",
       "    </tr>\n",
       "    <tr>\n",
       "      <th>9997</th>\n",
       "      <td>2023-01-01 02:46:37</td>\n",
       "      <td>9998</td>\n",
       "    </tr>\n",
       "    <tr>\n",
       "      <th>9998</th>\n",
       "      <td>2023-01-01 02:46:38</td>\n",
       "      <td>9999</td>\n",
       "    </tr>\n",
       "    <tr>\n",
       "      <th>9999</th>\n",
       "      <td>2023-01-01 02:46:39</td>\n",
       "      <td>10000</td>\n",
       "    </tr>\n",
       "  </tbody>\n",
       "</table>\n",
       "<p>10000 rows × 2 columns</p>\n",
       "</div>"
      ],
      "text/plain": [
       "               data_time      A\n",
       "0    2023-01-01 00:00:00      1\n",
       "1    2023-01-01 00:00:01      2\n",
       "2    2023-01-01 00:00:02      3\n",
       "3    2023-01-01 00:00:03      4\n",
       "4    2023-01-01 00:00:04      5\n",
       "...                  ...    ...\n",
       "9995 2023-01-01 02:46:35   9996\n",
       "9996 2023-01-01 02:46:36   9997\n",
       "9997 2023-01-01 02:46:37   9998\n",
       "9998 2023-01-01 02:46:38   9999\n",
       "9999 2023-01-01 02:46:39  10000\n",
       "\n",
       "[10000 rows x 2 columns]"
      ]
     },
     "execution_count": 35,
     "metadata": {},
     "output_type": "execute_result"
    }
   ],
   "source": [
    "example1 = pd.DataFrame(\n",
    "    {\n",
    "        \"data_time\": pd.date_range(\"2023-01-01\", periods=10000, freq=\"s\"),\n",
    "        \"A\": range(1,10001)\n",
    "    }\n",
    ")\n",
    "example1"
   ]
  },
  {
   "cell_type": "code",
   "execution_count": 36,
   "metadata": {},
   "outputs": [
    {
     "data": {
      "text/html": [
       "<div>\n",
       "<style scoped>\n",
       "    .dataframe tbody tr th:only-of-type {\n",
       "        vertical-align: middle;\n",
       "    }\n",
       "\n",
       "    .dataframe tbody tr th {\n",
       "        vertical-align: top;\n",
       "    }\n",
       "\n",
       "    .dataframe thead th {\n",
       "        text-align: right;\n",
       "    }\n",
       "</style>\n",
       "<table border=\"1\" class=\"dataframe\">\n",
       "  <thead>\n",
       "    <tr style=\"text-align: right;\">\n",
       "      <th></th>\n",
       "      <th>A</th>\n",
       "    </tr>\n",
       "    <tr>\n",
       "      <th>data_time</th>\n",
       "      <th></th>\n",
       "    </tr>\n",
       "  </thead>\n",
       "  <tbody>\n",
       "    <tr>\n",
       "      <th>2023-01-01 00:00:00</th>\n",
       "      <td>60</td>\n",
       "    </tr>\n",
       "    <tr>\n",
       "      <th>2023-01-01 00:01:00</th>\n",
       "      <td>120</td>\n",
       "    </tr>\n",
       "    <tr>\n",
       "      <th>2023-01-01 00:02:00</th>\n",
       "      <td>180</td>\n",
       "    </tr>\n",
       "    <tr>\n",
       "      <th>2023-01-01 00:03:00</th>\n",
       "      <td>240</td>\n",
       "    </tr>\n",
       "    <tr>\n",
       "      <th>2023-01-01 00:04:00</th>\n",
       "      <td>300</td>\n",
       "    </tr>\n",
       "    <tr>\n",
       "      <th>...</th>\n",
       "      <td>...</td>\n",
       "    </tr>\n",
       "    <tr>\n",
       "      <th>2023-01-01 02:42:00</th>\n",
       "      <td>9780</td>\n",
       "    </tr>\n",
       "    <tr>\n",
       "      <th>2023-01-01 02:43:00</th>\n",
       "      <td>9840</td>\n",
       "    </tr>\n",
       "    <tr>\n",
       "      <th>2023-01-01 02:44:00</th>\n",
       "      <td>9900</td>\n",
       "    </tr>\n",
       "    <tr>\n",
       "      <th>2023-01-01 02:45:00</th>\n",
       "      <td>9960</td>\n",
       "    </tr>\n",
       "    <tr>\n",
       "      <th>2023-01-01 02:46:00</th>\n",
       "      <td>10000</td>\n",
       "    </tr>\n",
       "  </tbody>\n",
       "</table>\n",
       "<p>167 rows × 1 columns</p>\n",
       "</div>"
      ],
      "text/plain": [
       "                         A\n",
       "data_time                 \n",
       "2023-01-01 00:00:00     60\n",
       "2023-01-01 00:01:00    120\n",
       "2023-01-01 00:02:00    180\n",
       "2023-01-01 00:03:00    240\n",
       "2023-01-01 00:04:00    300\n",
       "...                    ...\n",
       "2023-01-01 02:42:00   9780\n",
       "2023-01-01 02:43:00   9840\n",
       "2023-01-01 02:44:00   9900\n",
       "2023-01-01 02:45:00   9960\n",
       "2023-01-01 02:46:00  10000\n",
       "\n",
       "[167 rows x 1 columns]"
      ]
     },
     "execution_count": 36,
     "metadata": {},
     "output_type": "execute_result"
    }
   ],
   "source": [
    "# resample é como um grouby by, no caso agrupa por min.\n",
    "example1.resample(\"min\", on=\"data_time\").last()"
   ]
  },
  {
   "cell_type": "code",
   "execution_count": 37,
   "metadata": {},
   "outputs": [
    {
     "data": {
      "text/html": [
       "<div>\n",
       "<style scoped>\n",
       "    .dataframe tbody tr th:only-of-type {\n",
       "        vertical-align: middle;\n",
       "    }\n",
       "\n",
       "    .dataframe tbody tr th {\n",
       "        vertical-align: top;\n",
       "    }\n",
       "\n",
       "    .dataframe thead th {\n",
       "        text-align: right;\n",
       "    }\n",
       "</style>\n",
       "<table border=\"1\" class=\"dataframe\">\n",
       "  <thead>\n",
       "    <tr style=\"text-align: right;\">\n",
       "      <th></th>\n",
       "      <th>A</th>\n",
       "    </tr>\n",
       "    <tr>\n",
       "      <th>data_time</th>\n",
       "      <th></th>\n",
       "    </tr>\n",
       "  </thead>\n",
       "  <tbody>\n",
       "    <tr>\n",
       "      <th>2023-01-01 00:00:00</th>\n",
       "      <td>30.5</td>\n",
       "    </tr>\n",
       "    <tr>\n",
       "      <th>2023-01-01 00:01:00</th>\n",
       "      <td>90.5</td>\n",
       "    </tr>\n",
       "    <tr>\n",
       "      <th>2023-01-01 00:02:00</th>\n",
       "      <td>150.5</td>\n",
       "    </tr>\n",
       "    <tr>\n",
       "      <th>2023-01-01 00:03:00</th>\n",
       "      <td>210.5</td>\n",
       "    </tr>\n",
       "    <tr>\n",
       "      <th>2023-01-01 00:04:00</th>\n",
       "      <td>270.5</td>\n",
       "    </tr>\n",
       "    <tr>\n",
       "      <th>...</th>\n",
       "      <td>...</td>\n",
       "    </tr>\n",
       "    <tr>\n",
       "      <th>2023-01-01 02:42:00</th>\n",
       "      <td>9750.5</td>\n",
       "    </tr>\n",
       "    <tr>\n",
       "      <th>2023-01-01 02:43:00</th>\n",
       "      <td>9810.5</td>\n",
       "    </tr>\n",
       "    <tr>\n",
       "      <th>2023-01-01 02:44:00</th>\n",
       "      <td>9870.5</td>\n",
       "    </tr>\n",
       "    <tr>\n",
       "      <th>2023-01-01 02:45:00</th>\n",
       "      <td>9930.5</td>\n",
       "    </tr>\n",
       "    <tr>\n",
       "      <th>2023-01-01 02:46:00</th>\n",
       "      <td>9980.5</td>\n",
       "    </tr>\n",
       "  </tbody>\n",
       "</table>\n",
       "<p>167 rows × 1 columns</p>\n",
       "</div>"
      ],
      "text/plain": [
       "                          A\n",
       "data_time                  \n",
       "2023-01-01 00:00:00    30.5\n",
       "2023-01-01 00:01:00    90.5\n",
       "2023-01-01 00:02:00   150.5\n",
       "2023-01-01 00:03:00   210.5\n",
       "2023-01-01 00:04:00   270.5\n",
       "...                     ...\n",
       "2023-01-01 02:42:00  9750.5\n",
       "2023-01-01 02:43:00  9810.5\n",
       "2023-01-01 02:44:00  9870.5\n",
       "2023-01-01 02:45:00  9930.5\n",
       "2023-01-01 02:46:00  9980.5\n",
       "\n",
       "[167 rows x 1 columns]"
      ]
     },
     "execution_count": 37,
     "metadata": {},
     "output_type": "execute_result"
    }
   ],
   "source": [
    "example1.resample(\"min\", on=\"data_time\").median()"
   ]
  },
  {
   "cell_type": "code",
   "execution_count": 38,
   "metadata": {},
   "outputs": [
    {
     "data": {
      "text/html": [
       "<div>\n",
       "<style scoped>\n",
       "    .dataframe tbody tr th:only-of-type {\n",
       "        vertical-align: middle;\n",
       "    }\n",
       "\n",
       "    .dataframe tbody tr th {\n",
       "        vertical-align: top;\n",
       "    }\n",
       "\n",
       "    .dataframe thead tr th {\n",
       "        text-align: left;\n",
       "    }\n",
       "\n",
       "    .dataframe thead tr:last-of-type th {\n",
       "        text-align: right;\n",
       "    }\n",
       "</style>\n",
       "<table border=\"1\" class=\"dataframe\">\n",
       "  <thead>\n",
       "    <tr>\n",
       "      <th></th>\n",
       "      <th colspan=\"2\" halign=\"left\">A</th>\n",
       "    </tr>\n",
       "    <tr>\n",
       "      <th></th>\n",
       "      <th>mean</th>\n",
       "      <th>last</th>\n",
       "    </tr>\n",
       "    <tr>\n",
       "      <th>data_time</th>\n",
       "      <th></th>\n",
       "      <th></th>\n",
       "    </tr>\n",
       "  </thead>\n",
       "  <tbody>\n",
       "    <tr>\n",
       "      <th>2023-01-01 00:00:00</th>\n",
       "      <td>30.5</td>\n",
       "      <td>60</td>\n",
       "    </tr>\n",
       "    <tr>\n",
       "      <th>2023-01-01 00:01:00</th>\n",
       "      <td>90.5</td>\n",
       "      <td>120</td>\n",
       "    </tr>\n",
       "    <tr>\n",
       "      <th>2023-01-01 00:02:00</th>\n",
       "      <td>150.5</td>\n",
       "      <td>180</td>\n",
       "    </tr>\n",
       "    <tr>\n",
       "      <th>2023-01-01 00:03:00</th>\n",
       "      <td>210.5</td>\n",
       "      <td>240</td>\n",
       "    </tr>\n",
       "    <tr>\n",
       "      <th>2023-01-01 00:04:00</th>\n",
       "      <td>270.5</td>\n",
       "      <td>300</td>\n",
       "    </tr>\n",
       "    <tr>\n",
       "      <th>...</th>\n",
       "      <td>...</td>\n",
       "      <td>...</td>\n",
       "    </tr>\n",
       "    <tr>\n",
       "      <th>2023-01-01 02:42:00</th>\n",
       "      <td>9750.5</td>\n",
       "      <td>9780</td>\n",
       "    </tr>\n",
       "    <tr>\n",
       "      <th>2023-01-01 02:43:00</th>\n",
       "      <td>9810.5</td>\n",
       "      <td>9840</td>\n",
       "    </tr>\n",
       "    <tr>\n",
       "      <th>2023-01-01 02:44:00</th>\n",
       "      <td>9870.5</td>\n",
       "      <td>9900</td>\n",
       "    </tr>\n",
       "    <tr>\n",
       "      <th>2023-01-01 02:45:00</th>\n",
       "      <td>9930.5</td>\n",
       "      <td>9960</td>\n",
       "    </tr>\n",
       "    <tr>\n",
       "      <th>2023-01-01 02:46:00</th>\n",
       "      <td>9980.5</td>\n",
       "      <td>10000</td>\n",
       "    </tr>\n",
       "  </tbody>\n",
       "</table>\n",
       "<p>167 rows × 2 columns</p>\n",
       "</div>"
      ],
      "text/plain": [
       "                          A       \n",
       "                       mean   last\n",
       "data_time                         \n",
       "2023-01-01 00:00:00    30.5     60\n",
       "2023-01-01 00:01:00    90.5    120\n",
       "2023-01-01 00:02:00   150.5    180\n",
       "2023-01-01 00:03:00   210.5    240\n",
       "2023-01-01 00:04:00   270.5    300\n",
       "...                     ...    ...\n",
       "2023-01-01 02:42:00  9750.5   9780\n",
       "2023-01-01 02:43:00  9810.5   9840\n",
       "2023-01-01 02:44:00  9870.5   9900\n",
       "2023-01-01 02:45:00  9930.5   9960\n",
       "2023-01-01 02:46:00  9980.5  10000\n",
       "\n",
       "[167 rows x 2 columns]"
      ]
     },
     "execution_count": 38,
     "metadata": {},
     "output_type": "execute_result"
    }
   ],
   "source": [
    "example1.resample(\"min\", on=\"data_time\").agg([\"mean\",\"last\"])"
   ]
  },
  {
   "cell_type": "code",
   "execution_count": 39,
   "metadata": {},
   "outputs": [
    {
     "data": {
      "text/html": [
       "<div>\n",
       "<style scoped>\n",
       "    .dataframe tbody tr th:only-of-type {\n",
       "        vertical-align: middle;\n",
       "    }\n",
       "\n",
       "    .dataframe tbody tr th {\n",
       "        vertical-align: top;\n",
       "    }\n",
       "\n",
       "    .dataframe thead tr th {\n",
       "        text-align: left;\n",
       "    }\n",
       "\n",
       "    .dataframe thead tr:last-of-type th {\n",
       "        text-align: right;\n",
       "    }\n",
       "</style>\n",
       "<table border=\"1\" class=\"dataframe\">\n",
       "  <thead>\n",
       "    <tr>\n",
       "      <th></th>\n",
       "      <th colspan=\"4\" halign=\"left\">A</th>\n",
       "    </tr>\n",
       "    <tr>\n",
       "      <th></th>\n",
       "      <th>open</th>\n",
       "      <th>high</th>\n",
       "      <th>low</th>\n",
       "      <th>close</th>\n",
       "    </tr>\n",
       "    <tr>\n",
       "      <th>data_time</th>\n",
       "      <th></th>\n",
       "      <th></th>\n",
       "      <th></th>\n",
       "      <th></th>\n",
       "    </tr>\n",
       "  </thead>\n",
       "  <tbody>\n",
       "    <tr>\n",
       "      <th>2023-01-01 00:00:00</th>\n",
       "      <td>1</td>\n",
       "      <td>600</td>\n",
       "      <td>1</td>\n",
       "      <td>600</td>\n",
       "    </tr>\n",
       "    <tr>\n",
       "      <th>2023-01-01 00:10:00</th>\n",
       "      <td>601</td>\n",
       "      <td>1200</td>\n",
       "      <td>601</td>\n",
       "      <td>1200</td>\n",
       "    </tr>\n",
       "    <tr>\n",
       "      <th>2023-01-01 00:20:00</th>\n",
       "      <td>1201</td>\n",
       "      <td>1800</td>\n",
       "      <td>1201</td>\n",
       "      <td>1800</td>\n",
       "    </tr>\n",
       "    <tr>\n",
       "      <th>2023-01-01 00:30:00</th>\n",
       "      <td>1801</td>\n",
       "      <td>2400</td>\n",
       "      <td>1801</td>\n",
       "      <td>2400</td>\n",
       "    </tr>\n",
       "    <tr>\n",
       "      <th>2023-01-01 00:40:00</th>\n",
       "      <td>2401</td>\n",
       "      <td>3000</td>\n",
       "      <td>2401</td>\n",
       "      <td>3000</td>\n",
       "    </tr>\n",
       "    <tr>\n",
       "      <th>2023-01-01 00:50:00</th>\n",
       "      <td>3001</td>\n",
       "      <td>3600</td>\n",
       "      <td>3001</td>\n",
       "      <td>3600</td>\n",
       "    </tr>\n",
       "    <tr>\n",
       "      <th>2023-01-01 01:00:00</th>\n",
       "      <td>3601</td>\n",
       "      <td>4200</td>\n",
       "      <td>3601</td>\n",
       "      <td>4200</td>\n",
       "    </tr>\n",
       "    <tr>\n",
       "      <th>2023-01-01 01:10:00</th>\n",
       "      <td>4201</td>\n",
       "      <td>4800</td>\n",
       "      <td>4201</td>\n",
       "      <td>4800</td>\n",
       "    </tr>\n",
       "    <tr>\n",
       "      <th>2023-01-01 01:20:00</th>\n",
       "      <td>4801</td>\n",
       "      <td>5400</td>\n",
       "      <td>4801</td>\n",
       "      <td>5400</td>\n",
       "    </tr>\n",
       "    <tr>\n",
       "      <th>2023-01-01 01:30:00</th>\n",
       "      <td>5401</td>\n",
       "      <td>6000</td>\n",
       "      <td>5401</td>\n",
       "      <td>6000</td>\n",
       "    </tr>\n",
       "    <tr>\n",
       "      <th>2023-01-01 01:40:00</th>\n",
       "      <td>6001</td>\n",
       "      <td>6600</td>\n",
       "      <td>6001</td>\n",
       "      <td>6600</td>\n",
       "    </tr>\n",
       "    <tr>\n",
       "      <th>2023-01-01 01:50:00</th>\n",
       "      <td>6601</td>\n",
       "      <td>7200</td>\n",
       "      <td>6601</td>\n",
       "      <td>7200</td>\n",
       "    </tr>\n",
       "    <tr>\n",
       "      <th>2023-01-01 02:00:00</th>\n",
       "      <td>7201</td>\n",
       "      <td>7800</td>\n",
       "      <td>7201</td>\n",
       "      <td>7800</td>\n",
       "    </tr>\n",
       "    <tr>\n",
       "      <th>2023-01-01 02:10:00</th>\n",
       "      <td>7801</td>\n",
       "      <td>8400</td>\n",
       "      <td>7801</td>\n",
       "      <td>8400</td>\n",
       "    </tr>\n",
       "    <tr>\n",
       "      <th>2023-01-01 02:20:00</th>\n",
       "      <td>8401</td>\n",
       "      <td>9000</td>\n",
       "      <td>8401</td>\n",
       "      <td>9000</td>\n",
       "    </tr>\n",
       "    <tr>\n",
       "      <th>2023-01-01 02:30:00</th>\n",
       "      <td>9001</td>\n",
       "      <td>9600</td>\n",
       "      <td>9001</td>\n",
       "      <td>9600</td>\n",
       "    </tr>\n",
       "    <tr>\n",
       "      <th>2023-01-01 02:40:00</th>\n",
       "      <td>9601</td>\n",
       "      <td>10000</td>\n",
       "      <td>9601</td>\n",
       "      <td>10000</td>\n",
       "    </tr>\n",
       "  </tbody>\n",
       "</table>\n",
       "</div>"
      ],
      "text/plain": [
       "                        A                    \n",
       "                     open   high   low  close\n",
       "data_time                                    \n",
       "2023-01-01 00:00:00     1    600     1    600\n",
       "2023-01-01 00:10:00   601   1200   601   1200\n",
       "2023-01-01 00:20:00  1201   1800  1201   1800\n",
       "2023-01-01 00:30:00  1801   2400  1801   2400\n",
       "2023-01-01 00:40:00  2401   3000  2401   3000\n",
       "2023-01-01 00:50:00  3001   3600  3001   3600\n",
       "2023-01-01 01:00:00  3601   4200  3601   4200\n",
       "2023-01-01 01:10:00  4201   4800  4201   4800\n",
       "2023-01-01 01:20:00  4801   5400  4801   5400\n",
       "2023-01-01 01:30:00  5401   6000  5401   6000\n",
       "2023-01-01 01:40:00  6001   6600  6001   6600\n",
       "2023-01-01 01:50:00  6601   7200  6601   7200\n",
       "2023-01-01 02:00:00  7201   7800  7201   7800\n",
       "2023-01-01 02:10:00  7801   8400  7801   8400\n",
       "2023-01-01 02:20:00  8401   9000  8401   9000\n",
       "2023-01-01 02:30:00  9001   9600  9001   9600\n",
       "2023-01-01 02:40:00  9601  10000  9601  10000"
      ]
     },
     "execution_count": 39,
     "metadata": {},
     "output_type": "execute_result"
    }
   ],
   "source": [
    "example1.resample(\"10min\", on=\"data_time\").ohlc() # open high low close"
   ]
  },
  {
   "cell_type": "code",
   "execution_count": 40,
   "metadata": {},
   "outputs": [
    {
     "data": {
      "text/html": [
       "<div>\n",
       "<style scoped>\n",
       "    .dataframe tbody tr th:only-of-type {\n",
       "        vertical-align: middle;\n",
       "    }\n",
       "\n",
       "    .dataframe tbody tr th {\n",
       "        vertical-align: top;\n",
       "    }\n",
       "\n",
       "    .dataframe thead th {\n",
       "        text-align: right;\n",
       "    }\n",
       "</style>\n",
       "<table border=\"1\" class=\"dataframe\">\n",
       "  <thead>\n",
       "    <tr style=\"text-align: right;\">\n",
       "      <th></th>\n",
       "      <th>date</th>\n",
       "      <th>close</th>\n",
       "      <th>symbol</th>\n",
       "    </tr>\n",
       "  </thead>\n",
       "  <tbody>\n",
       "    <tr>\n",
       "      <th>0</th>\n",
       "      <td>2023-09-05</td>\n",
       "      <td>189.585</td>\n",
       "      <td>AAPL</td>\n",
       "    </tr>\n",
       "    <tr>\n",
       "      <th>1</th>\n",
       "      <td>2023-09-01</td>\n",
       "      <td>189.460</td>\n",
       "      <td>AAPL</td>\n",
       "    </tr>\n",
       "    <tr>\n",
       "      <th>2</th>\n",
       "      <td>2023-08-31</td>\n",
       "      <td>187.870</td>\n",
       "      <td>AAPL</td>\n",
       "    </tr>\n",
       "    <tr>\n",
       "      <th>3</th>\n",
       "      <td>2023-08-30</td>\n",
       "      <td>187.650</td>\n",
       "      <td>AAPL</td>\n",
       "    </tr>\n",
       "    <tr>\n",
       "      <th>4</th>\n",
       "      <td>2023-08-29</td>\n",
       "      <td>184.120</td>\n",
       "      <td>AAPL</td>\n",
       "    </tr>\n",
       "    <tr>\n",
       "      <th>...</th>\n",
       "      <td>...</td>\n",
       "      <td>...</td>\n",
       "      <td>...</td>\n",
       "    </tr>\n",
       "    <tr>\n",
       "      <th>61078</th>\n",
       "      <td>1980-03-21</td>\n",
       "      <td>290.000</td>\n",
       "      <td>BRK.A</td>\n",
       "    </tr>\n",
       "    <tr>\n",
       "      <th>61079</th>\n",
       "      <td>1980-03-20</td>\n",
       "      <td>290.000</td>\n",
       "      <td>BRK.A</td>\n",
       "    </tr>\n",
       "    <tr>\n",
       "      <th>61080</th>\n",
       "      <td>1980-03-19</td>\n",
       "      <td>290.000</td>\n",
       "      <td>BRK.A</td>\n",
       "    </tr>\n",
       "    <tr>\n",
       "      <th>61081</th>\n",
       "      <td>1980-03-18</td>\n",
       "      <td>290.000</td>\n",
       "      <td>BRK.A</td>\n",
       "    </tr>\n",
       "    <tr>\n",
       "      <th>61082</th>\n",
       "      <td>1980-03-17</td>\n",
       "      <td>290.000</td>\n",
       "      <td>BRK.A</td>\n",
       "    </tr>\n",
       "  </tbody>\n",
       "</table>\n",
       "<p>61083 rows × 3 columns</p>\n",
       "</div>"
      ],
      "text/plain": [
       "            date    close symbol\n",
       "0     2023-09-05  189.585   AAPL\n",
       "1     2023-09-01  189.460   AAPL\n",
       "2     2023-08-31  187.870   AAPL\n",
       "3     2023-08-30  187.650   AAPL\n",
       "4     2023-08-29  184.120   AAPL\n",
       "...          ...      ...    ...\n",
       "61078 1980-03-21  290.000  BRK.A\n",
       "61079 1980-03-20  290.000  BRK.A\n",
       "61080 1980-03-19  290.000  BRK.A\n",
       "61081 1980-03-18  290.000  BRK.A\n",
       "61082 1980-03-17  290.000  BRK.A\n",
       "\n",
       "[61083 rows x 3 columns]"
      ]
     },
     "execution_count": 40,
     "metadata": {},
     "output_type": "execute_result"
    }
   ],
   "source": [
    "stock_data"
   ]
  },
  {
   "cell_type": "code",
   "execution_count": 42,
   "metadata": {},
   "outputs": [
    {
     "data": {
      "text/plain": [
       "symbol\n",
       "IBM      15525\n",
       "WMT      12866\n",
       "JPM      10960\n",
       "BRK.A    10960\n",
       "AAPL     10772\n",
       "Name: count, dtype: int64"
      ]
     },
     "execution_count": 42,
     "metadata": {},
     "output_type": "execute_result"
    }
   ],
   "source": [
    "stock_data.symbol.value_counts()"
   ]
  },
  {
   "cell_type": "code",
   "execution_count": 43,
   "metadata": {},
   "outputs": [
    {
     "data": {
      "text/html": [
       "<div>\n",
       "<style scoped>\n",
       "    .dataframe tbody tr th:only-of-type {\n",
       "        vertical-align: middle;\n",
       "    }\n",
       "\n",
       "    .dataframe tbody tr th {\n",
       "        vertical-align: top;\n",
       "    }\n",
       "\n",
       "    .dataframe thead th {\n",
       "        text-align: right;\n",
       "    }\n",
       "</style>\n",
       "<table border=\"1\" class=\"dataframe\">\n",
       "  <thead>\n",
       "    <tr style=\"text-align: right;\">\n",
       "      <th></th>\n",
       "      <th>date</th>\n",
       "      <th>close</th>\n",
       "      <th>symbol</th>\n",
       "    </tr>\n",
       "  </thead>\n",
       "  <tbody>\n",
       "    <tr>\n",
       "      <th>min</th>\n",
       "      <td>1962-01-02</td>\n",
       "      <td>0.015625</td>\n",
       "      <td>AAPL</td>\n",
       "    </tr>\n",
       "    <tr>\n",
       "      <th>max</th>\n",
       "      <td>2023-09-05</td>\n",
       "      <td>553101.000000</td>\n",
       "      <td>WMT</td>\n",
       "    </tr>\n",
       "  </tbody>\n",
       "</table>\n",
       "</div>"
      ],
      "text/plain": [
       "          date          close symbol\n",
       "min 1962-01-02       0.015625   AAPL\n",
       "max 2023-09-05  553101.000000    WMT"
      ]
     },
     "execution_count": 43,
     "metadata": {},
     "output_type": "execute_result"
    }
   ],
   "source": [
    "stock_data.agg([\"min\", \"max\"])"
   ]
  },
  {
   "cell_type": "code",
   "execution_count": 48,
   "metadata": {},
   "outputs": [
    {
     "data": {
      "text/html": [
       "<div>\n",
       "<style scoped>\n",
       "    .dataframe tbody tr th:only-of-type {\n",
       "        vertical-align: middle;\n",
       "    }\n",
       "\n",
       "    .dataframe tbody tr th {\n",
       "        vertical-align: top;\n",
       "    }\n",
       "\n",
       "    .dataframe thead th {\n",
       "        text-align: right;\n",
       "    }\n",
       "</style>\n",
       "<table border=\"1\" class=\"dataframe\">\n",
       "  <thead>\n",
       "    <tr style=\"text-align: right;\">\n",
       "      <th></th>\n",
       "      <th></th>\n",
       "      <th>close</th>\n",
       "    </tr>\n",
       "    <tr>\n",
       "      <th>symbol</th>\n",
       "      <th>date</th>\n",
       "      <th></th>\n",
       "    </tr>\n",
       "  </thead>\n",
       "  <tbody>\n",
       "    <tr>\n",
       "      <th rowspan=\"5\" valign=\"top\">AAPL</th>\n",
       "      <th>1980-12-31</th>\n",
       "      <td>0.15234</td>\n",
       "    </tr>\n",
       "    <tr>\n",
       "      <th>1981-01-31</th>\n",
       "      <td>0.12612</td>\n",
       "    </tr>\n",
       "    <tr>\n",
       "      <th>1981-02-28</th>\n",
       "      <td>0.11830</td>\n",
       "    </tr>\n",
       "    <tr>\n",
       "      <th>1981-03-31</th>\n",
       "      <td>0.10938</td>\n",
       "    </tr>\n",
       "    <tr>\n",
       "      <th>1981-04-30</th>\n",
       "      <td>0.12667</td>\n",
       "    </tr>\n",
       "    <tr>\n",
       "      <th>...</th>\n",
       "      <th>...</th>\n",
       "      <td>...</td>\n",
       "    </tr>\n",
       "    <tr>\n",
       "      <th rowspan=\"5\" valign=\"top\">WMT</th>\n",
       "      <th>2023-05-31</th>\n",
       "      <td>146.87000</td>\n",
       "    </tr>\n",
       "    <tr>\n",
       "      <th>2023-06-30</th>\n",
       "      <td>157.18000</td>\n",
       "    </tr>\n",
       "    <tr>\n",
       "      <th>2023-07-31</th>\n",
       "      <td>159.86000</td>\n",
       "    </tr>\n",
       "    <tr>\n",
       "      <th>2023-08-31</th>\n",
       "      <td>162.61000</td>\n",
       "    </tr>\n",
       "    <tr>\n",
       "      <th>2023-09-30</th>\n",
       "      <td>161.44500</td>\n",
       "    </tr>\n",
       "  </tbody>\n",
       "</table>\n",
       "<p>2915 rows × 1 columns</p>\n",
       "</div>"
      ],
      "text/plain": [
       "                       close\n",
       "symbol date                 \n",
       "AAPL   1980-12-31    0.15234\n",
       "       1981-01-31    0.12612\n",
       "       1981-02-28    0.11830\n",
       "       1981-03-31    0.10938\n",
       "       1981-04-30    0.12667\n",
       "...                      ...\n",
       "WMT    2023-05-31  146.87000\n",
       "       2023-06-30  157.18000\n",
       "       2023-07-31  159.86000\n",
       "       2023-08-31  162.61000\n",
       "       2023-09-30  161.44500\n",
       "\n",
       "[2915 rows x 1 columns]"
      ]
     },
     "execution_count": 48,
     "metadata": {},
     "output_type": "execute_result"
    }
   ],
   "source": [
    "stock_data.groupby(\"symbol\")[[\"date\", \"close\"]].resample(\"M\", on=\"date\").last()"
   ]
  },
  {
   "cell_type": "code",
   "execution_count": 52,
   "metadata": {},
   "outputs": [],
   "source": [
    "monthly_stock = (stock_data\n",
    "                 .groupby(\"symbol\")[[\"date\", \"close\"]]\n",
    "                 .resample(\"M\", on=\"date\")\n",
    "                 .ohlc()\n",
    "                 .reset_index()\n",
    "                 )"
   ]
  },
  {
   "cell_type": "code",
   "execution_count": 56,
   "metadata": {},
   "outputs": [
    {
     "data": {
      "text/html": [
       "<div>\n",
       "<style scoped>\n",
       "    .dataframe tbody tr th:only-of-type {\n",
       "        vertical-align: middle;\n",
       "    }\n",
       "\n",
       "    .dataframe tbody tr th {\n",
       "        vertical-align: top;\n",
       "    }\n",
       "\n",
       "    .dataframe thead tr th {\n",
       "        text-align: left;\n",
       "    }\n",
       "</style>\n",
       "<table border=\"1\" class=\"dataframe\">\n",
       "  <thead>\n",
       "    <tr>\n",
       "      <th></th>\n",
       "      <th>symbol</th>\n",
       "      <th>date</th>\n",
       "      <th colspan=\"4\" halign=\"left\">close</th>\n",
       "    </tr>\n",
       "    <tr>\n",
       "      <th></th>\n",
       "      <th></th>\n",
       "      <th></th>\n",
       "      <th>open</th>\n",
       "      <th>high</th>\n",
       "      <th>low</th>\n",
       "      <th>close</th>\n",
       "    </tr>\n",
       "  </thead>\n",
       "  <tbody>\n",
       "    <tr>\n",
       "      <th>0</th>\n",
       "      <td>AAPL</td>\n",
       "      <td>1980-12-31</td>\n",
       "      <td>0.12835</td>\n",
       "      <td>0.16071</td>\n",
       "      <td>0.11272</td>\n",
       "      <td>0.15234</td>\n",
       "    </tr>\n",
       "    <tr>\n",
       "      <th>1</th>\n",
       "      <td>AAPL</td>\n",
       "      <td>1981-01-31</td>\n",
       "      <td>0.15402</td>\n",
       "      <td>0.15402</td>\n",
       "      <td>0.12612</td>\n",
       "      <td>0.12612</td>\n",
       "    </tr>\n",
       "    <tr>\n",
       "      <th>2</th>\n",
       "      <td>AAPL</td>\n",
       "      <td>1981-02-28</td>\n",
       "      <td>0.11886</td>\n",
       "      <td>0.12835</td>\n",
       "      <td>0.10603</td>\n",
       "      <td>0.11830</td>\n",
       "    </tr>\n",
       "    <tr>\n",
       "      <th>3</th>\n",
       "      <td>AAPL</td>\n",
       "      <td>1981-03-31</td>\n",
       "      <td>0.11886</td>\n",
       "      <td>0.11942</td>\n",
       "      <td>0.09654</td>\n",
       "      <td>0.10938</td>\n",
       "    </tr>\n",
       "    <tr>\n",
       "      <th>4</th>\n",
       "      <td>AAPL</td>\n",
       "      <td>1981-04-30</td>\n",
       "      <td>0.10826</td>\n",
       "      <td>0.13058</td>\n",
       "      <td>0.10826</td>\n",
       "      <td>0.12667</td>\n",
       "    </tr>\n",
       "    <tr>\n",
       "      <th>...</th>\n",
       "      <td>...</td>\n",
       "      <td>...</td>\n",
       "      <td>...</td>\n",
       "      <td>...</td>\n",
       "      <td>...</td>\n",
       "      <td>...</td>\n",
       "    </tr>\n",
       "    <tr>\n",
       "      <th>509</th>\n",
       "      <td>AAPL</td>\n",
       "      <td>2023-05-31</td>\n",
       "      <td>169.59000</td>\n",
       "      <td>177.30000</td>\n",
       "      <td>165.79000</td>\n",
       "      <td>177.25000</td>\n",
       "    </tr>\n",
       "    <tr>\n",
       "      <th>510</th>\n",
       "      <td>AAPL</td>\n",
       "      <td>2023-06-30</td>\n",
       "      <td>180.09000</td>\n",
       "      <td>193.97000</td>\n",
       "      <td>177.82000</td>\n",
       "      <td>193.97000</td>\n",
       "    </tr>\n",
       "    <tr>\n",
       "      <th>511</th>\n",
       "      <td>AAPL</td>\n",
       "      <td>2023-07-31</td>\n",
       "      <td>192.46000</td>\n",
       "      <td>196.45000</td>\n",
       "      <td>188.08000</td>\n",
       "      <td>196.45000</td>\n",
       "    </tr>\n",
       "    <tr>\n",
       "      <th>512</th>\n",
       "      <td>AAPL</td>\n",
       "      <td>2023-08-31</td>\n",
       "      <td>195.61000</td>\n",
       "      <td>195.61000</td>\n",
       "      <td>174.00000</td>\n",
       "      <td>187.87000</td>\n",
       "    </tr>\n",
       "    <tr>\n",
       "      <th>513</th>\n",
       "      <td>AAPL</td>\n",
       "      <td>2023-09-30</td>\n",
       "      <td>189.46000</td>\n",
       "      <td>189.58500</td>\n",
       "      <td>189.46000</td>\n",
       "      <td>189.58500</td>\n",
       "    </tr>\n",
       "  </tbody>\n",
       "</table>\n",
       "<p>514 rows × 6 columns</p>\n",
       "</div>"
      ],
      "text/plain": [
       "    symbol       date      close                                 \n",
       "                            open       high        low      close\n",
       "0     AAPL 1980-12-31    0.12835    0.16071    0.11272    0.15234\n",
       "1     AAPL 1981-01-31    0.15402    0.15402    0.12612    0.12612\n",
       "2     AAPL 1981-02-28    0.11886    0.12835    0.10603    0.11830\n",
       "3     AAPL 1981-03-31    0.11886    0.11942    0.09654    0.10938\n",
       "4     AAPL 1981-04-30    0.10826    0.13058    0.10826    0.12667\n",
       "..     ...        ...        ...        ...        ...        ...\n",
       "509   AAPL 2023-05-31  169.59000  177.30000  165.79000  177.25000\n",
       "510   AAPL 2023-06-30  180.09000  193.97000  177.82000  193.97000\n",
       "511   AAPL 2023-07-31  192.46000  196.45000  188.08000  196.45000\n",
       "512   AAPL 2023-08-31  195.61000  195.61000  174.00000  187.87000\n",
       "513   AAPL 2023-09-30  189.46000  189.58500  189.46000  189.58500\n",
       "\n",
       "[514 rows x 6 columns]"
      ]
     },
     "execution_count": 56,
     "metadata": {},
     "output_type": "execute_result"
    }
   ],
   "source": [
    "monthly_stock[monthly_stock.symbol==\"AAPL\"]"
   ]
  },
  {
   "cell_type": "code",
   "execution_count": 54,
   "metadata": {},
   "outputs": [],
   "source": [
    "annual_stock = (stock_data\n",
    "                 .groupby(\"symbol\")[[\"date\", \"close\"]]\n",
    "                 .resample(\"A\", on=\"date\")\n",
    "                 .ohlc()\n",
    "                 .reset_index()\n",
    "                 )"
   ]
  },
  {
   "cell_type": "code",
   "execution_count": 55,
   "metadata": {},
   "outputs": [
    {
     "data": {
      "text/html": [
       "<div>\n",
       "<style scoped>\n",
       "    .dataframe tbody tr th:only-of-type {\n",
       "        vertical-align: middle;\n",
       "    }\n",
       "\n",
       "    .dataframe tbody tr th {\n",
       "        vertical-align: top;\n",
       "    }\n",
       "\n",
       "    .dataframe thead tr th {\n",
       "        text-align: left;\n",
       "    }\n",
       "</style>\n",
       "<table border=\"1\" class=\"dataframe\">\n",
       "  <thead>\n",
       "    <tr>\n",
       "      <th></th>\n",
       "      <th>symbol</th>\n",
       "      <th>date</th>\n",
       "      <th colspan=\"4\" halign=\"left\">close</th>\n",
       "    </tr>\n",
       "    <tr>\n",
       "      <th></th>\n",
       "      <th></th>\n",
       "      <th></th>\n",
       "      <th>open</th>\n",
       "      <th>high</th>\n",
       "      <th>low</th>\n",
       "      <th>close</th>\n",
       "    </tr>\n",
       "  </thead>\n",
       "  <tbody>\n",
       "    <tr>\n",
       "      <th>0</th>\n",
       "      <td>AAPL</td>\n",
       "      <td>1980-12-31</td>\n",
       "      <td>0.128350</td>\n",
       "      <td>0.16071</td>\n",
       "      <td>0.112720</td>\n",
       "      <td>0.152340</td>\n",
       "    </tr>\n",
       "    <tr>\n",
       "      <th>1</th>\n",
       "      <td>AAPL</td>\n",
       "      <td>1981-12-31</td>\n",
       "      <td>0.154020</td>\n",
       "      <td>0.15402</td>\n",
       "      <td>0.063616</td>\n",
       "      <td>0.098772</td>\n",
       "    </tr>\n",
       "    <tr>\n",
       "      <th>2</th>\n",
       "      <td>AAPL</td>\n",
       "      <td>1982-12-31</td>\n",
       "      <td>0.098214</td>\n",
       "      <td>0.15123</td>\n",
       "      <td>0.049107</td>\n",
       "      <td>0.133370</td>\n",
       "    </tr>\n",
       "    <tr>\n",
       "      <th>3</th>\n",
       "      <td>AAPL</td>\n",
       "      <td>1983-12-31</td>\n",
       "      <td>0.127230</td>\n",
       "      <td>0.28013</td>\n",
       "      <td>0.079799</td>\n",
       "      <td>0.108820</td>\n",
       "    </tr>\n",
       "    <tr>\n",
       "      <th>4</th>\n",
       "      <td>AAPL</td>\n",
       "      <td>1984-12-31</td>\n",
       "      <td>0.114400</td>\n",
       "      <td>0.14844</td>\n",
       "      <td>0.097656</td>\n",
       "      <td>0.130020</td>\n",
       "    </tr>\n",
       "    <tr>\n",
       "      <th>...</th>\n",
       "      <td>...</td>\n",
       "      <td>...</td>\n",
       "      <td>...</td>\n",
       "      <td>...</td>\n",
       "      <td>...</td>\n",
       "      <td>...</td>\n",
       "    </tr>\n",
       "    <tr>\n",
       "      <th>241</th>\n",
       "      <td>WMT</td>\n",
       "      <td>2019-12-31</td>\n",
       "      <td>93.340000</td>\n",
       "      <td>121.28000</td>\n",
       "      <td>92.860000</td>\n",
       "      <td>118.840000</td>\n",
       "    </tr>\n",
       "    <tr>\n",
       "      <th>242</th>\n",
       "      <td>WMT</td>\n",
       "      <td>2020-12-31</td>\n",
       "      <td>118.940000</td>\n",
       "      <td>152.79000</td>\n",
       "      <td>104.050000</td>\n",
       "      <td>144.150000</td>\n",
       "    </tr>\n",
       "    <tr>\n",
       "      <th>243</th>\n",
       "      <td>WMT</td>\n",
       "      <td>2021-12-31</td>\n",
       "      <td>146.530000</td>\n",
       "      <td>151.45000</td>\n",
       "      <td>127.530000</td>\n",
       "      <td>144.690000</td>\n",
       "    </tr>\n",
       "    <tr>\n",
       "      <th>244</th>\n",
       "      <td>WMT</td>\n",
       "      <td>2022-12-31</td>\n",
       "      <td>144.650000</td>\n",
       "      <td>159.87000</td>\n",
       "      <td>118.290000</td>\n",
       "      <td>141.790000</td>\n",
       "    </tr>\n",
       "    <tr>\n",
       "      <th>245</th>\n",
       "      <td>WMT</td>\n",
       "      <td>2023-12-31</td>\n",
       "      <td>143.600000</td>\n",
       "      <td>162.61000</td>\n",
       "      <td>136.970000</td>\n",
       "      <td>161.445000</td>\n",
       "    </tr>\n",
       "  </tbody>\n",
       "</table>\n",
       "<p>246 rows × 6 columns</p>\n",
       "</div>"
      ],
      "text/plain": [
       "    symbol       date       close                                   \n",
       "                             open       high         low       close\n",
       "0     AAPL 1980-12-31    0.128350    0.16071    0.112720    0.152340\n",
       "1     AAPL 1981-12-31    0.154020    0.15402    0.063616    0.098772\n",
       "2     AAPL 1982-12-31    0.098214    0.15123    0.049107    0.133370\n",
       "3     AAPL 1983-12-31    0.127230    0.28013    0.079799    0.108820\n",
       "4     AAPL 1984-12-31    0.114400    0.14844    0.097656    0.130020\n",
       "..     ...        ...         ...        ...         ...         ...\n",
       "241    WMT 2019-12-31   93.340000  121.28000   92.860000  118.840000\n",
       "242    WMT 2020-12-31  118.940000  152.79000  104.050000  144.150000\n",
       "243    WMT 2021-12-31  146.530000  151.45000  127.530000  144.690000\n",
       "244    WMT 2022-12-31  144.650000  159.87000  118.290000  141.790000\n",
       "245    WMT 2023-12-31  143.600000  162.61000  136.970000  161.445000\n",
       "\n",
       "[246 rows x 6 columns]"
      ]
     },
     "execution_count": 55,
     "metadata": {},
     "output_type": "execute_result"
    }
   ],
   "source": [
    "annual_stock"
   ]
  },
  {
   "cell_type": "markdown",
   "metadata": {},
   "source": [
    "outra abordagem"
   ]
  },
  {
   "cell_type": "code",
   "execution_count": 57,
   "metadata": {},
   "outputs": [],
   "source": [
    "stock_data.index =stock_data.date"
   ]
  },
  {
   "cell_type": "code",
   "execution_count": 58,
   "metadata": {},
   "outputs": [
    {
     "data": {
      "text/html": [
       "<div>\n",
       "<style scoped>\n",
       "    .dataframe tbody tr th:only-of-type {\n",
       "        vertical-align: middle;\n",
       "    }\n",
       "\n",
       "    .dataframe tbody tr th {\n",
       "        vertical-align: top;\n",
       "    }\n",
       "\n",
       "    .dataframe thead th {\n",
       "        text-align: right;\n",
       "    }\n",
       "</style>\n",
       "<table border=\"1\" class=\"dataframe\">\n",
       "  <thead>\n",
       "    <tr style=\"text-align: right;\">\n",
       "      <th></th>\n",
       "      <th>date</th>\n",
       "      <th>close</th>\n",
       "      <th>symbol</th>\n",
       "    </tr>\n",
       "    <tr>\n",
       "      <th>date</th>\n",
       "      <th></th>\n",
       "      <th></th>\n",
       "      <th></th>\n",
       "    </tr>\n",
       "  </thead>\n",
       "  <tbody>\n",
       "    <tr>\n",
       "      <th>2023-09-05</th>\n",
       "      <td>2023-09-05</td>\n",
       "      <td>189.585</td>\n",
       "      <td>AAPL</td>\n",
       "    </tr>\n",
       "    <tr>\n",
       "      <th>2023-09-01</th>\n",
       "      <td>2023-09-01</td>\n",
       "      <td>189.460</td>\n",
       "      <td>AAPL</td>\n",
       "    </tr>\n",
       "    <tr>\n",
       "      <th>2023-08-31</th>\n",
       "      <td>2023-08-31</td>\n",
       "      <td>187.870</td>\n",
       "      <td>AAPL</td>\n",
       "    </tr>\n",
       "    <tr>\n",
       "      <th>2023-08-30</th>\n",
       "      <td>2023-08-30</td>\n",
       "      <td>187.650</td>\n",
       "      <td>AAPL</td>\n",
       "    </tr>\n",
       "    <tr>\n",
       "      <th>2023-08-29</th>\n",
       "      <td>2023-08-29</td>\n",
       "      <td>184.120</td>\n",
       "      <td>AAPL</td>\n",
       "    </tr>\n",
       "    <tr>\n",
       "      <th>...</th>\n",
       "      <td>...</td>\n",
       "      <td>...</td>\n",
       "      <td>...</td>\n",
       "    </tr>\n",
       "    <tr>\n",
       "      <th>1980-03-21</th>\n",
       "      <td>1980-03-21</td>\n",
       "      <td>290.000</td>\n",
       "      <td>BRK.A</td>\n",
       "    </tr>\n",
       "    <tr>\n",
       "      <th>1980-03-20</th>\n",
       "      <td>1980-03-20</td>\n",
       "      <td>290.000</td>\n",
       "      <td>BRK.A</td>\n",
       "    </tr>\n",
       "    <tr>\n",
       "      <th>1980-03-19</th>\n",
       "      <td>1980-03-19</td>\n",
       "      <td>290.000</td>\n",
       "      <td>BRK.A</td>\n",
       "    </tr>\n",
       "    <tr>\n",
       "      <th>1980-03-18</th>\n",
       "      <td>1980-03-18</td>\n",
       "      <td>290.000</td>\n",
       "      <td>BRK.A</td>\n",
       "    </tr>\n",
       "    <tr>\n",
       "      <th>1980-03-17</th>\n",
       "      <td>1980-03-17</td>\n",
       "      <td>290.000</td>\n",
       "      <td>BRK.A</td>\n",
       "    </tr>\n",
       "  </tbody>\n",
       "</table>\n",
       "<p>61083 rows × 3 columns</p>\n",
       "</div>"
      ],
      "text/plain": [
       "                 date    close symbol\n",
       "date                                 \n",
       "2023-09-05 2023-09-05  189.585   AAPL\n",
       "2023-09-01 2023-09-01  189.460   AAPL\n",
       "2023-08-31 2023-08-31  187.870   AAPL\n",
       "2023-08-30 2023-08-30  187.650   AAPL\n",
       "2023-08-29 2023-08-29  184.120   AAPL\n",
       "...               ...      ...    ...\n",
       "1980-03-21 1980-03-21  290.000  BRK.A\n",
       "1980-03-20 1980-03-20  290.000  BRK.A\n",
       "1980-03-19 1980-03-19  290.000  BRK.A\n",
       "1980-03-18 1980-03-18  290.000  BRK.A\n",
       "1980-03-17 1980-03-17  290.000  BRK.A\n",
       "\n",
       "[61083 rows x 3 columns]"
      ]
     },
     "execution_count": 58,
     "metadata": {},
     "output_type": "execute_result"
    }
   ],
   "source": [
    "stock_data"
   ]
  },
  {
   "cell_type": "code",
   "execution_count": 61,
   "metadata": {},
   "outputs": [],
   "source": [
    "# como date é o index, nao precisa no resample\n",
    "annual_stock = (stock_data\n",
    "                 .groupby(\"symbol\")[\"close\"]\n",
    "                 .resample(\"A\")\n",
    "                 .ohlc()\n",
    "                 .reset_index()\n",
    "                 )"
   ]
  },
  {
   "cell_type": "code",
   "execution_count": 62,
   "metadata": {},
   "outputs": [
    {
     "data": {
      "text/html": [
       "<div>\n",
       "<style scoped>\n",
       "    .dataframe tbody tr th:only-of-type {\n",
       "        vertical-align: middle;\n",
       "    }\n",
       "\n",
       "    .dataframe tbody tr th {\n",
       "        vertical-align: top;\n",
       "    }\n",
       "\n",
       "    .dataframe thead th {\n",
       "        text-align: right;\n",
       "    }\n",
       "</style>\n",
       "<table border=\"1\" class=\"dataframe\">\n",
       "  <thead>\n",
       "    <tr style=\"text-align: right;\">\n",
       "      <th></th>\n",
       "      <th>symbol</th>\n",
       "      <th>date</th>\n",
       "      <th>open</th>\n",
       "      <th>high</th>\n",
       "      <th>low</th>\n",
       "      <th>close</th>\n",
       "    </tr>\n",
       "  </thead>\n",
       "  <tbody>\n",
       "    <tr>\n",
       "      <th>0</th>\n",
       "      <td>AAPL</td>\n",
       "      <td>1980-12-31</td>\n",
       "      <td>0.128350</td>\n",
       "      <td>0.16071</td>\n",
       "      <td>0.112720</td>\n",
       "      <td>0.152340</td>\n",
       "    </tr>\n",
       "    <tr>\n",
       "      <th>1</th>\n",
       "      <td>AAPL</td>\n",
       "      <td>1981-12-31</td>\n",
       "      <td>0.154020</td>\n",
       "      <td>0.15402</td>\n",
       "      <td>0.063616</td>\n",
       "      <td>0.098772</td>\n",
       "    </tr>\n",
       "    <tr>\n",
       "      <th>2</th>\n",
       "      <td>AAPL</td>\n",
       "      <td>1982-12-31</td>\n",
       "      <td>0.098214</td>\n",
       "      <td>0.15123</td>\n",
       "      <td>0.049107</td>\n",
       "      <td>0.133370</td>\n",
       "    </tr>\n",
       "    <tr>\n",
       "      <th>3</th>\n",
       "      <td>AAPL</td>\n",
       "      <td>1983-12-31</td>\n",
       "      <td>0.127230</td>\n",
       "      <td>0.28013</td>\n",
       "      <td>0.079799</td>\n",
       "      <td>0.108820</td>\n",
       "    </tr>\n",
       "    <tr>\n",
       "      <th>4</th>\n",
       "      <td>AAPL</td>\n",
       "      <td>1984-12-31</td>\n",
       "      <td>0.114400</td>\n",
       "      <td>0.14844</td>\n",
       "      <td>0.097656</td>\n",
       "      <td>0.130020</td>\n",
       "    </tr>\n",
       "    <tr>\n",
       "      <th>...</th>\n",
       "      <td>...</td>\n",
       "      <td>...</td>\n",
       "      <td>...</td>\n",
       "      <td>...</td>\n",
       "      <td>...</td>\n",
       "      <td>...</td>\n",
       "    </tr>\n",
       "    <tr>\n",
       "      <th>241</th>\n",
       "      <td>WMT</td>\n",
       "      <td>2019-12-31</td>\n",
       "      <td>93.340000</td>\n",
       "      <td>121.28000</td>\n",
       "      <td>92.860000</td>\n",
       "      <td>118.840000</td>\n",
       "    </tr>\n",
       "    <tr>\n",
       "      <th>242</th>\n",
       "      <td>WMT</td>\n",
       "      <td>2020-12-31</td>\n",
       "      <td>118.940000</td>\n",
       "      <td>152.79000</td>\n",
       "      <td>104.050000</td>\n",
       "      <td>144.150000</td>\n",
       "    </tr>\n",
       "    <tr>\n",
       "      <th>243</th>\n",
       "      <td>WMT</td>\n",
       "      <td>2021-12-31</td>\n",
       "      <td>146.530000</td>\n",
       "      <td>151.45000</td>\n",
       "      <td>127.530000</td>\n",
       "      <td>144.690000</td>\n",
       "    </tr>\n",
       "    <tr>\n",
       "      <th>244</th>\n",
       "      <td>WMT</td>\n",
       "      <td>2022-12-31</td>\n",
       "      <td>144.650000</td>\n",
       "      <td>159.87000</td>\n",
       "      <td>118.290000</td>\n",
       "      <td>141.790000</td>\n",
       "    </tr>\n",
       "    <tr>\n",
       "      <th>245</th>\n",
       "      <td>WMT</td>\n",
       "      <td>2023-12-31</td>\n",
       "      <td>143.600000</td>\n",
       "      <td>162.61000</td>\n",
       "      <td>136.970000</td>\n",
       "      <td>161.445000</td>\n",
       "    </tr>\n",
       "  </tbody>\n",
       "</table>\n",
       "<p>246 rows × 6 columns</p>\n",
       "</div>"
      ],
      "text/plain": [
       "    symbol       date        open       high         low       close\n",
       "0     AAPL 1980-12-31    0.128350    0.16071    0.112720    0.152340\n",
       "1     AAPL 1981-12-31    0.154020    0.15402    0.063616    0.098772\n",
       "2     AAPL 1982-12-31    0.098214    0.15123    0.049107    0.133370\n",
       "3     AAPL 1983-12-31    0.127230    0.28013    0.079799    0.108820\n",
       "4     AAPL 1984-12-31    0.114400    0.14844    0.097656    0.130020\n",
       "..     ...        ...         ...        ...         ...         ...\n",
       "241    WMT 2019-12-31   93.340000  121.28000   92.860000  118.840000\n",
       "242    WMT 2020-12-31  118.940000  152.79000  104.050000  144.150000\n",
       "243    WMT 2021-12-31  146.530000  151.45000  127.530000  144.690000\n",
       "244    WMT 2022-12-31  144.650000  159.87000  118.290000  141.790000\n",
       "245    WMT 2023-12-31  143.600000  162.61000  136.970000  161.445000\n",
       "\n",
       "[246 rows x 6 columns]"
      ]
     },
     "execution_count": 62,
     "metadata": {},
     "output_type": "execute_result"
    }
   ],
   "source": [
    "annual_stock"
   ]
  }
 ],
 "metadata": {
  "kernelspec": {
   "display_name": "base",
   "language": "python",
   "name": "python3"
  },
  "language_info": {
   "codemirror_mode": {
    "name": "ipython",
    "version": 3
   },
   "file_extension": ".py",
   "mimetype": "text/x-python",
   "name": "python",
   "nbconvert_exporter": "python",
   "pygments_lexer": "ipython3",
   "version": "3.11.5"
  }
 },
 "nbformat": 4,
 "nbformat_minor": 2
}
