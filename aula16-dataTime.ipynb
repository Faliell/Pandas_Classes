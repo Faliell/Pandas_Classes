{
 "cells": [
  {
   "cell_type": "code",
   "execution_count": 1,
   "metadata": {},
   "outputs": [],
   "source": [
    "import pandas as pd\n",
    "import numpy as np\n",
    "import datetime"
   ]
  },
  {
   "cell_type": "code",
   "execution_count": 5,
   "metadata": {},
   "outputs": [
    {
     "data": {
      "text/plain": [
       "Timestamp('2024-06-16 04:30:10')"
      ]
     },
     "execution_count": 5,
     "metadata": {},
     "output_type": "execute_result"
    }
   ],
   "source": [
    "ts = pd.Timestamp(\"2024-06-16 04:30:10\") # objeto timestamp\n",
    "ts"
   ]
  },
  {
   "cell_type": "code",
   "execution_count": 6,
   "metadata": {},
   "outputs": [
    {
     "data": {
      "text/plain": [
       "datetime.datetime(2024, 6, 1, 4, 30, 10)"
      ]
     },
     "execution_count": 6,
     "metadata": {},
     "output_type": "execute_result"
    }
   ],
   "source": [
    "datetime.datetime(2024,6,1,4,30,10) # objeto datetime"
   ]
  },
  {
   "cell_type": "code",
   "execution_count": 8,
   "metadata": {},
   "outputs": [
    {
     "data": {
      "text/plain": [
       "Timestamp('2024-06-17 06:34:12.593690')"
      ]
     },
     "execution_count": 8,
     "metadata": {},
     "output_type": "execute_result"
    }
   ],
   "source": [
    "now = pd.Timestamp.now()\n",
    "now"
   ]
  },
  {
   "cell_type": "code",
   "execution_count": 9,
   "metadata": {},
   "outputs": [
    {
     "data": {
      "text/plain": [
       "Timestamp('2024-06-17 06:35:22.113532')"
      ]
     },
     "execution_count": 9,
     "metadata": {},
     "output_type": "execute_result"
    }
   ],
   "source": [
    "# converter datatime em timestamp\n",
    "pd.Timestamp(datetime.datetime.now())"
   ]
  },
  {
   "cell_type": "code",
   "execution_count": 10,
   "metadata": {},
   "outputs": [],
   "source": [
    "data = pd.read_parquet(\"data+files/stock_data.parquet\")"
   ]
  },
  {
   "cell_type": "code",
   "execution_count": 11,
   "metadata": {},
   "outputs": [
    {
     "data": {
      "text/html": [
       "<div>\n",
       "<style scoped>\n",
       "    .dataframe tbody tr th:only-of-type {\n",
       "        vertical-align: middle;\n",
       "    }\n",
       "\n",
       "    .dataframe tbody tr th {\n",
       "        vertical-align: top;\n",
       "    }\n",
       "\n",
       "    .dataframe thead th {\n",
       "        text-align: right;\n",
       "    }\n",
       "</style>\n",
       "<table border=\"1\" class=\"dataframe\">\n",
       "  <thead>\n",
       "    <tr style=\"text-align: right;\">\n",
       "      <th></th>\n",
       "      <th>date</th>\n",
       "      <th>close</th>\n",
       "      <th>symbol</th>\n",
       "    </tr>\n",
       "  </thead>\n",
       "  <tbody>\n",
       "    <tr>\n",
       "      <th>0</th>\n",
       "      <td>2023-09-05</td>\n",
       "      <td>189.585</td>\n",
       "      <td>AAPL</td>\n",
       "    </tr>\n",
       "    <tr>\n",
       "      <th>1</th>\n",
       "      <td>2023-09-01</td>\n",
       "      <td>189.460</td>\n",
       "      <td>AAPL</td>\n",
       "    </tr>\n",
       "    <tr>\n",
       "      <th>2</th>\n",
       "      <td>2023-08-31</td>\n",
       "      <td>187.870</td>\n",
       "      <td>AAPL</td>\n",
       "    </tr>\n",
       "    <tr>\n",
       "      <th>3</th>\n",
       "      <td>2023-08-30</td>\n",
       "      <td>187.650</td>\n",
       "      <td>AAPL</td>\n",
       "    </tr>\n",
       "    <tr>\n",
       "      <th>4</th>\n",
       "      <td>2023-08-29</td>\n",
       "      <td>184.120</td>\n",
       "      <td>AAPL</td>\n",
       "    </tr>\n",
       "    <tr>\n",
       "      <th>...</th>\n",
       "      <td>...</td>\n",
       "      <td>...</td>\n",
       "      <td>...</td>\n",
       "    </tr>\n",
       "    <tr>\n",
       "      <th>61078</th>\n",
       "      <td>1980-03-21</td>\n",
       "      <td>290.000</td>\n",
       "      <td>BRK.A</td>\n",
       "    </tr>\n",
       "    <tr>\n",
       "      <th>61079</th>\n",
       "      <td>1980-03-20</td>\n",
       "      <td>290.000</td>\n",
       "      <td>BRK.A</td>\n",
       "    </tr>\n",
       "    <tr>\n",
       "      <th>61080</th>\n",
       "      <td>1980-03-19</td>\n",
       "      <td>290.000</td>\n",
       "      <td>BRK.A</td>\n",
       "    </tr>\n",
       "    <tr>\n",
       "      <th>61081</th>\n",
       "      <td>1980-03-18</td>\n",
       "      <td>290.000</td>\n",
       "      <td>BRK.A</td>\n",
       "    </tr>\n",
       "    <tr>\n",
       "      <th>61082</th>\n",
       "      <td>1980-03-17</td>\n",
       "      <td>290.000</td>\n",
       "      <td>BRK.A</td>\n",
       "    </tr>\n",
       "  </tbody>\n",
       "</table>\n",
       "<p>61083 rows × 3 columns</p>\n",
       "</div>"
      ],
      "text/plain": [
       "             date    close symbol\n",
       "0      2023-09-05  189.585   AAPL\n",
       "1      2023-09-01  189.460   AAPL\n",
       "2      2023-08-31  187.870   AAPL\n",
       "3      2023-08-30  187.650   AAPL\n",
       "4      2023-08-29  184.120   AAPL\n",
       "...           ...      ...    ...\n",
       "61078  1980-03-21  290.000  BRK.A\n",
       "61079  1980-03-20  290.000  BRK.A\n",
       "61080  1980-03-19  290.000  BRK.A\n",
       "61081  1980-03-18  290.000  BRK.A\n",
       "61082  1980-03-17  290.000  BRK.A\n",
       "\n",
       "[61083 rows x 3 columns]"
      ]
     },
     "execution_count": 11,
     "metadata": {},
     "output_type": "execute_result"
    }
   ],
   "source": [
    "data"
   ]
  },
  {
   "cell_type": "code",
   "execution_count": 12,
   "metadata": {},
   "outputs": [
    {
     "name": "stdout",
     "output_type": "stream",
     "text": [
      "<class 'pandas.core.frame.DataFrame'>\n",
      "RangeIndex: 61083 entries, 0 to 61082\n",
      "Data columns (total 3 columns):\n",
      " #   Column  Non-Null Count  Dtype  \n",
      "---  ------  --------------  -----  \n",
      " 0   date    61083 non-null  object \n",
      " 1   close   61083 non-null  float64\n",
      " 2   symbol  61083 non-null  object \n",
      "dtypes: float64(1), object(2)\n",
      "memory usage: 1.4+ MB\n"
     ]
    }
   ],
   "source": [
    "data.info() # a data está em string"
   ]
  },
  {
   "cell_type": "code",
   "execution_count": 13,
   "metadata": {},
   "outputs": [
    {
     "name": "stdout",
     "output_type": "stream",
     "text": [
      "<class 'pandas.core.frame.DataFrame'>\n",
      "RangeIndex: 61083 entries, 0 to 61082\n",
      "Data columns (total 3 columns):\n",
      " #   Column  Non-Null Count  Dtype         \n",
      "---  ------  --------------  -----         \n",
      " 0   date    61083 non-null  datetime64[ns]\n",
      " 1   close   61083 non-null  float64       \n",
      " 2   symbol  61083 non-null  object        \n",
      "dtypes: datetime64[ns](1), float64(1), object(1)\n",
      "memory usage: 1.4+ MB\n"
     ]
    }
   ],
   "source": [
    "data.date =pd.to_datetime(data.date)\n",
    "data.info()"
   ]
  },
  {
   "cell_type": "code",
   "execution_count": 14,
   "metadata": {},
   "outputs": [
    {
     "data": {
      "text/html": [
       "<div>\n",
       "<style scoped>\n",
       "    .dataframe tbody tr th:only-of-type {\n",
       "        vertical-align: middle;\n",
       "    }\n",
       "\n",
       "    .dataframe tbody tr th {\n",
       "        vertical-align: top;\n",
       "    }\n",
       "\n",
       "    .dataframe thead th {\n",
       "        text-align: right;\n",
       "    }\n",
       "</style>\n",
       "<table border=\"1\" class=\"dataframe\">\n",
       "  <thead>\n",
       "    <tr style=\"text-align: right;\">\n",
       "      <th></th>\n",
       "      <th>date</th>\n",
       "      <th>close</th>\n",
       "      <th>symbol</th>\n",
       "    </tr>\n",
       "  </thead>\n",
       "  <tbody>\n",
       "    <tr>\n",
       "      <th>50012</th>\n",
       "      <td>1973-02-06</td>\n",
       "      <td>0.058838</td>\n",
       "      <td>WMT</td>\n",
       "    </tr>\n",
       "    <tr>\n",
       "      <th>37978</th>\n",
       "      <td>2020-10-21</td>\n",
       "      <td>144.400000</td>\n",
       "      <td>WMT</td>\n",
       "    </tr>\n",
       "  </tbody>\n",
       "</table>\n",
       "</div>"
      ],
      "text/plain": [
       "            date       close symbol\n",
       "50012 1973-02-06    0.058838    WMT\n",
       "37978 2020-10-21  144.400000    WMT"
      ]
     },
     "execution_count": 14,
     "metadata": {},
     "output_type": "execute_result"
    }
   ],
   "source": [
    "data.sample(2)"
   ]
  },
  {
   "cell_type": "markdown",
   "metadata": {},
   "source": [
    "Frequencias de tempo\n",
    "\n",
    "- B - Dias úteis (exclui finais de semana)\n",
    "- C - Dias úteis personalizados\n",
    "- D - Dias calendários\n",
    "- W - Semanas\n",
    "- M - Fim do mês\n",
    "- MS - Início do mês\n",
    "- Q - Fim do trimestre (março, junho, setembro, dezembro)\n",
    "- QS - Início do trimestre\n",
    "- A ou Y - Fim do ano\n",
    "- AS ou YS - Início do ano\n",
    "- BA - Fim do ano comercial (fim do mês de abril, junho, setembro ou dezembro)\n",
    "- BAS - Início do ano comercial\n",
    "- H - Horas\n",
    "- T ou min - Minutos\n",
    "- S - Segundos\n",
    "- L ou ms - Milissegundos\n",
    "- U ou us - Microssegundos\n",
    "- N - Nanosegundos\n"
   ]
  },
  {
   "cell_type": "code",
   "execution_count": 15,
   "metadata": {},
   "outputs": [
    {
     "data": {
      "text/plain": [
       "DatetimeIndex(['2023-01-01 00:00:00', '2023-01-01 00:00:01',\n",
       "               '2023-01-01 00:00:02', '2023-01-01 00:00:03',\n",
       "               '2023-01-01 00:00:04', '2023-01-01 00:00:05',\n",
       "               '2023-01-01 00:00:06', '2023-01-01 00:00:07',\n",
       "               '2023-01-01 00:00:08', '2023-01-01 00:00:09',\n",
       "               ...\n",
       "               '2023-01-01 00:16:30', '2023-01-01 00:16:31',\n",
       "               '2023-01-01 00:16:32', '2023-01-01 00:16:33',\n",
       "               '2023-01-01 00:16:34', '2023-01-01 00:16:35',\n",
       "               '2023-01-01 00:16:36', '2023-01-01 00:16:37',\n",
       "               '2023-01-01 00:16:38', '2023-01-01 00:16:39'],\n",
       "              dtype='datetime64[ns]', length=1000, freq='S')"
      ]
     },
     "execution_count": 15,
     "metadata": {},
     "output_type": "execute_result"
    }
   ],
   "source": [
    "# criar um range de data\n",
    "\n",
    "pd.date_range(\"2023-01-01\", periods=1000, freq=\"S\")"
   ]
  },
  {
   "cell_type": "code",
   "execution_count": 16,
   "metadata": {},
   "outputs": [
    {
     "data": {
      "text/plain": [
       "DatetimeIndex(['2023-01-01 00:00:00', '2023-01-01 00:01:00',\n",
       "               '2023-01-01 00:02:00', '2023-01-01 00:03:00',\n",
       "               '2023-01-01 00:04:00', '2023-01-01 00:05:00',\n",
       "               '2023-01-01 00:06:00', '2023-01-01 00:07:00',\n",
       "               '2023-01-01 00:08:00', '2023-01-01 00:09:00',\n",
       "               ...\n",
       "               '2023-01-01 16:30:00', '2023-01-01 16:31:00',\n",
       "               '2023-01-01 16:32:00', '2023-01-01 16:33:00',\n",
       "               '2023-01-01 16:34:00', '2023-01-01 16:35:00',\n",
       "               '2023-01-01 16:36:00', '2023-01-01 16:37:00',\n",
       "               '2023-01-01 16:38:00', '2023-01-01 16:39:00'],\n",
       "              dtype='datetime64[ns]', length=1000, freq='T')"
      ]
     },
     "execution_count": 16,
     "metadata": {},
     "output_type": "execute_result"
    }
   ],
   "source": [
    "pd.date_range(\"2023-01-01\", periods=1000, freq=\"min\")"
   ]
  },
  {
   "cell_type": "code",
   "execution_count": 19,
   "metadata": {},
   "outputs": [
    {
     "data": {
      "text/plain": [
       "DatetimeIndex(['2023-01-01 00:00:00', '2023-01-01 00:05:00',\n",
       "               '2023-01-01 00:10:00', '2023-01-01 00:15:00',\n",
       "               '2023-01-01 00:20:00', '2023-01-01 00:25:00',\n",
       "               '2023-01-01 00:30:00', '2023-01-01 00:35:00',\n",
       "               '2023-01-01 00:40:00', '2023-01-01 00:45:00',\n",
       "               ...\n",
       "               '2023-01-04 10:30:00', '2023-01-04 10:35:00',\n",
       "               '2023-01-04 10:40:00', '2023-01-04 10:45:00',\n",
       "               '2023-01-04 10:50:00', '2023-01-04 10:55:00',\n",
       "               '2023-01-04 11:00:00', '2023-01-04 11:05:00',\n",
       "               '2023-01-04 11:10:00', '2023-01-04 11:15:00'],\n",
       "              dtype='datetime64[ns]', length=1000, freq='5T')"
      ]
     },
     "execution_count": 19,
     "metadata": {},
     "output_type": "execute_result"
    }
   ],
   "source": [
    "pd.date_range(\"2023-01-01\", periods=1000, freq=\"5min\")"
   ]
  },
  {
   "cell_type": "code",
   "execution_count": 20,
   "metadata": {},
   "outputs": [
    {
     "data": {
      "text/plain": [
       "DatetimeIndex(['2023-01-01', '2023-01-02', '2023-01-03', '2023-01-04',\n",
       "               '2023-01-05', '2023-01-06', '2023-01-07', '2023-01-08',\n",
       "               '2023-01-09', '2023-01-10',\n",
       "               ...\n",
       "               '2025-09-17', '2025-09-18', '2025-09-19', '2025-09-20',\n",
       "               '2025-09-21', '2025-09-22', '2025-09-23', '2025-09-24',\n",
       "               '2025-09-25', '2025-09-26'],\n",
       "              dtype='datetime64[ns]', length=1000, freq='D')"
      ]
     },
     "execution_count": 20,
     "metadata": {},
     "output_type": "execute_result"
    }
   ],
   "source": [
    "pd.date_range(\"2023-01-01\", periods=1000, freq=\"D\")"
   ]
  },
  {
   "cell_type": "code",
   "execution_count": 21,
   "metadata": {},
   "outputs": [
    {
     "data": {
      "text/plain": [
       "DatetimeIndex(['2023-01-02', '2023-01-03', '2023-01-04', '2023-01-05',\n",
       "               '2023-01-06', '2023-01-09', '2023-01-10', '2023-01-11',\n",
       "               '2023-01-12', '2023-01-13',\n",
       "               ...\n",
       "               '2026-10-19', '2026-10-20', '2026-10-21', '2026-10-22',\n",
       "               '2026-10-23', '2026-10-26', '2026-10-27', '2026-10-28',\n",
       "               '2026-10-29', '2026-10-30'],\n",
       "              dtype='datetime64[ns]', length=1000, freq='B')"
      ]
     },
     "execution_count": 21,
     "metadata": {},
     "output_type": "execute_result"
    }
   ],
   "source": [
    "pd.date_range(\"2023-01-01\", periods=1000, freq=\"B\") # exclui feriados"
   ]
  },
  {
   "cell_type": "code",
   "execution_count": 25,
   "metadata": {},
   "outputs": [
    {
     "data": {
      "text/plain": [
       "DatetimeIndex(['2023-01-09', '2023-01-16', '2023-01-23', '2023-01-30',\n",
       "               '2023-02-06', '2023-02-13', '2023-02-20', '2023-02-27',\n",
       "               '2023-03-06', '2023-03-13',\n",
       "               ...\n",
       "               '2041-12-30', '2042-01-06', '2042-01-13', '2042-01-20',\n",
       "               '2042-01-27', '2042-02-03', '2042-02-10', '2042-02-17',\n",
       "               '2042-02-24', '2042-03-03'],\n",
       "              dtype='datetime64[ns]', length=1000, freq='W-MON')"
      ]
     },
     "execution_count": 25,
     "metadata": {},
     "output_type": "execute_result"
    }
   ],
   "source": [
    "pd.date_range(\"2023-01-03\", periods=1000, freq=\"W-MON\")\n",
    "# semanal- ultimo dia da semana, domingo  - \"W-MON\"segunda, 2W-SAT"
   ]
  },
  {
   "cell_type": "code",
   "execution_count": 29,
   "metadata": {},
   "outputs": [
    {
     "data": {
      "text/plain": [
       "DatetimeIndex(['2023-01-01', '2023-02-01', '2023-03-01', '2023-04-01',\n",
       "               '2023-05-01', '2023-06-01', '2023-07-01', '2023-08-01',\n",
       "               '2023-09-01', '2023-10-01',\n",
       "               ...\n",
       "               '2105-07-01', '2105-08-01', '2105-09-01', '2105-10-01',\n",
       "               '2105-11-01', '2105-12-01', '2106-01-01', '2106-02-01',\n",
       "               '2106-03-01', '2106-04-01'],\n",
       "              dtype='datetime64[ns]', length=1000, freq='MS')"
      ]
     },
     "execution_count": 29,
     "metadata": {},
     "output_type": "execute_result"
    }
   ],
   "source": [
    "pd.date_range(\"2023-01-01\", periods=1000, freq=\"MS\")\n",
    "# M ultimo dia do mes,MS mes start"
   ]
  },
  {
   "cell_type": "code",
   "execution_count": 31,
   "metadata": {},
   "outputs": [
    {
     "data": {
      "text/plain": [
       "DatetimeIndex(['2023-01-31', '2023-07-31', '2024-01-31', '2024-07-31',\n",
       "               '2025-01-31', '2025-07-31', '2026-01-31', '2026-07-31',\n",
       "               '2027-01-31', '2027-07-31',\n",
       "               ...\n",
       "               '2518-01-31', '2518-07-31', '2519-01-31', '2519-07-31',\n",
       "               '2520-01-31', '2520-07-31', '2521-01-31', '2521-07-31',\n",
       "               '2522-01-31', '2522-07-31'],\n",
       "              dtype='datetime64[s]', length=1000, freq='6M')"
      ]
     },
     "execution_count": 31,
     "metadata": {},
     "output_type": "execute_result"
    }
   ],
   "source": [
    "pd.date_range(\"2023-01-01\", periods=1000, freq=\"6M\", unit = \"s\")\n",
    "# unit = \"s\", por usar nano segundos quebra o timestamp"
   ]
  },
  {
   "cell_type": "code",
   "execution_count": 34,
   "metadata": {},
   "outputs": [
    {
     "data": {
      "text/plain": [
       "DatetimeIndex(['2023-01-31', '2023-02-28', '2023-03-31', '2023-04-28',\n",
       "               '2023-05-31', '2023-06-30', '2023-07-31', '2023-08-31',\n",
       "               '2023-09-29', '2023-10-31',\n",
       "               ...\n",
       "               '2105-07-31', '2105-08-31', '2105-09-30', '2105-10-30',\n",
       "               '2105-11-30', '2105-12-31', '2106-01-29', '2106-02-26',\n",
       "               '2106-03-31', '2106-04-30'],\n",
       "              dtype='datetime64[ns]', length=1000, freq='BM')"
      ]
     },
     "execution_count": 34,
     "metadata": {},
     "output_type": "execute_result"
    }
   ],
   "source": [
    "pd.date_range(\"2023-01-01\", periods=1000, freq=\"BM\")\n",
    "# ultimo dia util da semana mensalmente -BMS primeiro dia util"
   ]
  },
  {
   "cell_type": "code",
   "execution_count": 35,
   "metadata": {},
   "outputs": [
    {
     "data": {
      "text/plain": [
       "DatetimeIndex(['2023-12-31', '2024-12-31', '2025-12-31', '2026-12-31',\n",
       "               '2027-12-31', '2028-12-31', '2029-12-31', '2030-12-31',\n",
       "               '2031-12-31', '2032-12-31',\n",
       "               ...\n",
       "               '3013-12-31', '3014-12-31', '3015-12-31', '3016-12-31',\n",
       "               '3017-12-31', '3018-12-31', '3019-12-31', '3020-12-31',\n",
       "               '3021-12-31', '3022-12-31'],\n",
       "              dtype='datetime64[s]', length=1000, freq='A-DEC')"
      ]
     },
     "execution_count": 35,
     "metadata": {},
     "output_type": "execute_result"
    }
   ],
   "source": [
    "pd.date_range(\"2023-01-01\", periods=1000, freq=\"A\", unit = \"s\")\n",
    "# anual"
   ]
  },
  {
   "cell_type": "markdown",
   "metadata": {},
   "source": [
    "Datatime Acessor dt."
   ]
  },
  {
   "cell_type": "code",
   "execution_count": 37,
   "metadata": {},
   "outputs": [
    {
     "data": {
      "text/plain": [
       "0     2023-01-01\n",
       "1     2023-01-02\n",
       "2     2023-01-03\n",
       "3     2023-01-04\n",
       "4     2023-01-05\n",
       "         ...    \n",
       "995   2025-09-22\n",
       "996   2025-09-23\n",
       "997   2025-09-24\n",
       "998   2025-09-25\n",
       "999   2025-09-26\n",
       "Length: 1000, dtype: datetime64[ns]"
      ]
     },
     "execution_count": 37,
     "metadata": {},
     "output_type": "execute_result"
    }
   ],
   "source": [
    "s1 = pd.Series(pd.date_range(\"2023-01-01\", periods=1000, freq=\"D\"))\n",
    "s1"
   ]
  },
  {
   "cell_type": "code",
   "execution_count": 46,
   "metadata": {},
   "outputs": [
    {
     "data": {
      "text/plain": [
       "0         Sunday\n",
       "1         Monday\n",
       "2        Tuesday\n",
       "3      Wednesday\n",
       "4       Thursday\n",
       "         ...    \n",
       "995       Monday\n",
       "996      Tuesday\n",
       "997    Wednesday\n",
       "998     Thursday\n",
       "999       Friday\n",
       "Length: 1000, dtype: object"
      ]
     },
     "execution_count": 46,
     "metadata": {},
     "output_type": "execute_result"
    }
   ],
   "source": [
    "s1.dt.day_name()"
   ]
  },
  {
   "cell_type": "code",
   "execution_count": 43,
   "metadata": {},
   "outputs": [
    {
     "data": {
      "text/plain": [
       "0        1\n",
       "1        2\n",
       "2        3\n",
       "3        4\n",
       "4        5\n",
       "      ... \n",
       "995    265\n",
       "996    266\n",
       "997    267\n",
       "998    268\n",
       "999    269\n",
       "Length: 1000, dtype: int32"
      ]
     },
     "execution_count": 43,
     "metadata": {},
     "output_type": "execute_result"
    }
   ],
   "source": [
    "s1.dt.dayofyear"
   ]
  },
  {
   "cell_type": "code",
   "execution_count": 50,
   "metadata": {},
   "outputs": [
    {
     "data": {
      "text/html": [
       "<div>\n",
       "<style scoped>\n",
       "    .dataframe tbody tr th:only-of-type {\n",
       "        vertical-align: middle;\n",
       "    }\n",
       "\n",
       "    .dataframe tbody tr th {\n",
       "        vertical-align: top;\n",
       "    }\n",
       "\n",
       "    .dataframe thead th {\n",
       "        text-align: right;\n",
       "    }\n",
       "</style>\n",
       "<table border=\"1\" class=\"dataframe\">\n",
       "  <thead>\n",
       "    <tr style=\"text-align: right;\">\n",
       "      <th></th>\n",
       "      <th>date</th>\n",
       "      <th>close</th>\n",
       "      <th>symbol</th>\n",
       "    </tr>\n",
       "  </thead>\n",
       "  <tbody>\n",
       "    <tr>\n",
       "      <th>130</th>\n",
       "      <td>2023-02-28</td>\n",
       "      <td>147.41</td>\n",
       "      <td>AAPL</td>\n",
       "    </tr>\n",
       "    <tr>\n",
       "      <th>131</th>\n",
       "      <td>2023-02-27</td>\n",
       "      <td>147.92</td>\n",
       "      <td>AAPL</td>\n",
       "    </tr>\n",
       "    <tr>\n",
       "      <th>132</th>\n",
       "      <td>2023-02-24</td>\n",
       "      <td>146.71</td>\n",
       "      <td>AAPL</td>\n",
       "    </tr>\n",
       "    <tr>\n",
       "      <th>133</th>\n",
       "      <td>2023-02-23</td>\n",
       "      <td>149.40</td>\n",
       "      <td>AAPL</td>\n",
       "    </tr>\n",
       "    <tr>\n",
       "      <th>134</th>\n",
       "      <td>2023-02-22</td>\n",
       "      <td>148.91</td>\n",
       "      <td>AAPL</td>\n",
       "    </tr>\n",
       "    <tr>\n",
       "      <th>...</th>\n",
       "      <td>...</td>\n",
       "      <td>...</td>\n",
       "      <td>...</td>\n",
       "    </tr>\n",
       "    <tr>\n",
       "      <th>60856</th>\n",
       "      <td>1981-02-06</td>\n",
       "      <td>430.00</td>\n",
       "      <td>BRK.A</td>\n",
       "    </tr>\n",
       "    <tr>\n",
       "      <th>60857</th>\n",
       "      <td>1981-02-05</td>\n",
       "      <td>430.00</td>\n",
       "      <td>BRK.A</td>\n",
       "    </tr>\n",
       "    <tr>\n",
       "      <th>60858</th>\n",
       "      <td>1981-02-04</td>\n",
       "      <td>430.00</td>\n",
       "      <td>BRK.A</td>\n",
       "    </tr>\n",
       "    <tr>\n",
       "      <th>60859</th>\n",
       "      <td>1981-02-03</td>\n",
       "      <td>430.00</td>\n",
       "      <td>BRK.A</td>\n",
       "    </tr>\n",
       "    <tr>\n",
       "      <th>60860</th>\n",
       "      <td>1981-02-02</td>\n",
       "      <td>430.00</td>\n",
       "      <td>BRK.A</td>\n",
       "    </tr>\n",
       "  </tbody>\n",
       "</table>\n",
       "<p>4635 rows × 3 columns</p>\n",
       "</div>"
      ],
      "text/plain": [
       "            date   close symbol\n",
       "130   2023-02-28  147.41   AAPL\n",
       "131   2023-02-27  147.92   AAPL\n",
       "132   2023-02-24  146.71   AAPL\n",
       "133   2023-02-23  149.40   AAPL\n",
       "134   2023-02-22  148.91   AAPL\n",
       "...          ...     ...    ...\n",
       "60856 1981-02-06  430.00  BRK.A\n",
       "60857 1981-02-05  430.00  BRK.A\n",
       "60858 1981-02-04  430.00  BRK.A\n",
       "60859 1981-02-03  430.00  BRK.A\n",
       "60860 1981-02-02  430.00  BRK.A\n",
       "\n",
       "[4635 rows x 3 columns]"
      ]
     },
     "execution_count": 50,
     "metadata": {},
     "output_type": "execute_result"
    }
   ],
   "source": [
    "data.loc[data.date.dt.month==2]\n",
    "# busco o mes 2 em um dataframe"
   ]
  },
  {
   "cell_type": "code",
   "execution_count": 52,
   "metadata": {},
   "outputs": [
    {
     "data": {
      "text/plain": [
       "0      2023-01-01\n",
       "1      2023-01-02\n",
       "2      2023-01-03\n",
       "3      2023-01-04\n",
       "4      2023-01-05\n",
       "          ...    \n",
       "995    2025-09-22\n",
       "996    2025-09-23\n",
       "997    2025-09-24\n",
       "998    2025-09-25\n",
       "999    2025-09-26\n",
       "Length: 1000, dtype: object"
      ]
     },
     "execution_count": 52,
     "metadata": {},
     "output_type": "execute_result"
    }
   ],
   "source": [
    "s1.dt.strftime(\"%Y-%m-%d\")"
   ]
  },
  {
   "cell_type": "markdown",
   "metadata": {},
   "source": [
    "# Datatime arithmetic e offsets"
   ]
  },
  {
   "cell_type": "code",
   "execution_count": 53,
   "metadata": {},
   "outputs": [
    {
     "data": {
      "text/plain": [
       "Timestamp('2024-01-01 00:00:00')"
      ]
     },
     "execution_count": 53,
     "metadata": {},
     "output_type": "execute_result"
    }
   ],
   "source": [
    "ts = pd.Timestamp(\"2024-01-01\")\n",
    "ts"
   ]
  },
  {
   "cell_type": "code",
   "execution_count": 54,
   "metadata": {},
   "outputs": [
    {
     "data": {
      "text/plain": [
       "Timestamp('2024-01-14 20:13:40')"
      ]
     },
     "execution_count": 54,
     "metadata": {},
     "output_type": "execute_result"
    }
   ],
   "source": [
    "# somar - usar Timedelta - semanas é o maior, nao tem ano e mes\n",
    "ts+pd.Timedelta(weeks=1, days=6, hours=20, minutes=13, seconds=40)"
   ]
  }
 ],
 "metadata": {
  "kernelspec": {
   "display_name": "base",
   "language": "python",
   "name": "python3"
  },
  "language_info": {
   "codemirror_mode": {
    "name": "ipython",
    "version": 3
   },
   "file_extension": ".py",
   "mimetype": "text/x-python",
   "name": "python",
   "nbconvert_exporter": "python",
   "pygments_lexer": "ipython3",
   "version": "3.11.5"
  }
 },
 "nbformat": 4,
 "nbformat_minor": 2
}
