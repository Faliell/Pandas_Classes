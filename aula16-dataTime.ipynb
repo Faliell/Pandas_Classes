{
 "cells": [
  {
   "cell_type": "code",
   "execution_count": 1,
   "metadata": {},
   "outputs": [],
   "source": [
    "import pandas as pd\n",
    "import numpy as np\n",
    "import datetime"
   ]
  },
  {
   "cell_type": "code",
   "execution_count": 5,
   "metadata": {},
   "outputs": [
    {
     "data": {
      "text/plain": [
       "Timestamp('2024-06-16 04:30:10')"
      ]
     },
     "execution_count": 5,
     "metadata": {},
     "output_type": "execute_result"
    }
   ],
   "source": [
    "ts = pd.Timestamp(\"2024-06-16 04:30:10\") # objeto timestamp\n",
    "ts"
   ]
  },
  {
   "cell_type": "code",
   "execution_count": 6,
   "metadata": {},
   "outputs": [
    {
     "data": {
      "text/plain": [
       "datetime.datetime(2024, 6, 1, 4, 30, 10)"
      ]
     },
     "execution_count": 6,
     "metadata": {},
     "output_type": "execute_result"
    }
   ],
   "source": [
    "datetime.datetime(2024,6,1,4,30,10) # objeto datetime"
   ]
  },
  {
   "cell_type": "code",
   "execution_count": 8,
   "metadata": {},
   "outputs": [
    {
     "data": {
      "text/plain": [
       "Timestamp('2024-06-17 06:34:12.593690')"
      ]
     },
     "execution_count": 8,
     "metadata": {},
     "output_type": "execute_result"
    }
   ],
   "source": [
    "now = pd.Timestamp.now()\n",
    "now"
   ]
  },
  {
   "cell_type": "code",
   "execution_count": 9,
   "metadata": {},
   "outputs": [
    {
     "data": {
      "text/plain": [
       "Timestamp('2024-06-17 06:35:22.113532')"
      ]
     },
     "execution_count": 9,
     "metadata": {},
     "output_type": "execute_result"
    }
   ],
   "source": [
    "# converter datatime em timestamp\n",
    "pd.Timestamp(datetime.datetime.now())"
   ]
  },
  {
   "cell_type": "code",
   "execution_count": 10,
   "metadata": {},
   "outputs": [],
   "source": [
    "data = pd.read_parquet(\"data+files/stock_data.parquet\")"
   ]
  },
  {
   "cell_type": "code",
   "execution_count": 11,
   "metadata": {},
   "outputs": [
    {
     "data": {
      "text/html": [
       "<div>\n",
       "<style scoped>\n",
       "    .dataframe tbody tr th:only-of-type {\n",
       "        vertical-align: middle;\n",
       "    }\n",
       "\n",
       "    .dataframe tbody tr th {\n",
       "        vertical-align: top;\n",
       "    }\n",
       "\n",
       "    .dataframe thead th {\n",
       "        text-align: right;\n",
       "    }\n",
       "</style>\n",
       "<table border=\"1\" class=\"dataframe\">\n",
       "  <thead>\n",
       "    <tr style=\"text-align: right;\">\n",
       "      <th></th>\n",
       "      <th>date</th>\n",
       "      <th>close</th>\n",
       "      <th>symbol</th>\n",
       "    </tr>\n",
       "  </thead>\n",
       "  <tbody>\n",
       "    <tr>\n",
       "      <th>0</th>\n",
       "      <td>2023-09-05</td>\n",
       "      <td>189.585</td>\n",
       "      <td>AAPL</td>\n",
       "    </tr>\n",
       "    <tr>\n",
       "      <th>1</th>\n",
       "      <td>2023-09-01</td>\n",
       "      <td>189.460</td>\n",
       "      <td>AAPL</td>\n",
       "    </tr>\n",
       "    <tr>\n",
       "      <th>2</th>\n",
       "      <td>2023-08-31</td>\n",
       "      <td>187.870</td>\n",
       "      <td>AAPL</td>\n",
       "    </tr>\n",
       "    <tr>\n",
       "      <th>3</th>\n",
       "      <td>2023-08-30</td>\n",
       "      <td>187.650</td>\n",
       "      <td>AAPL</td>\n",
       "    </tr>\n",
       "    <tr>\n",
       "      <th>4</th>\n",
       "      <td>2023-08-29</td>\n",
       "      <td>184.120</td>\n",
       "      <td>AAPL</td>\n",
       "    </tr>\n",
       "    <tr>\n",
       "      <th>...</th>\n",
       "      <td>...</td>\n",
       "      <td>...</td>\n",
       "      <td>...</td>\n",
       "    </tr>\n",
       "    <tr>\n",
       "      <th>61078</th>\n",
       "      <td>1980-03-21</td>\n",
       "      <td>290.000</td>\n",
       "      <td>BRK.A</td>\n",
       "    </tr>\n",
       "    <tr>\n",
       "      <th>61079</th>\n",
       "      <td>1980-03-20</td>\n",
       "      <td>290.000</td>\n",
       "      <td>BRK.A</td>\n",
       "    </tr>\n",
       "    <tr>\n",
       "      <th>61080</th>\n",
       "      <td>1980-03-19</td>\n",
       "      <td>290.000</td>\n",
       "      <td>BRK.A</td>\n",
       "    </tr>\n",
       "    <tr>\n",
       "      <th>61081</th>\n",
       "      <td>1980-03-18</td>\n",
       "      <td>290.000</td>\n",
       "      <td>BRK.A</td>\n",
       "    </tr>\n",
       "    <tr>\n",
       "      <th>61082</th>\n",
       "      <td>1980-03-17</td>\n",
       "      <td>290.000</td>\n",
       "      <td>BRK.A</td>\n",
       "    </tr>\n",
       "  </tbody>\n",
       "</table>\n",
       "<p>61083 rows × 3 columns</p>\n",
       "</div>"
      ],
      "text/plain": [
       "             date    close symbol\n",
       "0      2023-09-05  189.585   AAPL\n",
       "1      2023-09-01  189.460   AAPL\n",
       "2      2023-08-31  187.870   AAPL\n",
       "3      2023-08-30  187.650   AAPL\n",
       "4      2023-08-29  184.120   AAPL\n",
       "...           ...      ...    ...\n",
       "61078  1980-03-21  290.000  BRK.A\n",
       "61079  1980-03-20  290.000  BRK.A\n",
       "61080  1980-03-19  290.000  BRK.A\n",
       "61081  1980-03-18  290.000  BRK.A\n",
       "61082  1980-03-17  290.000  BRK.A\n",
       "\n",
       "[61083 rows x 3 columns]"
      ]
     },
     "execution_count": 11,
     "metadata": {},
     "output_type": "execute_result"
    }
   ],
   "source": [
    "data"
   ]
  },
  {
   "cell_type": "code",
   "execution_count": 12,
   "metadata": {},
   "outputs": [
    {
     "name": "stdout",
     "output_type": "stream",
     "text": [
      "<class 'pandas.core.frame.DataFrame'>\n",
      "RangeIndex: 61083 entries, 0 to 61082\n",
      "Data columns (total 3 columns):\n",
      " #   Column  Non-Null Count  Dtype  \n",
      "---  ------  --------------  -----  \n",
      " 0   date    61083 non-null  object \n",
      " 1   close   61083 non-null  float64\n",
      " 2   symbol  61083 non-null  object \n",
      "dtypes: float64(1), object(2)\n",
      "memory usage: 1.4+ MB\n"
     ]
    }
   ],
   "source": [
    "data.info() # a data está em string"
   ]
  },
  {
   "cell_type": "code",
   "execution_count": 13,
   "metadata": {},
   "outputs": [
    {
     "name": "stdout",
     "output_type": "stream",
     "text": [
      "<class 'pandas.core.frame.DataFrame'>\n",
      "RangeIndex: 61083 entries, 0 to 61082\n",
      "Data columns (total 3 columns):\n",
      " #   Column  Non-Null Count  Dtype         \n",
      "---  ------  --------------  -----         \n",
      " 0   date    61083 non-null  datetime64[ns]\n",
      " 1   close   61083 non-null  float64       \n",
      " 2   symbol  61083 non-null  object        \n",
      "dtypes: datetime64[ns](1), float64(1), object(1)\n",
      "memory usage: 1.4+ MB\n"
     ]
    }
   ],
   "source": [
    "data.date =pd.to_datetime(data.date)\n",
    "data.info()"
   ]
  },
  {
   "cell_type": "code",
   "execution_count": 14,
   "metadata": {},
   "outputs": [
    {
     "data": {
      "text/html": [
       "<div>\n",
       "<style scoped>\n",
       "    .dataframe tbody tr th:only-of-type {\n",
       "        vertical-align: middle;\n",
       "    }\n",
       "\n",
       "    .dataframe tbody tr th {\n",
       "        vertical-align: top;\n",
       "    }\n",
       "\n",
       "    .dataframe thead th {\n",
       "        text-align: right;\n",
       "    }\n",
       "</style>\n",
       "<table border=\"1\" class=\"dataframe\">\n",
       "  <thead>\n",
       "    <tr style=\"text-align: right;\">\n",
       "      <th></th>\n",
       "      <th>date</th>\n",
       "      <th>close</th>\n",
       "      <th>symbol</th>\n",
       "    </tr>\n",
       "  </thead>\n",
       "  <tbody>\n",
       "    <tr>\n",
       "      <th>50012</th>\n",
       "      <td>1973-02-06</td>\n",
       "      <td>0.058838</td>\n",
       "      <td>WMT</td>\n",
       "    </tr>\n",
       "    <tr>\n",
       "      <th>37978</th>\n",
       "      <td>2020-10-21</td>\n",
       "      <td>144.400000</td>\n",
       "      <td>WMT</td>\n",
       "    </tr>\n",
       "  </tbody>\n",
       "</table>\n",
       "</div>"
      ],
      "text/plain": [
       "            date       close symbol\n",
       "50012 1973-02-06    0.058838    WMT\n",
       "37978 2020-10-21  144.400000    WMT"
      ]
     },
     "execution_count": 14,
     "metadata": {},
     "output_type": "execute_result"
    }
   ],
   "source": [
    "data.sample(2)"
   ]
  },
  {
   "cell_type": "markdown",
   "metadata": {},
   "source": [
    "Frequencias de tempo\n",
    "\n",
    "- B - Dias úteis (exclui finais de semana)\n",
    "- C - Dias úteis personalizados\n",
    "- D - Dias calendários\n",
    "- W - Semanas\n",
    "- M - Fim do mês\n",
    "- MS - Início do mês\n",
    "- Q - Fim do trimestre (março, junho, setembro, dezembro)\n",
    "- QS - Início do trimestre\n",
    "- A ou Y - Fim do ano\n",
    "- AS ou YS - Início do ano\n",
    "- BA - Fim do ano comercial (fim do mês de abril, junho, setembro ou dezembro)\n",
    "- BAS - Início do ano comercial\n",
    "- H - Horas\n",
    "- T ou min - Minutos\n",
    "- S - Segundos\n",
    "- L ou ms - Milissegundos\n",
    "- U ou us - Microssegundos\n",
    "- N - Nanosegundos\n"
   ]
  },
  {
   "cell_type": "code",
   "execution_count": 15,
   "metadata": {},
   "outputs": [
    {
     "data": {
      "text/plain": [
       "DatetimeIndex(['2023-01-01 00:00:00', '2023-01-01 00:00:01',\n",
       "               '2023-01-01 00:00:02', '2023-01-01 00:00:03',\n",
       "               '2023-01-01 00:00:04', '2023-01-01 00:00:05',\n",
       "               '2023-01-01 00:00:06', '2023-01-01 00:00:07',\n",
       "               '2023-01-01 00:00:08', '2023-01-01 00:00:09',\n",
       "               ...\n",
       "               '2023-01-01 00:16:30', '2023-01-01 00:16:31',\n",
       "               '2023-01-01 00:16:32', '2023-01-01 00:16:33',\n",
       "               '2023-01-01 00:16:34', '2023-01-01 00:16:35',\n",
       "               '2023-01-01 00:16:36', '2023-01-01 00:16:37',\n",
       "               '2023-01-01 00:16:38', '2023-01-01 00:16:39'],\n",
       "              dtype='datetime64[ns]', length=1000, freq='S')"
      ]
     },
     "execution_count": 15,
     "metadata": {},
     "output_type": "execute_result"
    }
   ],
   "source": [
    "# criar um range de data\n",
    "\n",
    "pd.date_range(\"2023-01-01\", periods=1000, freq=\"S\")"
   ]
  },
  {
   "cell_type": "code",
   "execution_count": 16,
   "metadata": {},
   "outputs": [
    {
     "data": {
      "text/plain": [
       "DatetimeIndex(['2023-01-01 00:00:00', '2023-01-01 00:01:00',\n",
       "               '2023-01-01 00:02:00', '2023-01-01 00:03:00',\n",
       "               '2023-01-01 00:04:00', '2023-01-01 00:05:00',\n",
       "               '2023-01-01 00:06:00', '2023-01-01 00:07:00',\n",
       "               '2023-01-01 00:08:00', '2023-01-01 00:09:00',\n",
       "               ...\n",
       "               '2023-01-01 16:30:00', '2023-01-01 16:31:00',\n",
       "               '2023-01-01 16:32:00', '2023-01-01 16:33:00',\n",
       "               '2023-01-01 16:34:00', '2023-01-01 16:35:00',\n",
       "               '2023-01-01 16:36:00', '2023-01-01 16:37:00',\n",
       "               '2023-01-01 16:38:00', '2023-01-01 16:39:00'],\n",
       "              dtype='datetime64[ns]', length=1000, freq='T')"
      ]
     },
     "execution_count": 16,
     "metadata": {},
     "output_type": "execute_result"
    }
   ],
   "source": [
    "pd.date_range(\"2023-01-01\", periods=1000, freq=\"min\")"
   ]
  },
  {
   "cell_type": "code",
   "execution_count": 19,
   "metadata": {},
   "outputs": [
    {
     "data": {
      "text/plain": [
       "DatetimeIndex(['2023-01-01 00:00:00', '2023-01-01 00:05:00',\n",
       "               '2023-01-01 00:10:00', '2023-01-01 00:15:00',\n",
       "               '2023-01-01 00:20:00', '2023-01-01 00:25:00',\n",
       "               '2023-01-01 00:30:00', '2023-01-01 00:35:00',\n",
       "               '2023-01-01 00:40:00', '2023-01-01 00:45:00',\n",
       "               ...\n",
       "               '2023-01-04 10:30:00', '2023-01-04 10:35:00',\n",
       "               '2023-01-04 10:40:00', '2023-01-04 10:45:00',\n",
       "               '2023-01-04 10:50:00', '2023-01-04 10:55:00',\n",
       "               '2023-01-04 11:00:00', '2023-01-04 11:05:00',\n",
       "               '2023-01-04 11:10:00', '2023-01-04 11:15:00'],\n",
       "              dtype='datetime64[ns]', length=1000, freq='5T')"
      ]
     },
     "execution_count": 19,
     "metadata": {},
     "output_type": "execute_result"
    }
   ],
   "source": [
    "pd.date_range(\"2023-01-01\", periods=1000, freq=\"5min\")"
   ]
  },
  {
   "cell_type": "code",
   "execution_count": 20,
   "metadata": {},
   "outputs": [
    {
     "data": {
      "text/plain": [
       "DatetimeIndex(['2023-01-01', '2023-01-02', '2023-01-03', '2023-01-04',\n",
       "               '2023-01-05', '2023-01-06', '2023-01-07', '2023-01-08',\n",
       "               '2023-01-09', '2023-01-10',\n",
       "               ...\n",
       "               '2025-09-17', '2025-09-18', '2025-09-19', '2025-09-20',\n",
       "               '2025-09-21', '2025-09-22', '2025-09-23', '2025-09-24',\n",
       "               '2025-09-25', '2025-09-26'],\n",
       "              dtype='datetime64[ns]', length=1000, freq='D')"
      ]
     },
     "execution_count": 20,
     "metadata": {},
     "output_type": "execute_result"
    }
   ],
   "source": [
    "pd.date_range(\"2023-01-01\", periods=1000, freq=\"D\")"
   ]
  }
 ],
 "metadata": {
  "kernelspec": {
   "display_name": "base",
   "language": "python",
   "name": "python3"
  },
  "language_info": {
   "codemirror_mode": {
    "name": "ipython",
    "version": 3
   },
   "file_extension": ".py",
   "mimetype": "text/x-python",
   "name": "python",
   "nbconvert_exporter": "python",
   "pygments_lexer": "ipython3",
   "version": "3.11.5"
  }
 },
 "nbformat": 4,
 "nbformat_minor": 2
}
