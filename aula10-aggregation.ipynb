{
 "cells": [
  {
   "cell_type": "markdown",
   "metadata": {},
   "source": [
    "Agregação significa reduzir uma coluna para um numero, sej a max, sum,\n",
    "mean, median ....\n",
    "\n",
    "Transformação muda cada item da coluna"
   ]
  },
  {
   "cell_type": "code",
   "execution_count": 1,
   "metadata": {},
   "outputs": [],
   "source": [
    "import pandas as pd\n",
    "import numpy as np"
   ]
  },
  {
   "cell_type": "markdown",
   "metadata": {},
   "source": [
    "O parâmetro parse_dates do método pd.read_csv do pandas é utilizado para converter automaticamente as colunas especificadas em objetos de data (Timestamp) ao ler um arquivo CSV. "
   ]
  },
  {
   "cell_type": "code",
   "execution_count": 4,
   "metadata": {},
   "outputs": [],
   "source": [
    "data = pd.read_csv(\"data+files/realtor-data.csv\", parse_dates=[\"prev_sold_date\"])"
   ]
  },
  {
   "cell_type": "markdown",
   "metadata": {},
   "source": [
    "NaT (Not a Time) é um valor especial usado no pandas para representar valores ausentes ou inválidos em colunas de data e hora (datetime)"
   ]
  },
  {
   "cell_type": "code",
   "execution_count": 10,
   "metadata": {},
   "outputs": [
    {
     "data": {
      "text/html": [
       "<div>\n",
       "<style scoped>\n",
       "    .dataframe tbody tr th:only-of-type {\n",
       "        vertical-align: middle;\n",
       "    }\n",
       "\n",
       "    .dataframe tbody tr th {\n",
       "        vertical-align: top;\n",
       "    }\n",
       "\n",
       "    .dataframe thead th {\n",
       "        text-align: right;\n",
       "    }\n",
       "</style>\n",
       "<table border=\"1\" class=\"dataframe\">\n",
       "  <thead>\n",
       "    <tr style=\"text-align: right;\">\n",
       "      <th></th>\n",
       "      <th>status</th>\n",
       "      <th>bed</th>\n",
       "      <th>bath</th>\n",
       "      <th>acre_lot</th>\n",
       "      <th>city</th>\n",
       "      <th>state</th>\n",
       "      <th>zip_code</th>\n",
       "      <th>house_size</th>\n",
       "      <th>prev_sold_date</th>\n",
       "      <th>price</th>\n",
       "    </tr>\n",
       "  </thead>\n",
       "  <tbody>\n",
       "    <tr>\n",
       "      <th>883165</th>\n",
       "      <td>for_sale</td>\n",
       "      <td>2.0</td>\n",
       "      <td>2.0</td>\n",
       "      <td>NaN</td>\n",
       "      <td>Manhattan</td>\n",
       "      <td>New York</td>\n",
       "      <td>10025.0</td>\n",
       "      <td>NaN</td>\n",
       "      <td>NaT</td>\n",
       "      <td>1385000.0</td>\n",
       "    </tr>\n",
       "    <tr>\n",
       "      <th>639297</th>\n",
       "      <td>for_sale</td>\n",
       "      <td>3.0</td>\n",
       "      <td>3.0</td>\n",
       "      <td>0.11</td>\n",
       "      <td>Philadelphia</td>\n",
       "      <td>Pennsylvania</td>\n",
       "      <td>19111.0</td>\n",
       "      <td>1698.0</td>\n",
       "      <td>1988-11-04</td>\n",
       "      <td>279900.0</td>\n",
       "    </tr>\n",
       "  </tbody>\n",
       "</table>\n",
       "</div>"
      ],
      "text/plain": [
       "          status  bed  bath  acre_lot          city         state  zip_code  \\\n",
       "883165  for_sale  2.0   2.0       NaN     Manhattan      New York   10025.0   \n",
       "639297  for_sale  3.0   3.0      0.11  Philadelphia  Pennsylvania   19111.0   \n",
       "\n",
       "        house_size prev_sold_date      price  \n",
       "883165         NaN            NaT  1385000.0  \n",
       "639297      1698.0     1988-11-04   279900.0  "
      ]
     },
     "execution_count": 10,
     "metadata": {},
     "output_type": "execute_result"
    }
   ],
   "source": [
    "data.sample(2)"
   ]
  },
  {
   "cell_type": "code",
   "execution_count": 8,
   "metadata": {},
   "outputs": [
    {
     "data": {
      "text/plain": [
       "877438.1583343924"
      ]
     },
     "execution_count": 8,
     "metadata": {},
     "output_type": "execute_result"
    }
   ],
   "source": [
    "data.price.mean()"
   ]
  },
  {
   "cell_type": "code",
   "execution_count": 9,
   "metadata": {},
   "outputs": [
    {
     "data": {
      "text/plain": [
       "475000.0"
      ]
     },
     "execution_count": 9,
     "metadata": {},
     "output_type": "execute_result"
    }
   ],
   "source": [
    "data.price.median()"
   ]
  },
  {
   "cell_type": "markdown",
   "metadata": {},
   "source": [
    "\n",
    "\n",
    "Média: É sensível a valores extremos (outliers). Um valor muito alto ou muito baixo pode distorcer a média.\n",
    "Mediana: Não é afetada por outliers. Ela representa o valor central do conjunto de dados, independentemente de valores extremos.\n",
    "\n",
    "\n",
    "Média: Representa o valor \"médio\" esperado dos dados. É útil quando os dados são simetricamente distribuídos.\n",
    "Mediana: Representa o ponto médio dos dados. É mais representativa em distribuições assimétricas ou com outliers.\n",
    "\n",
    "\n",
    "Média: Usada quando os dados são uniformemente distribuídos e não têm outliers significativos. Exemplo: médias de notas escolares.\n",
    "Mediana: Usada quando os dados são assimétricos ou possuem outliers. Exemplo: renda familiar, onde poucos valores muito altos podem distorcer a média."
   ]
  },
  {
   "cell_type": "code",
   "execution_count": 12,
   "metadata": {},
   "outputs": [
    {
     "data": {
      "text/plain": [
       "bed                3.00\n",
       "bath               2.00\n",
       "acre_lot           0.29\n",
       "house_size      1650.00\n",
       "price         475000.00\n",
       "dtype: float64"
      ]
     },
     "execution_count": 12,
     "metadata": {},
     "output_type": "execute_result"
    }
   ],
   "source": [
    "data[[\"bed\",\"bath\",\"acre_lot\", \"house_size\", \"price\"]].median()"
   ]
  },
  {
   "cell_type": "markdown",
   "metadata": {},
   "source": [
    "std é a abreviação de desvio padrão (standard deviation, em inglês). "
   ]
  },
  {
   "cell_type": "code",
   "execution_count": 13,
   "metadata": {},
   "outputs": [
    {
     "data": {
      "text/plain": [
       "mean      8.774382e+05\n",
       "median    4.750000e+05\n",
       "max       8.750000e+08\n",
       "min       0.000000e+00\n",
       "std       2.457698e+06\n",
       "Name: price, dtype: float64"
      ]
     },
     "execution_count": 13,
     "metadata": {},
     "output_type": "execute_result"
    }
   ],
   "source": [
    "# agg() == aggregate()\n",
    "data[\"price\"].agg([\"mean\",\"median\", \"max\", \"min\", \"std\"])"
   ]
  }
 ],
 "metadata": {
  "kernelspec": {
   "display_name": "base",
   "language": "python",
   "name": "python3"
  },
  "language_info": {
   "codemirror_mode": {
    "name": "ipython",
    "version": 3
   },
   "file_extension": ".py",
   "mimetype": "text/x-python",
   "name": "python",
   "nbconvert_exporter": "python",
   "pygments_lexer": "ipython3",
   "version": "3.11.5"
  }
 },
 "nbformat": 4,
 "nbformat_minor": 2
}
