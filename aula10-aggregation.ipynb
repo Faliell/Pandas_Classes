{
 "cells": [
  {
   "cell_type": "markdown",
   "metadata": {},
   "source": [
    "Agregação significa reduzir uma coluna para um numero, sej a max, sum,\n",
    "mean, median ....\n",
    "\n",
    "Transformação muda cada item da coluna"
   ]
  },
  {
   "cell_type": "code",
   "execution_count": 1,
   "metadata": {},
   "outputs": [],
   "source": [
    "import pandas as pd\n",
    "import numpy as np"
   ]
  },
  {
   "cell_type": "markdown",
   "metadata": {},
   "source": [
    "O parâmetro parse_dates do método pd.read_csv do pandas é utilizado para converter automaticamente as colunas especificadas em objetos de data (Timestamp) ao ler um arquivo CSV. "
   ]
  },
  {
   "cell_type": "code",
   "execution_count": 4,
   "metadata": {},
   "outputs": [],
   "source": [
    "data = pd.read_csv(\"data+files/realtor-data.csv\", parse_dates=[\"prev_sold_date\"])"
   ]
  },
  {
   "cell_type": "markdown",
   "metadata": {},
   "source": [
    "NaT (Not a Time) é um valor especial usado no pandas para representar valores ausentes ou inválidos em colunas de data e hora (datetime)"
   ]
  },
  {
   "cell_type": "code",
   "execution_count": 10,
   "metadata": {},
   "outputs": [
    {
     "data": {
      "text/html": [
       "<div>\n",
       "<style scoped>\n",
       "    .dataframe tbody tr th:only-of-type {\n",
       "        vertical-align: middle;\n",
       "    }\n",
       "\n",
       "    .dataframe tbody tr th {\n",
       "        vertical-align: top;\n",
       "    }\n",
       "\n",
       "    .dataframe thead th {\n",
       "        text-align: right;\n",
       "    }\n",
       "</style>\n",
       "<table border=\"1\" class=\"dataframe\">\n",
       "  <thead>\n",
       "    <tr style=\"text-align: right;\">\n",
       "      <th></th>\n",
       "      <th>status</th>\n",
       "      <th>bed</th>\n",
       "      <th>bath</th>\n",
       "      <th>acre_lot</th>\n",
       "      <th>city</th>\n",
       "      <th>state</th>\n",
       "      <th>zip_code</th>\n",
       "      <th>house_size</th>\n",
       "      <th>prev_sold_date</th>\n",
       "      <th>price</th>\n",
       "    </tr>\n",
       "  </thead>\n",
       "  <tbody>\n",
       "    <tr>\n",
       "      <th>883165</th>\n",
       "      <td>for_sale</td>\n",
       "      <td>2.0</td>\n",
       "      <td>2.0</td>\n",
       "      <td>NaN</td>\n",
       "      <td>Manhattan</td>\n",
       "      <td>New York</td>\n",
       "      <td>10025.0</td>\n",
       "      <td>NaN</td>\n",
       "      <td>NaT</td>\n",
       "      <td>1385000.0</td>\n",
       "    </tr>\n",
       "    <tr>\n",
       "      <th>639297</th>\n",
       "      <td>for_sale</td>\n",
       "      <td>3.0</td>\n",
       "      <td>3.0</td>\n",
       "      <td>0.11</td>\n",
       "      <td>Philadelphia</td>\n",
       "      <td>Pennsylvania</td>\n",
       "      <td>19111.0</td>\n",
       "      <td>1698.0</td>\n",
       "      <td>1988-11-04</td>\n",
       "      <td>279900.0</td>\n",
       "    </tr>\n",
       "  </tbody>\n",
       "</table>\n",
       "</div>"
      ],
      "text/plain": [
       "          status  bed  bath  acre_lot          city         state  zip_code  \\\n",
       "883165  for_sale  2.0   2.0       NaN     Manhattan      New York   10025.0   \n",
       "639297  for_sale  3.0   3.0      0.11  Philadelphia  Pennsylvania   19111.0   \n",
       "\n",
       "        house_size prev_sold_date      price  \n",
       "883165         NaN            NaT  1385000.0  \n",
       "639297      1698.0     1988-11-04   279900.0  "
      ]
     },
     "execution_count": 10,
     "metadata": {},
     "output_type": "execute_result"
    }
   ],
   "source": [
    "data.sample(2)"
   ]
  },
  {
   "cell_type": "code",
   "execution_count": 8,
   "metadata": {},
   "outputs": [
    {
     "data": {
      "text/plain": [
       "877438.1583343924"
      ]
     },
     "execution_count": 8,
     "metadata": {},
     "output_type": "execute_result"
    }
   ],
   "source": [
    "data.price.mean()"
   ]
  },
  {
   "cell_type": "code",
   "execution_count": 9,
   "metadata": {},
   "outputs": [
    {
     "data": {
      "text/plain": [
       "475000.0"
      ]
     },
     "execution_count": 9,
     "metadata": {},
     "output_type": "execute_result"
    }
   ],
   "source": [
    "data.price.median()"
   ]
  },
  {
   "cell_type": "markdown",
   "metadata": {},
   "source": [
    "\n",
    "\n",
    "Média: É sensível a valores extremos (outliers). Um valor muito alto ou muito baixo pode distorcer a média.\n",
    "Mediana: Não é afetada por outliers. Ela representa o valor central do conjunto de dados, independentemente de valores extremos.\n",
    "\n",
    "\n",
    "Média: Representa o valor \"médio\" esperado dos dados. É útil quando os dados são simetricamente distribuídos.\n",
    "Mediana: Representa o ponto médio dos dados. É mais representativa em distribuições assimétricas ou com outliers.\n",
    "\n",
    "\n",
    "Média: Usada quando os dados são uniformemente distribuídos e não têm outliers significativos. Exemplo: médias de notas escolares.\n",
    "Mediana: Usada quando os dados são assimétricos ou possuem outliers. Exemplo: renda familiar, onde poucos valores muito altos podem distorcer a média."
   ]
  },
  {
   "cell_type": "code",
   "execution_count": 12,
   "metadata": {},
   "outputs": [
    {
     "data": {
      "text/plain": [
       "bed                3.00\n",
       "bath               2.00\n",
       "acre_lot           0.29\n",
       "house_size      1650.00\n",
       "price         475000.00\n",
       "dtype: float64"
      ]
     },
     "execution_count": 12,
     "metadata": {},
     "output_type": "execute_result"
    }
   ],
   "source": [
    "data[[\"bed\",\"bath\",\"acre_lot\", \"house_size\", \"price\"]].median()"
   ]
  },
  {
   "cell_type": "markdown",
   "metadata": {},
   "source": [
    "std é a abreviação de desvio padrão (standard deviation, em inglês). "
   ]
  },
  {
   "cell_type": "code",
   "execution_count": 13,
   "metadata": {},
   "outputs": [
    {
     "data": {
      "text/plain": [
       "mean      8.774382e+05\n",
       "median    4.750000e+05\n",
       "max       8.750000e+08\n",
       "min       0.000000e+00\n",
       "std       2.457698e+06\n",
       "Name: price, dtype: float64"
      ]
     },
     "execution_count": 13,
     "metadata": {},
     "output_type": "execute_result"
    }
   ],
   "source": [
    "# agg() == aggregate()\n",
    "data[\"price\"].agg([\"mean\",\"median\", \"max\", \"min\", \"std\"])"
   ]
  },
  {
   "cell_type": "code",
   "execution_count": 14,
   "metadata": {},
   "outputs": [
    {
     "data": {
      "text/html": [
       "<div>\n",
       "<style scoped>\n",
       "    .dataframe tbody tr th:only-of-type {\n",
       "        vertical-align: middle;\n",
       "    }\n",
       "\n",
       "    .dataframe tbody tr th {\n",
       "        vertical-align: top;\n",
       "    }\n",
       "\n",
       "    .dataframe thead th {\n",
       "        text-align: right;\n",
       "    }\n",
       "</style>\n",
       "<table border=\"1\" class=\"dataframe\">\n",
       "  <thead>\n",
       "    <tr style=\"text-align: right;\">\n",
       "      <th></th>\n",
       "      <th>bed</th>\n",
       "      <th>bath</th>\n",
       "      <th>acre_lot</th>\n",
       "      <th>house_size</th>\n",
       "      <th>price</th>\n",
       "    </tr>\n",
       "  </thead>\n",
       "  <tbody>\n",
       "    <tr>\n",
       "      <th>mean</th>\n",
       "      <td>3.332190</td>\n",
       "      <td>2.484236</td>\n",
       "      <td>17.317292</td>\n",
       "      <td>2.138437e+03</td>\n",
       "      <td>8.774382e+05</td>\n",
       "    </tr>\n",
       "    <tr>\n",
       "      <th>median</th>\n",
       "      <td>3.000000</td>\n",
       "      <td>2.000000</td>\n",
       "      <td>0.290000</td>\n",
       "      <td>1.650000e+03</td>\n",
       "      <td>4.750000e+05</td>\n",
       "    </tr>\n",
       "    <tr>\n",
       "      <th>max</th>\n",
       "      <td>123.000000</td>\n",
       "      <td>198.000000</td>\n",
       "      <td>100000.000000</td>\n",
       "      <td>1.450112e+06</td>\n",
       "      <td>8.750000e+08</td>\n",
       "    </tr>\n",
       "    <tr>\n",
       "      <th>min</th>\n",
       "      <td>1.000000</td>\n",
       "      <td>1.000000</td>\n",
       "      <td>0.000000</td>\n",
       "      <td>1.000000e+02</td>\n",
       "      <td>0.000000e+00</td>\n",
       "    </tr>\n",
       "    <tr>\n",
       "      <th>std</th>\n",
       "      <td>2.065312</td>\n",
       "      <td>1.931622</td>\n",
       "      <td>970.707378</td>\n",
       "      <td>3.046600e+03</td>\n",
       "      <td>2.457698e+06</td>\n",
       "    </tr>\n",
       "  </tbody>\n",
       "</table>\n",
       "</div>"
      ],
      "text/plain": [
       "               bed        bath       acre_lot    house_size         price\n",
       "mean      3.332190    2.484236      17.317292  2.138437e+03  8.774382e+05\n",
       "median    3.000000    2.000000       0.290000  1.650000e+03  4.750000e+05\n",
       "max     123.000000  198.000000  100000.000000  1.450112e+06  8.750000e+08\n",
       "min       1.000000    1.000000       0.000000  1.000000e+02  0.000000e+00\n",
       "std       2.065312    1.931622     970.707378  3.046600e+03  2.457698e+06"
      ]
     },
     "execution_count": 14,
     "metadata": {},
     "output_type": "execute_result"
    }
   ],
   "source": [
    "data[[\"bed\",\"bath\",\"acre_lot\", \"house_size\", \"price\"]].agg([\"mean\",\"median\", \"max\", \"min\", \"std\"])"
   ]
  },
  {
   "cell_type": "code",
   "execution_count": 18,
   "metadata": {},
   "outputs": [
    {
     "data": {
      "text/plain": [
       "bed              3.0\n",
       "bath             1.0\n",
       "house_size    1650.0\n",
       "dtype: float64"
      ]
     },
     "execution_count": 18,
     "metadata": {},
     "output_type": "execute_result"
    }
   ],
   "source": [
    "#funcoes diferentes para cada coluna\n",
    "data.agg({\"bed\":\"median\", \"bath\":\"max\", \"bath\":\"min\", \"house_size\":\"median\"})"
   ]
  },
  {
   "cell_type": "code",
   "execution_count": 21,
   "metadata": {},
   "outputs": [
    {
     "data": {
      "text/plain": [
       "idxmax       572886.0\n",
       "max       875000000.0\n",
       "Name: price, dtype: float64"
      ]
     },
     "execution_count": 21,
     "metadata": {},
     "output_type": "execute_result"
    }
   ],
   "source": [
    "# O método idxmax retorna o index do primeiro valor máximo\n",
    "data.price.agg([\"idxmax\",\"max\"])"
   ]
  },
  {
   "cell_type": "code",
   "execution_count": 22,
   "metadata": {},
   "outputs": [
    {
     "data": {
      "text/plain": [
       "status                       for_sale\n",
       "bed                               9.0\n",
       "bath                              2.0\n",
       "acre_lot                          NaN\n",
       "city                            Bronx\n",
       "state                        New York\n",
       "zip_code                      10458.0\n",
       "house_size                     2440.0\n",
       "prev_sold_date    2002-12-30 00:00:00\n",
       "price                     875000000.0\n",
       "Name: 572886, dtype: object"
      ]
     },
     "execution_count": 22,
     "metadata": {},
     "output_type": "execute_result"
    }
   ],
   "source": [
    "data.loc[data.price.agg(\"idxmax\")]"
   ]
  },
  {
   "cell_type": "code",
   "execution_count": 23,
   "metadata": {},
   "outputs": [
    {
     "data": {
      "text/plain": [
       "status              for_sale\n",
       "bed                      NaN\n",
       "bath                     NaN\n",
       "acre_lot                0.17\n",
       "city                Paterson\n",
       "state             New Jersey\n",
       "zip_code              7504.0\n",
       "house_size            4500.0\n",
       "prev_sold_date           NaT\n",
       "price                    0.0\n",
       "Name: 465599, dtype: object"
      ]
     },
     "execution_count": 23,
     "metadata": {},
     "output_type": "execute_result"
    }
   ],
   "source": [
    "data.loc[data.price.agg(\"idxmin\")]"
   ]
  },
  {
   "cell_type": "code",
   "execution_count": 27,
   "metadata": {},
   "outputs": [
    {
     "data": {
      "text/plain": [
       "size     904966\n",
       "count    904895\n",
       "Name: price, dtype: int64"
      ]
     },
     "execution_count": 27,
     "metadata": {},
     "output_type": "execute_result"
    }
   ],
   "source": [
    "# Count: 'count' - Contagem de valores não nulos.\n",
    "# Size: 'size' - Tamanho do grupo (inclui nulos).\n",
    "data.price.agg([\"size\",\"count\"])"
   ]
  },
  {
   "cell_type": "code",
   "execution_count": 28,
   "metadata": {},
   "outputs": [
    {
     "data": {
      "text/html": [
       "<div>\n",
       "<style scoped>\n",
       "    .dataframe tbody tr th:only-of-type {\n",
       "        vertical-align: middle;\n",
       "    }\n",
       "\n",
       "    .dataframe tbody tr th {\n",
       "        vertical-align: top;\n",
       "    }\n",
       "\n",
       "    .dataframe thead th {\n",
       "        text-align: right;\n",
       "    }\n",
       "</style>\n",
       "<table border=\"1\" class=\"dataframe\">\n",
       "  <thead>\n",
       "    <tr style=\"text-align: right;\">\n",
       "      <th></th>\n",
       "      <th>status</th>\n",
       "      <th>bed</th>\n",
       "      <th>bath</th>\n",
       "      <th>acre_lot</th>\n",
       "      <th>city</th>\n",
       "      <th>state</th>\n",
       "      <th>zip_code</th>\n",
       "      <th>house_size</th>\n",
       "      <th>prev_sold_date</th>\n",
       "      <th>price</th>\n",
       "    </tr>\n",
       "  </thead>\n",
       "  <tbody>\n",
       "    <tr>\n",
       "      <th>619434</th>\n",
       "      <td>ready_to_build</td>\n",
       "      <td>4.0</td>\n",
       "      <td>NaN</td>\n",
       "      <td>NaN</td>\n",
       "      <td>Medford</td>\n",
       "      <td>New Jersey</td>\n",
       "      <td>8055.0</td>\n",
       "      <td>2244.0</td>\n",
       "      <td>NaT</td>\n",
       "      <td>NaN</td>\n",
       "    </tr>\n",
       "    <tr>\n",
       "      <th>619444</th>\n",
       "      <td>ready_to_build</td>\n",
       "      <td>3.0</td>\n",
       "      <td>NaN</td>\n",
       "      <td>NaN</td>\n",
       "      <td>Mount Laurel</td>\n",
       "      <td>New Jersey</td>\n",
       "      <td>8054.0</td>\n",
       "      <td>2224.0</td>\n",
       "      <td>NaT</td>\n",
       "      <td>NaN</td>\n",
       "    </tr>\n",
       "    <tr>\n",
       "      <th>619445</th>\n",
       "      <td>ready_to_build</td>\n",
       "      <td>3.0</td>\n",
       "      <td>NaN</td>\n",
       "      <td>NaN</td>\n",
       "      <td>Mount Laurel</td>\n",
       "      <td>New Jersey</td>\n",
       "      <td>8054.0</td>\n",
       "      <td>2270.0</td>\n",
       "      <td>NaT</td>\n",
       "      <td>NaN</td>\n",
       "    </tr>\n",
       "    <tr>\n",
       "      <th>620249</th>\n",
       "      <td>ready_to_build</td>\n",
       "      <td>2.0</td>\n",
       "      <td>NaN</td>\n",
       "      <td>NaN</td>\n",
       "      <td>Moorestown</td>\n",
       "      <td>New Jersey</td>\n",
       "      <td>8057.0</td>\n",
       "      <td>1748.0</td>\n",
       "      <td>NaT</td>\n",
       "      <td>NaN</td>\n",
       "    </tr>\n",
       "    <tr>\n",
       "      <th>620325</th>\n",
       "      <td>ready_to_build</td>\n",
       "      <td>2.0</td>\n",
       "      <td>NaN</td>\n",
       "      <td>NaN</td>\n",
       "      <td>Moorestown</td>\n",
       "      <td>New Jersey</td>\n",
       "      <td>8057.0</td>\n",
       "      <td>1865.0</td>\n",
       "      <td>NaT</td>\n",
       "      <td>NaN</td>\n",
       "    </tr>\n",
       "    <tr>\n",
       "      <th>...</th>\n",
       "      <td>...</td>\n",
       "      <td>...</td>\n",
       "      <td>...</td>\n",
       "      <td>...</td>\n",
       "      <td>...</td>\n",
       "      <td>...</td>\n",
       "      <td>...</td>\n",
       "      <td>...</td>\n",
       "      <td>...</td>\n",
       "      <td>...</td>\n",
       "    </tr>\n",
       "    <tr>\n",
       "      <th>685698</th>\n",
       "      <td>ready_to_build</td>\n",
       "      <td>5.0</td>\n",
       "      <td>NaN</td>\n",
       "      <td>NaN</td>\n",
       "      <td>Middletown</td>\n",
       "      <td>Delaware</td>\n",
       "      <td>19709.0</td>\n",
       "      <td>2511.0</td>\n",
       "      <td>NaT</td>\n",
       "      <td>NaN</td>\n",
       "    </tr>\n",
       "    <tr>\n",
       "      <th>685699</th>\n",
       "      <td>ready_to_build</td>\n",
       "      <td>5.0</td>\n",
       "      <td>NaN</td>\n",
       "      <td>NaN</td>\n",
       "      <td>Middletown</td>\n",
       "      <td>Delaware</td>\n",
       "      <td>19709.0</td>\n",
       "      <td>2814.0</td>\n",
       "      <td>NaT</td>\n",
       "      <td>NaN</td>\n",
       "    </tr>\n",
       "    <tr>\n",
       "      <th>701728</th>\n",
       "      <td>ready_to_build</td>\n",
       "      <td>3.0</td>\n",
       "      <td>NaN</td>\n",
       "      <td>NaN</td>\n",
       "      <td>Mount Holly</td>\n",
       "      <td>New Jersey</td>\n",
       "      <td>8060.0</td>\n",
       "      <td>2208.0</td>\n",
       "      <td>NaT</td>\n",
       "      <td>NaN</td>\n",
       "    </tr>\n",
       "    <tr>\n",
       "      <th>702663</th>\n",
       "      <td>ready_to_build</td>\n",
       "      <td>4.0</td>\n",
       "      <td>NaN</td>\n",
       "      <td>NaN</td>\n",
       "      <td>Medford</td>\n",
       "      <td>New Jersey</td>\n",
       "      <td>8055.0</td>\n",
       "      <td>2244.0</td>\n",
       "      <td>NaT</td>\n",
       "      <td>NaN</td>\n",
       "    </tr>\n",
       "    <tr>\n",
       "      <th>703119</th>\n",
       "      <td>ready_to_build</td>\n",
       "      <td>3.0</td>\n",
       "      <td>NaN</td>\n",
       "      <td>NaN</td>\n",
       "      <td>Mount Holly</td>\n",
       "      <td>New Jersey</td>\n",
       "      <td>8060.0</td>\n",
       "      <td>2208.0</td>\n",
       "      <td>NaT</td>\n",
       "      <td>NaN</td>\n",
       "    </tr>\n",
       "  </tbody>\n",
       "</table>\n",
       "<p>71 rows × 10 columns</p>\n",
       "</div>"
      ],
      "text/plain": [
       "                status  bed  bath  acre_lot          city       state  \\\n",
       "619434  ready_to_build  4.0   NaN       NaN       Medford  New Jersey   \n",
       "619444  ready_to_build  3.0   NaN       NaN  Mount Laurel  New Jersey   \n",
       "619445  ready_to_build  3.0   NaN       NaN  Mount Laurel  New Jersey   \n",
       "620249  ready_to_build  2.0   NaN       NaN    Moorestown  New Jersey   \n",
       "620325  ready_to_build  2.0   NaN       NaN    Moorestown  New Jersey   \n",
       "...                ...  ...   ...       ...           ...         ...   \n",
       "685698  ready_to_build  5.0   NaN       NaN    Middletown    Delaware   \n",
       "685699  ready_to_build  5.0   NaN       NaN    Middletown    Delaware   \n",
       "701728  ready_to_build  3.0   NaN       NaN   Mount Holly  New Jersey   \n",
       "702663  ready_to_build  4.0   NaN       NaN       Medford  New Jersey   \n",
       "703119  ready_to_build  3.0   NaN       NaN   Mount Holly  New Jersey   \n",
       "\n",
       "        zip_code  house_size prev_sold_date  price  \n",
       "619434    8055.0      2244.0            NaT    NaN  \n",
       "619444    8054.0      2224.0            NaT    NaN  \n",
       "619445    8054.0      2270.0            NaT    NaN  \n",
       "620249    8057.0      1748.0            NaT    NaN  \n",
       "620325    8057.0      1865.0            NaT    NaN  \n",
       "...          ...         ...            ...    ...  \n",
       "685698   19709.0      2511.0            NaT    NaN  \n",
       "685699   19709.0      2814.0            NaT    NaN  \n",
       "701728    8060.0      2208.0            NaT    NaN  \n",
       "702663    8055.0      2244.0            NaT    NaN  \n",
       "703119    8060.0      2208.0            NaT    NaN  \n",
       "\n",
       "[71 rows x 10 columns]"
      ]
     },
     "execution_count": 28,
     "metadata": {},
     "output_type": "execute_result"
    }
   ],
   "source": [
    "data.loc[data.price.isna()]"
   ]
  },
  {
   "cell_type": "code",
   "execution_count": 30,
   "metadata": {},
   "outputs": [
    {
     "data": {
      "text/html": [
       "<div>\n",
       "<style scoped>\n",
       "    .dataframe tbody tr th:only-of-type {\n",
       "        vertical-align: middle;\n",
       "    }\n",
       "\n",
       "    .dataframe tbody tr th {\n",
       "        vertical-align: top;\n",
       "    }\n",
       "\n",
       "    .dataframe thead th {\n",
       "        text-align: right;\n",
       "    }\n",
       "</style>\n",
       "<table border=\"1\" class=\"dataframe\">\n",
       "  <thead>\n",
       "    <tr style=\"text-align: right;\">\n",
       "      <th></th>\n",
       "      <th>bed</th>\n",
       "      <th>bath</th>\n",
       "      <th>price</th>\n",
       "    </tr>\n",
       "  </thead>\n",
       "  <tbody>\n",
       "    <tr>\n",
       "      <th>var</th>\n",
       "      <td>4.265513e+00</td>\n",
       "      <td>3.731165e+00</td>\n",
       "      <td>6.040279e+12</td>\n",
       "    </tr>\n",
       "    <tr>\n",
       "      <th>sem</th>\n",
       "      <td>2.345846e-03</td>\n",
       "      <td>2.171758e-03</td>\n",
       "      <td>2.583625e+03</td>\n",
       "    </tr>\n",
       "    <tr>\n",
       "      <th>std</th>\n",
       "      <td>2.065312e+00</td>\n",
       "      <td>1.931622e+00</td>\n",
       "      <td>2.457698e+06</td>\n",
       "    </tr>\n",
       "    <tr>\n",
       "      <th>skew</th>\n",
       "      <td>8.755577e+00</td>\n",
       "      <td>3.389897e+01</td>\n",
       "      <td>1.551964e+02</td>\n",
       "    </tr>\n",
       "    <tr>\n",
       "      <th>sum</th>\n",
       "      <td>2.582867e+06</td>\n",
       "      <td>1.965234e+06</td>\n",
       "      <td>7.939894e+11</td>\n",
       "    </tr>\n",
       "  </tbody>\n",
       "</table>\n",
       "</div>"
      ],
      "text/plain": [
       "               bed          bath         price\n",
       "var   4.265513e+00  3.731165e+00  6.040279e+12\n",
       "sem   2.345846e-03  2.171758e-03  2.583625e+03\n",
       "std   2.065312e+00  1.931622e+00  2.457698e+06\n",
       "skew  8.755577e+00  3.389897e+01  1.551964e+02\n",
       "sum   2.582867e+06  1.965234e+06  7.939894e+11"
      ]
     },
     "execution_count": 30,
     "metadata": {},
     "output_type": "execute_result"
    }
   ],
   "source": [
    "#statitics\n",
    "data[[\"bed\",\"bath\",\"price\"]].agg([\"var\",\"sem\",\"std\",\"skew\",\"sum\"])"
   ]
  },
  {
   "cell_type": "code",
   "execution_count": 36,
   "metadata": {},
   "outputs": [
    {
     "data": {
      "text/html": [
       "<div>\n",
       "<style scoped>\n",
       "    .dataframe tbody tr th:only-of-type {\n",
       "        vertical-align: middle;\n",
       "    }\n",
       "\n",
       "    .dataframe tbody tr th {\n",
       "        vertical-align: top;\n",
       "    }\n",
       "\n",
       "    .dataframe thead th {\n",
       "        text-align: right;\n",
       "    }\n",
       "</style>\n",
       "<table border=\"1\" class=\"dataframe\">\n",
       "  <thead>\n",
       "    <tr style=\"text-align: right;\">\n",
       "      <th></th>\n",
       "      <th>bed</th>\n",
       "      <th>bath</th>\n",
       "      <th>price</th>\n",
       "    </tr>\n",
       "  </thead>\n",
       "  <tbody>\n",
       "    <tr>\n",
       "      <th>mean_less_median</th>\n",
       "      <td>3.321899e-01</td>\n",
       "      <td>4.842355e-01</td>\n",
       "      <td>4.024382e+05</td>\n",
       "    </tr>\n",
       "    <tr>\n",
       "      <th>range</th>\n",
       "      <td>1.220000e+02</td>\n",
       "      <td>1.970000e+02</td>\n",
       "      <td>8.750000e+08</td>\n",
       "    </tr>\n",
       "    <tr>\n",
       "      <th>sum</th>\n",
       "      <td>2.582867e+06</td>\n",
       "      <td>1.965234e+06</td>\n",
       "      <td>7.939894e+11</td>\n",
       "    </tr>\n",
       "  </tbody>\n",
       "</table>\n",
       "</div>"
      ],
      "text/plain": [
       "                           bed          bath         price\n",
       "mean_less_median  3.321899e-01  4.842355e-01  4.024382e+05\n",
       "range             1.220000e+02  1.970000e+02  8.750000e+08\n",
       "sum               2.582867e+06  1.965234e+06  7.939894e+11"
      ]
     },
     "execution_count": 36,
     "metadata": {},
     "output_type": "execute_result"
    }
   ],
   "source": [
    "def mean_less_median(x):\n",
    "    return x.mean() - x.median()\n",
    "\n",
    "def range(x):\n",
    "    return x.max() - x.min()\n",
    "# a funcao tem que transformar em um valos agregado\n",
    "\n",
    "data[[\"bed\",\"bath\",\"price\"]].agg([mean_less_median, range, \"sum\"])# sem \"\"\n"
   ]
  }
 ],
 "metadata": {
  "kernelspec": {
   "display_name": "base",
   "language": "python",
   "name": "python3"
  },
  "language_info": {
   "codemirror_mode": {
    "name": "ipython",
    "version": 3
   },
   "file_extension": ".py",
   "mimetype": "text/x-python",
   "name": "python",
   "nbconvert_exporter": "python",
   "pygments_lexer": "ipython3",
   "version": "3.11.5"
  }
 },
 "nbformat": 4,
 "nbformat_minor": 2
}
